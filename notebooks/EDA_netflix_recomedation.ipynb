{
  "nbformat": 4,
  "nbformat_minor": 0,
  "metadata": {
    "colab": {
      "provenance": [],
      "authorship_tag": "ABX9TyO/g7V8HVjFf5FayKI7/gMM",
      "include_colab_link": true
    },
    "kernelspec": {
      "name": "python3",
      "display_name": "Python 3"
    },
    "language_info": {
      "name": "python"
    }
  },
  "cells": [
    {
      "cell_type": "markdown",
      "metadata": {
        "id": "view-in-github",
        "colab_type": "text"
      },
      "source": [
        "<a href=\"https://colab.research.google.com/github/Roooiz/Classic-ML/blob/main/notebooks/EDA_netflix_recomedation.ipynb\" target=\"_parent\"><img src=\"https://colab.research.google.com/assets/colab-badge.svg\" alt=\"Open In Colab\"/></a>"
      ]
    },
    {
      "cell_type": "markdown",
      "source": [
        "# Импорт библиотек"
      ],
      "metadata": {
        "id": "sY19XDFccx5t"
      }
    },
    {
      "cell_type": "code",
      "execution_count": 1,
      "metadata": {
        "id": "AY3u_9fkaKnl"
      },
      "outputs": [],
      "source": [
        "import numpy as np\n",
        "import pandas as pd\n",
        "import matplotlib.pyplot as plt\n",
        "import seaborn as sns"
      ]
    },
    {
      "cell_type": "markdown",
      "source": [
        "# Загрузка данных"
      ],
      "metadata": {
        "id": "qyIuM-sHc2ZH"
      }
    },
    {
      "cell_type": "code",
      "source": [
        "netflix_overall = pd.read_csv('netflix_titles.csv')\n",
        "netflix_overall.head()"
      ],
      "metadata": {
        "colab": {
          "base_uri": "https://localhost:8080/",
          "height": 704
        },
        "id": "DpKyDd6iaYVt",
        "outputId": "c3ad1f9d-7fde-4308-ee19-7ccd1fb8ef9a"
      },
      "execution_count": 2,
      "outputs": [
        {
          "output_type": "execute_result",
          "data": {
            "text/plain": [
              "  show_id     type                  title         director  \\\n",
              "0      s1    Movie   Dick Johnson Is Dead  Kirsten Johnson   \n",
              "1      s2  TV Show          Blood & Water              NaN   \n",
              "2      s3  TV Show              Ganglands  Julien Leclercq   \n",
              "3      s4  TV Show  Jailbirds New Orleans              NaN   \n",
              "4      s5  TV Show           Kota Factory              NaN   \n",
              "\n",
              "                                                cast        country  \\\n",
              "0                                                NaN  United States   \n",
              "1  Ama Qamata, Khosi Ngema, Gail Mabalane, Thaban...   South Africa   \n",
              "2  Sami Bouajila, Tracy Gotoas, Samuel Jouy, Nabi...            NaN   \n",
              "3                                                NaN            NaN   \n",
              "4  Mayur More, Jitendra Kumar, Ranjan Raj, Alam K...          India   \n",
              "\n",
              "           date_added  release_year rating   duration  \\\n",
              "0  September 25, 2021          2020  PG-13     90 min   \n",
              "1  September 24, 2021          2021  TV-MA  2 Seasons   \n",
              "2  September 24, 2021          2021  TV-MA   1 Season   \n",
              "3  September 24, 2021          2021  TV-MA   1 Season   \n",
              "4  September 24, 2021          2021  TV-MA  2 Seasons   \n",
              "\n",
              "                                           listed_in  \\\n",
              "0                                      Documentaries   \n",
              "1    International TV Shows, TV Dramas, TV Mysteries   \n",
              "2  Crime TV Shows, International TV Shows, TV Act...   \n",
              "3                             Docuseries, Reality TV   \n",
              "4  International TV Shows, Romantic TV Shows, TV ...   \n",
              "\n",
              "                                         description  \n",
              "0  As her father nears the end of his life, filmm...  \n",
              "1  After crossing paths at a party, a Cape Town t...  \n",
              "2  To protect his family from a powerful drug lor...  \n",
              "3  Feuds, flirtations and toilet talk go down amo...  \n",
              "4  In a city of coaching centers known to train I...  "
            ],
            "text/html": [
              "\n",
              "  <div id=\"df-b6c7b262-3409-4e9b-aec7-d27bde18aee3\">\n",
              "    <div class=\"colab-df-container\">\n",
              "      <div>\n",
              "<style scoped>\n",
              "    .dataframe tbody tr th:only-of-type {\n",
              "        vertical-align: middle;\n",
              "    }\n",
              "\n",
              "    .dataframe tbody tr th {\n",
              "        vertical-align: top;\n",
              "    }\n",
              "\n",
              "    .dataframe thead th {\n",
              "        text-align: right;\n",
              "    }\n",
              "</style>\n",
              "<table border=\"1\" class=\"dataframe\">\n",
              "  <thead>\n",
              "    <tr style=\"text-align: right;\">\n",
              "      <th></th>\n",
              "      <th>show_id</th>\n",
              "      <th>type</th>\n",
              "      <th>title</th>\n",
              "      <th>director</th>\n",
              "      <th>cast</th>\n",
              "      <th>country</th>\n",
              "      <th>date_added</th>\n",
              "      <th>release_year</th>\n",
              "      <th>rating</th>\n",
              "      <th>duration</th>\n",
              "      <th>listed_in</th>\n",
              "      <th>description</th>\n",
              "    </tr>\n",
              "  </thead>\n",
              "  <tbody>\n",
              "    <tr>\n",
              "      <th>0</th>\n",
              "      <td>s1</td>\n",
              "      <td>Movie</td>\n",
              "      <td>Dick Johnson Is Dead</td>\n",
              "      <td>Kirsten Johnson</td>\n",
              "      <td>NaN</td>\n",
              "      <td>United States</td>\n",
              "      <td>September 25, 2021</td>\n",
              "      <td>2020</td>\n",
              "      <td>PG-13</td>\n",
              "      <td>90 min</td>\n",
              "      <td>Documentaries</td>\n",
              "      <td>As her father nears the end of his life, filmm...</td>\n",
              "    </tr>\n",
              "    <tr>\n",
              "      <th>1</th>\n",
              "      <td>s2</td>\n",
              "      <td>TV Show</td>\n",
              "      <td>Blood &amp; Water</td>\n",
              "      <td>NaN</td>\n",
              "      <td>Ama Qamata, Khosi Ngema, Gail Mabalane, Thaban...</td>\n",
              "      <td>South Africa</td>\n",
              "      <td>September 24, 2021</td>\n",
              "      <td>2021</td>\n",
              "      <td>TV-MA</td>\n",
              "      <td>2 Seasons</td>\n",
              "      <td>International TV Shows, TV Dramas, TV Mysteries</td>\n",
              "      <td>After crossing paths at a party, a Cape Town t...</td>\n",
              "    </tr>\n",
              "    <tr>\n",
              "      <th>2</th>\n",
              "      <td>s3</td>\n",
              "      <td>TV Show</td>\n",
              "      <td>Ganglands</td>\n",
              "      <td>Julien Leclercq</td>\n",
              "      <td>Sami Bouajila, Tracy Gotoas, Samuel Jouy, Nabi...</td>\n",
              "      <td>NaN</td>\n",
              "      <td>September 24, 2021</td>\n",
              "      <td>2021</td>\n",
              "      <td>TV-MA</td>\n",
              "      <td>1 Season</td>\n",
              "      <td>Crime TV Shows, International TV Shows, TV Act...</td>\n",
              "      <td>To protect his family from a powerful drug lor...</td>\n",
              "    </tr>\n",
              "    <tr>\n",
              "      <th>3</th>\n",
              "      <td>s4</td>\n",
              "      <td>TV Show</td>\n",
              "      <td>Jailbirds New Orleans</td>\n",
              "      <td>NaN</td>\n",
              "      <td>NaN</td>\n",
              "      <td>NaN</td>\n",
              "      <td>September 24, 2021</td>\n",
              "      <td>2021</td>\n",
              "      <td>TV-MA</td>\n",
              "      <td>1 Season</td>\n",
              "      <td>Docuseries, Reality TV</td>\n",
              "      <td>Feuds, flirtations and toilet talk go down amo...</td>\n",
              "    </tr>\n",
              "    <tr>\n",
              "      <th>4</th>\n",
              "      <td>s5</td>\n",
              "      <td>TV Show</td>\n",
              "      <td>Kota Factory</td>\n",
              "      <td>NaN</td>\n",
              "      <td>Mayur More, Jitendra Kumar, Ranjan Raj, Alam K...</td>\n",
              "      <td>India</td>\n",
              "      <td>September 24, 2021</td>\n",
              "      <td>2021</td>\n",
              "      <td>TV-MA</td>\n",
              "      <td>2 Seasons</td>\n",
              "      <td>International TV Shows, Romantic TV Shows, TV ...</td>\n",
              "      <td>In a city of coaching centers known to train I...</td>\n",
              "    </tr>\n",
              "  </tbody>\n",
              "</table>\n",
              "</div>\n",
              "      <button class=\"colab-df-convert\" onclick=\"convertToInteractive('df-b6c7b262-3409-4e9b-aec7-d27bde18aee3')\"\n",
              "              title=\"Convert this dataframe to an interactive table.\"\n",
              "              style=\"display:none;\">\n",
              "        \n",
              "  <svg xmlns=\"http://www.w3.org/2000/svg\" height=\"24px\"viewBox=\"0 0 24 24\"\n",
              "       width=\"24px\">\n",
              "    <path d=\"M0 0h24v24H0V0z\" fill=\"none\"/>\n",
              "    <path d=\"M18.56 5.44l.94 2.06.94-2.06 2.06-.94-2.06-.94-.94-2.06-.94 2.06-2.06.94zm-11 1L8.5 8.5l.94-2.06 2.06-.94-2.06-.94L8.5 2.5l-.94 2.06-2.06.94zm10 10l.94 2.06.94-2.06 2.06-.94-2.06-.94-.94-2.06-.94 2.06-2.06.94z\"/><path d=\"M17.41 7.96l-1.37-1.37c-.4-.4-.92-.59-1.43-.59-.52 0-1.04.2-1.43.59L10.3 9.45l-7.72 7.72c-.78.78-.78 2.05 0 2.83L4 21.41c.39.39.9.59 1.41.59.51 0 1.02-.2 1.41-.59l7.78-7.78 2.81-2.81c.8-.78.8-2.07 0-2.86zM5.41 20L4 18.59l7.72-7.72 1.47 1.35L5.41 20z\"/>\n",
              "  </svg>\n",
              "      </button>\n",
              "      \n",
              "  <style>\n",
              "    .colab-df-container {\n",
              "      display:flex;\n",
              "      flex-wrap:wrap;\n",
              "      gap: 12px;\n",
              "    }\n",
              "\n",
              "    .colab-df-convert {\n",
              "      background-color: #E8F0FE;\n",
              "      border: none;\n",
              "      border-radius: 50%;\n",
              "      cursor: pointer;\n",
              "      display: none;\n",
              "      fill: #1967D2;\n",
              "      height: 32px;\n",
              "      padding: 0 0 0 0;\n",
              "      width: 32px;\n",
              "    }\n",
              "\n",
              "    .colab-df-convert:hover {\n",
              "      background-color: #E2EBFA;\n",
              "      box-shadow: 0px 1px 2px rgba(60, 64, 67, 0.3), 0px 1px 3px 1px rgba(60, 64, 67, 0.15);\n",
              "      fill: #174EA6;\n",
              "    }\n",
              "\n",
              "    [theme=dark] .colab-df-convert {\n",
              "      background-color: #3B4455;\n",
              "      fill: #D2E3FC;\n",
              "    }\n",
              "\n",
              "    [theme=dark] .colab-df-convert:hover {\n",
              "      background-color: #434B5C;\n",
              "      box-shadow: 0px 1px 3px 1px rgba(0, 0, 0, 0.15);\n",
              "      filter: drop-shadow(0px 1px 2px rgba(0, 0, 0, 0.3));\n",
              "      fill: #FFFFFF;\n",
              "    }\n",
              "  </style>\n",
              "\n",
              "      <script>\n",
              "        const buttonEl =\n",
              "          document.querySelector('#df-b6c7b262-3409-4e9b-aec7-d27bde18aee3 button.colab-df-convert');\n",
              "        buttonEl.style.display =\n",
              "          google.colab.kernel.accessAllowed ? 'block' : 'none';\n",
              "\n",
              "        async function convertToInteractive(key) {\n",
              "          const element = document.querySelector('#df-b6c7b262-3409-4e9b-aec7-d27bde18aee3');\n",
              "          const dataTable =\n",
              "            await google.colab.kernel.invokeFunction('convertToInteractive',\n",
              "                                                     [key], {});\n",
              "          if (!dataTable) return;\n",
              "\n",
              "          const docLinkHtml = 'Like what you see? Visit the ' +\n",
              "            '<a target=\"_blank\" href=https://colab.research.google.com/notebooks/data_table.ipynb>data table notebook</a>'\n",
              "            + ' to learn more about interactive tables.';\n",
              "          element.innerHTML = '';\n",
              "          dataTable['output_type'] = 'display_data';\n",
              "          await google.colab.output.renderOutput(dataTable, element);\n",
              "          const docLink = document.createElement('div');\n",
              "          docLink.innerHTML = docLinkHtml;\n",
              "          element.appendChild(docLink);\n",
              "        }\n",
              "      </script>\n",
              "    </div>\n",
              "  </div>\n",
              "  "
            ]
          },
          "metadata": {},
          "execution_count": 2
        }
      ]
    },
    {
      "cell_type": "code",
      "source": [
        "netflix_overall.shape"
      ],
      "metadata": {
        "colab": {
          "base_uri": "https://localhost:8080/"
        },
        "id": "FkSiQaK3b9m-",
        "outputId": "9a868166-ab50-4edb-93be-31648d1c72f0"
      },
      "execution_count": 3,
      "outputs": [
        {
          "output_type": "execute_result",
          "data": {
            "text/plain": [
              "(8807, 12)"
            ]
          },
          "metadata": {},
          "execution_count": 3
        }
      ]
    },
    {
      "cell_type": "markdown",
      "source": [
        "## Проверка пустых значений"
      ],
      "metadata": {
        "id": "ngaUIwHgcsTy"
      }
    },
    {
      "cell_type": "code",
      "source": [
        "netflix_overall.info()"
      ],
      "metadata": {
        "colab": {
          "base_uri": "https://localhost:8080/"
        },
        "id": "bQoMQ3zTclTT",
        "outputId": "a9b75921-e881-4027-cdfa-8f609055a4bf"
      },
      "execution_count": 4,
      "outputs": [
        {
          "output_type": "stream",
          "name": "stdout",
          "text": [
            "<class 'pandas.core.frame.DataFrame'>\n",
            "RangeIndex: 8807 entries, 0 to 8806\n",
            "Data columns (total 12 columns):\n",
            " #   Column        Non-Null Count  Dtype \n",
            "---  ------        --------------  ----- \n",
            " 0   show_id       8807 non-null   object\n",
            " 1   type          8807 non-null   object\n",
            " 2   title         8807 non-null   object\n",
            " 3   director      6173 non-null   object\n",
            " 4   cast          7982 non-null   object\n",
            " 5   country       7976 non-null   object\n",
            " 6   date_added    8797 non-null   object\n",
            " 7   release_year  8807 non-null   int64 \n",
            " 8   rating        8803 non-null   object\n",
            " 9   duration      8804 non-null   object\n",
            " 10  listed_in     8807 non-null   object\n",
            " 11  description   8807 non-null   object\n",
            "dtypes: int64(1), object(11)\n",
            "memory usage: 825.8+ KB\n"
          ]
        }
      ]
    },
    {
      "cell_type": "code",
      "source": [
        "netflix_overall.isnull().sum()"
      ],
      "metadata": {
        "colab": {
          "base_uri": "https://localhost:8080/"
        },
        "id": "GHyCCvshcX41",
        "outputId": "d47e0b9f-81a3-4d00-9fcc-912d7e17607b"
      },
      "execution_count": 5,
      "outputs": [
        {
          "output_type": "execute_result",
          "data": {
            "text/plain": [
              "show_id            0\n",
              "type               0\n",
              "title              0\n",
              "director        2634\n",
              "cast             825\n",
              "country          831\n",
              "date_added        10\n",
              "release_year       0\n",
              "rating             4\n",
              "duration           3\n",
              "listed_in          0\n",
              "description        0\n",
              "dtype: int64"
            ]
          },
          "metadata": {},
          "execution_count": 5
        }
      ]
    },
    {
      "cell_type": "markdown",
      "source": [
        "## Разделение на фильмы и сериалы"
      ],
      "metadata": {
        "id": "9jkte3U3et1p"
      }
    },
    {
      "cell_type": "code",
      "source": [
        "netflix_shows = netflix_overall[netflix_overall['type'] == 'TV Show'].copy()\n",
        "netflix_shows.head()"
      ],
      "metadata": {
        "colab": {
          "base_uri": "https://localhost:8080/",
          "height": 756
        },
        "id": "9PXsUNwAdVW0",
        "outputId": "67e845d4-ab4c-4145-c72d-3619bc1f53c2"
      },
      "execution_count": 6,
      "outputs": [
        {
          "output_type": "execute_result",
          "data": {
            "text/plain": [
              "  show_id     type                  title         director  \\\n",
              "1      s2  TV Show          Blood & Water              NaN   \n",
              "2      s3  TV Show              Ganglands  Julien Leclercq   \n",
              "3      s4  TV Show  Jailbirds New Orleans              NaN   \n",
              "4      s5  TV Show           Kota Factory              NaN   \n",
              "5      s6  TV Show          Midnight Mass    Mike Flanagan   \n",
              "\n",
              "                                                cast       country  \\\n",
              "1  Ama Qamata, Khosi Ngema, Gail Mabalane, Thaban...  South Africa   \n",
              "2  Sami Bouajila, Tracy Gotoas, Samuel Jouy, Nabi...           NaN   \n",
              "3                                                NaN           NaN   \n",
              "4  Mayur More, Jitendra Kumar, Ranjan Raj, Alam K...         India   \n",
              "5  Kate Siegel, Zach Gilford, Hamish Linklater, H...           NaN   \n",
              "\n",
              "           date_added  release_year rating   duration  \\\n",
              "1  September 24, 2021          2021  TV-MA  2 Seasons   \n",
              "2  September 24, 2021          2021  TV-MA   1 Season   \n",
              "3  September 24, 2021          2021  TV-MA   1 Season   \n",
              "4  September 24, 2021          2021  TV-MA  2 Seasons   \n",
              "5  September 24, 2021          2021  TV-MA   1 Season   \n",
              "\n",
              "                                           listed_in  \\\n",
              "1    International TV Shows, TV Dramas, TV Mysteries   \n",
              "2  Crime TV Shows, International TV Shows, TV Act...   \n",
              "3                             Docuseries, Reality TV   \n",
              "4  International TV Shows, Romantic TV Shows, TV ...   \n",
              "5                 TV Dramas, TV Horror, TV Mysteries   \n",
              "\n",
              "                                         description  \n",
              "1  After crossing paths at a party, a Cape Town t...  \n",
              "2  To protect his family from a powerful drug lor...  \n",
              "3  Feuds, flirtations and toilet talk go down amo...  \n",
              "4  In a city of coaching centers known to train I...  \n",
              "5  The arrival of a charismatic young priest brin...  "
            ],
            "text/html": [
              "\n",
              "  <div id=\"df-f058b271-f58c-4433-b0b4-ba28f09d3b6f\">\n",
              "    <div class=\"colab-df-container\">\n",
              "      <div>\n",
              "<style scoped>\n",
              "    .dataframe tbody tr th:only-of-type {\n",
              "        vertical-align: middle;\n",
              "    }\n",
              "\n",
              "    .dataframe tbody tr th {\n",
              "        vertical-align: top;\n",
              "    }\n",
              "\n",
              "    .dataframe thead th {\n",
              "        text-align: right;\n",
              "    }\n",
              "</style>\n",
              "<table border=\"1\" class=\"dataframe\">\n",
              "  <thead>\n",
              "    <tr style=\"text-align: right;\">\n",
              "      <th></th>\n",
              "      <th>show_id</th>\n",
              "      <th>type</th>\n",
              "      <th>title</th>\n",
              "      <th>director</th>\n",
              "      <th>cast</th>\n",
              "      <th>country</th>\n",
              "      <th>date_added</th>\n",
              "      <th>release_year</th>\n",
              "      <th>rating</th>\n",
              "      <th>duration</th>\n",
              "      <th>listed_in</th>\n",
              "      <th>description</th>\n",
              "    </tr>\n",
              "  </thead>\n",
              "  <tbody>\n",
              "    <tr>\n",
              "      <th>1</th>\n",
              "      <td>s2</td>\n",
              "      <td>TV Show</td>\n",
              "      <td>Blood &amp; Water</td>\n",
              "      <td>NaN</td>\n",
              "      <td>Ama Qamata, Khosi Ngema, Gail Mabalane, Thaban...</td>\n",
              "      <td>South Africa</td>\n",
              "      <td>September 24, 2021</td>\n",
              "      <td>2021</td>\n",
              "      <td>TV-MA</td>\n",
              "      <td>2 Seasons</td>\n",
              "      <td>International TV Shows, TV Dramas, TV Mysteries</td>\n",
              "      <td>After crossing paths at a party, a Cape Town t...</td>\n",
              "    </tr>\n",
              "    <tr>\n",
              "      <th>2</th>\n",
              "      <td>s3</td>\n",
              "      <td>TV Show</td>\n",
              "      <td>Ganglands</td>\n",
              "      <td>Julien Leclercq</td>\n",
              "      <td>Sami Bouajila, Tracy Gotoas, Samuel Jouy, Nabi...</td>\n",
              "      <td>NaN</td>\n",
              "      <td>September 24, 2021</td>\n",
              "      <td>2021</td>\n",
              "      <td>TV-MA</td>\n",
              "      <td>1 Season</td>\n",
              "      <td>Crime TV Shows, International TV Shows, TV Act...</td>\n",
              "      <td>To protect his family from a powerful drug lor...</td>\n",
              "    </tr>\n",
              "    <tr>\n",
              "      <th>3</th>\n",
              "      <td>s4</td>\n",
              "      <td>TV Show</td>\n",
              "      <td>Jailbirds New Orleans</td>\n",
              "      <td>NaN</td>\n",
              "      <td>NaN</td>\n",
              "      <td>NaN</td>\n",
              "      <td>September 24, 2021</td>\n",
              "      <td>2021</td>\n",
              "      <td>TV-MA</td>\n",
              "      <td>1 Season</td>\n",
              "      <td>Docuseries, Reality TV</td>\n",
              "      <td>Feuds, flirtations and toilet talk go down amo...</td>\n",
              "    </tr>\n",
              "    <tr>\n",
              "      <th>4</th>\n",
              "      <td>s5</td>\n",
              "      <td>TV Show</td>\n",
              "      <td>Kota Factory</td>\n",
              "      <td>NaN</td>\n",
              "      <td>Mayur More, Jitendra Kumar, Ranjan Raj, Alam K...</td>\n",
              "      <td>India</td>\n",
              "      <td>September 24, 2021</td>\n",
              "      <td>2021</td>\n",
              "      <td>TV-MA</td>\n",
              "      <td>2 Seasons</td>\n",
              "      <td>International TV Shows, Romantic TV Shows, TV ...</td>\n",
              "      <td>In a city of coaching centers known to train I...</td>\n",
              "    </tr>\n",
              "    <tr>\n",
              "      <th>5</th>\n",
              "      <td>s6</td>\n",
              "      <td>TV Show</td>\n",
              "      <td>Midnight Mass</td>\n",
              "      <td>Mike Flanagan</td>\n",
              "      <td>Kate Siegel, Zach Gilford, Hamish Linklater, H...</td>\n",
              "      <td>NaN</td>\n",
              "      <td>September 24, 2021</td>\n",
              "      <td>2021</td>\n",
              "      <td>TV-MA</td>\n",
              "      <td>1 Season</td>\n",
              "      <td>TV Dramas, TV Horror, TV Mysteries</td>\n",
              "      <td>The arrival of a charismatic young priest brin...</td>\n",
              "    </tr>\n",
              "  </tbody>\n",
              "</table>\n",
              "</div>\n",
              "      <button class=\"colab-df-convert\" onclick=\"convertToInteractive('df-f058b271-f58c-4433-b0b4-ba28f09d3b6f')\"\n",
              "              title=\"Convert this dataframe to an interactive table.\"\n",
              "              style=\"display:none;\">\n",
              "        \n",
              "  <svg xmlns=\"http://www.w3.org/2000/svg\" height=\"24px\"viewBox=\"0 0 24 24\"\n",
              "       width=\"24px\">\n",
              "    <path d=\"M0 0h24v24H0V0z\" fill=\"none\"/>\n",
              "    <path d=\"M18.56 5.44l.94 2.06.94-2.06 2.06-.94-2.06-.94-.94-2.06-.94 2.06-2.06.94zm-11 1L8.5 8.5l.94-2.06 2.06-.94-2.06-.94L8.5 2.5l-.94 2.06-2.06.94zm10 10l.94 2.06.94-2.06 2.06-.94-2.06-.94-.94-2.06-.94 2.06-2.06.94z\"/><path d=\"M17.41 7.96l-1.37-1.37c-.4-.4-.92-.59-1.43-.59-.52 0-1.04.2-1.43.59L10.3 9.45l-7.72 7.72c-.78.78-.78 2.05 0 2.83L4 21.41c.39.39.9.59 1.41.59.51 0 1.02-.2 1.41-.59l7.78-7.78 2.81-2.81c.8-.78.8-2.07 0-2.86zM5.41 20L4 18.59l7.72-7.72 1.47 1.35L5.41 20z\"/>\n",
              "  </svg>\n",
              "      </button>\n",
              "      \n",
              "  <style>\n",
              "    .colab-df-container {\n",
              "      display:flex;\n",
              "      flex-wrap:wrap;\n",
              "      gap: 12px;\n",
              "    }\n",
              "\n",
              "    .colab-df-convert {\n",
              "      background-color: #E8F0FE;\n",
              "      border: none;\n",
              "      border-radius: 50%;\n",
              "      cursor: pointer;\n",
              "      display: none;\n",
              "      fill: #1967D2;\n",
              "      height: 32px;\n",
              "      padding: 0 0 0 0;\n",
              "      width: 32px;\n",
              "    }\n",
              "\n",
              "    .colab-df-convert:hover {\n",
              "      background-color: #E2EBFA;\n",
              "      box-shadow: 0px 1px 2px rgba(60, 64, 67, 0.3), 0px 1px 3px 1px rgba(60, 64, 67, 0.15);\n",
              "      fill: #174EA6;\n",
              "    }\n",
              "\n",
              "    [theme=dark] .colab-df-convert {\n",
              "      background-color: #3B4455;\n",
              "      fill: #D2E3FC;\n",
              "    }\n",
              "\n",
              "    [theme=dark] .colab-df-convert:hover {\n",
              "      background-color: #434B5C;\n",
              "      box-shadow: 0px 1px 3px 1px rgba(0, 0, 0, 0.15);\n",
              "      filter: drop-shadow(0px 1px 2px rgba(0, 0, 0, 0.3));\n",
              "      fill: #FFFFFF;\n",
              "    }\n",
              "  </style>\n",
              "\n",
              "      <script>\n",
              "        const buttonEl =\n",
              "          document.querySelector('#df-f058b271-f58c-4433-b0b4-ba28f09d3b6f button.colab-df-convert');\n",
              "        buttonEl.style.display =\n",
              "          google.colab.kernel.accessAllowed ? 'block' : 'none';\n",
              "\n",
              "        async function convertToInteractive(key) {\n",
              "          const element = document.querySelector('#df-f058b271-f58c-4433-b0b4-ba28f09d3b6f');\n",
              "          const dataTable =\n",
              "            await google.colab.kernel.invokeFunction('convertToInteractive',\n",
              "                                                     [key], {});\n",
              "          if (!dataTable) return;\n",
              "\n",
              "          const docLinkHtml = 'Like what you see? Visit the ' +\n",
              "            '<a target=\"_blank\" href=https://colab.research.google.com/notebooks/data_table.ipynb>data table notebook</a>'\n",
              "            + ' to learn more about interactive tables.';\n",
              "          element.innerHTML = '';\n",
              "          dataTable['output_type'] = 'display_data';\n",
              "          await google.colab.output.renderOutput(dataTable, element);\n",
              "          const docLink = document.createElement('div');\n",
              "          docLink.innerHTML = docLinkHtml;\n",
              "          element.appendChild(docLink);\n",
              "        }\n",
              "      </script>\n",
              "    </div>\n",
              "  </div>\n",
              "  "
            ]
          },
          "metadata": {},
          "execution_count": 6
        }
      ]
    },
    {
      "cell_type": "code",
      "source": [
        "netflix_movies = netflix_overall[netflix_overall['type'] == 'Movie'].copy()\n",
        "netflix_movies.head()"
      ],
      "metadata": {
        "colab": {
          "base_uri": "https://localhost:8080/",
          "height": 687
        },
        "id": "4t4rk5MmdoON",
        "outputId": "c8fdb8ba-acd8-4a8f-989f-9c4161988d8a"
      },
      "execution_count": 7,
      "outputs": [
        {
          "output_type": "execute_result",
          "data": {
            "text/plain": [
              "   show_id   type                             title  \\\n",
              "0       s1  Movie              Dick Johnson Is Dead   \n",
              "6       s7  Movie  My Little Pony: A New Generation   \n",
              "7       s8  Movie                           Sankofa   \n",
              "9      s10  Movie                      The Starling   \n",
              "12     s13  Movie                      Je Suis Karl   \n",
              "\n",
              "                         director  \\\n",
              "0                 Kirsten Johnson   \n",
              "6   Robert Cullen, José Luis Ucha   \n",
              "7                    Haile Gerima   \n",
              "9                  Theodore Melfi   \n",
              "12            Christian Schwochow   \n",
              "\n",
              "                                                 cast  \\\n",
              "0                                                 NaN   \n",
              "6   Vanessa Hudgens, Kimiko Glenn, James Marsden, ...   \n",
              "7   Kofi Ghanaba, Oyafunmike Ogunlano, Alexandra D...   \n",
              "9   Melissa McCarthy, Chris O'Dowd, Kevin Kline, T...   \n",
              "12  Luna Wedler, Jannis Niewöhner, Milan Peschel, ...   \n",
              "\n",
              "                                              country          date_added  \\\n",
              "0                                       United States  September 25, 2021   \n",
              "6                                                 NaN  September 24, 2021   \n",
              "7   United States, Ghana, Burkina Faso, United Kin...  September 24, 2021   \n",
              "9                                       United States  September 24, 2021   \n",
              "12                            Germany, Czech Republic  September 23, 2021   \n",
              "\n",
              "    release_year rating duration  \\\n",
              "0           2020  PG-13   90 min   \n",
              "6           2021     PG   91 min   \n",
              "7           1993  TV-MA  125 min   \n",
              "9           2021  PG-13  104 min   \n",
              "12          2021  TV-MA  127 min   \n",
              "\n",
              "                                           listed_in  \\\n",
              "0                                      Documentaries   \n",
              "6                           Children & Family Movies   \n",
              "7   Dramas, Independent Movies, International Movies   \n",
              "9                                   Comedies, Dramas   \n",
              "12                      Dramas, International Movies   \n",
              "\n",
              "                                          description  \n",
              "0   As her father nears the end of his life, filmm...  \n",
              "6   Equestria's divided. But a bright-eyed hero be...  \n",
              "7   On a photo shoot in Ghana, an American model s...  \n",
              "9   A woman adjusting to life after a loss contend...  \n",
              "12  After most of her family is murdered in a terr...  "
            ],
            "text/html": [
              "\n",
              "  <div id=\"df-2977029d-7296-4c79-b579-4daf9f9658c0\">\n",
              "    <div class=\"colab-df-container\">\n",
              "      <div>\n",
              "<style scoped>\n",
              "    .dataframe tbody tr th:only-of-type {\n",
              "        vertical-align: middle;\n",
              "    }\n",
              "\n",
              "    .dataframe tbody tr th {\n",
              "        vertical-align: top;\n",
              "    }\n",
              "\n",
              "    .dataframe thead th {\n",
              "        text-align: right;\n",
              "    }\n",
              "</style>\n",
              "<table border=\"1\" class=\"dataframe\">\n",
              "  <thead>\n",
              "    <tr style=\"text-align: right;\">\n",
              "      <th></th>\n",
              "      <th>show_id</th>\n",
              "      <th>type</th>\n",
              "      <th>title</th>\n",
              "      <th>director</th>\n",
              "      <th>cast</th>\n",
              "      <th>country</th>\n",
              "      <th>date_added</th>\n",
              "      <th>release_year</th>\n",
              "      <th>rating</th>\n",
              "      <th>duration</th>\n",
              "      <th>listed_in</th>\n",
              "      <th>description</th>\n",
              "    </tr>\n",
              "  </thead>\n",
              "  <tbody>\n",
              "    <tr>\n",
              "      <th>0</th>\n",
              "      <td>s1</td>\n",
              "      <td>Movie</td>\n",
              "      <td>Dick Johnson Is Dead</td>\n",
              "      <td>Kirsten Johnson</td>\n",
              "      <td>NaN</td>\n",
              "      <td>United States</td>\n",
              "      <td>September 25, 2021</td>\n",
              "      <td>2020</td>\n",
              "      <td>PG-13</td>\n",
              "      <td>90 min</td>\n",
              "      <td>Documentaries</td>\n",
              "      <td>As her father nears the end of his life, filmm...</td>\n",
              "    </tr>\n",
              "    <tr>\n",
              "      <th>6</th>\n",
              "      <td>s7</td>\n",
              "      <td>Movie</td>\n",
              "      <td>My Little Pony: A New Generation</td>\n",
              "      <td>Robert Cullen, José Luis Ucha</td>\n",
              "      <td>Vanessa Hudgens, Kimiko Glenn, James Marsden, ...</td>\n",
              "      <td>NaN</td>\n",
              "      <td>September 24, 2021</td>\n",
              "      <td>2021</td>\n",
              "      <td>PG</td>\n",
              "      <td>91 min</td>\n",
              "      <td>Children &amp; Family Movies</td>\n",
              "      <td>Equestria's divided. But a bright-eyed hero be...</td>\n",
              "    </tr>\n",
              "    <tr>\n",
              "      <th>7</th>\n",
              "      <td>s8</td>\n",
              "      <td>Movie</td>\n",
              "      <td>Sankofa</td>\n",
              "      <td>Haile Gerima</td>\n",
              "      <td>Kofi Ghanaba, Oyafunmike Ogunlano, Alexandra D...</td>\n",
              "      <td>United States, Ghana, Burkina Faso, United Kin...</td>\n",
              "      <td>September 24, 2021</td>\n",
              "      <td>1993</td>\n",
              "      <td>TV-MA</td>\n",
              "      <td>125 min</td>\n",
              "      <td>Dramas, Independent Movies, International Movies</td>\n",
              "      <td>On a photo shoot in Ghana, an American model s...</td>\n",
              "    </tr>\n",
              "    <tr>\n",
              "      <th>9</th>\n",
              "      <td>s10</td>\n",
              "      <td>Movie</td>\n",
              "      <td>The Starling</td>\n",
              "      <td>Theodore Melfi</td>\n",
              "      <td>Melissa McCarthy, Chris O'Dowd, Kevin Kline, T...</td>\n",
              "      <td>United States</td>\n",
              "      <td>September 24, 2021</td>\n",
              "      <td>2021</td>\n",
              "      <td>PG-13</td>\n",
              "      <td>104 min</td>\n",
              "      <td>Comedies, Dramas</td>\n",
              "      <td>A woman adjusting to life after a loss contend...</td>\n",
              "    </tr>\n",
              "    <tr>\n",
              "      <th>12</th>\n",
              "      <td>s13</td>\n",
              "      <td>Movie</td>\n",
              "      <td>Je Suis Karl</td>\n",
              "      <td>Christian Schwochow</td>\n",
              "      <td>Luna Wedler, Jannis Niewöhner, Milan Peschel, ...</td>\n",
              "      <td>Germany, Czech Republic</td>\n",
              "      <td>September 23, 2021</td>\n",
              "      <td>2021</td>\n",
              "      <td>TV-MA</td>\n",
              "      <td>127 min</td>\n",
              "      <td>Dramas, International Movies</td>\n",
              "      <td>After most of her family is murdered in a terr...</td>\n",
              "    </tr>\n",
              "  </tbody>\n",
              "</table>\n",
              "</div>\n",
              "      <button class=\"colab-df-convert\" onclick=\"convertToInteractive('df-2977029d-7296-4c79-b579-4daf9f9658c0')\"\n",
              "              title=\"Convert this dataframe to an interactive table.\"\n",
              "              style=\"display:none;\">\n",
              "        \n",
              "  <svg xmlns=\"http://www.w3.org/2000/svg\" height=\"24px\"viewBox=\"0 0 24 24\"\n",
              "       width=\"24px\">\n",
              "    <path d=\"M0 0h24v24H0V0z\" fill=\"none\"/>\n",
              "    <path d=\"M18.56 5.44l.94 2.06.94-2.06 2.06-.94-2.06-.94-.94-2.06-.94 2.06-2.06.94zm-11 1L8.5 8.5l.94-2.06 2.06-.94-2.06-.94L8.5 2.5l-.94 2.06-2.06.94zm10 10l.94 2.06.94-2.06 2.06-.94-2.06-.94-.94-2.06-.94 2.06-2.06.94z\"/><path d=\"M17.41 7.96l-1.37-1.37c-.4-.4-.92-.59-1.43-.59-.52 0-1.04.2-1.43.59L10.3 9.45l-7.72 7.72c-.78.78-.78 2.05 0 2.83L4 21.41c.39.39.9.59 1.41.59.51 0 1.02-.2 1.41-.59l7.78-7.78 2.81-2.81c.8-.78.8-2.07 0-2.86zM5.41 20L4 18.59l7.72-7.72 1.47 1.35L5.41 20z\"/>\n",
              "  </svg>\n",
              "      </button>\n",
              "      \n",
              "  <style>\n",
              "    .colab-df-container {\n",
              "      display:flex;\n",
              "      flex-wrap:wrap;\n",
              "      gap: 12px;\n",
              "    }\n",
              "\n",
              "    .colab-df-convert {\n",
              "      background-color: #E8F0FE;\n",
              "      border: none;\n",
              "      border-radius: 50%;\n",
              "      cursor: pointer;\n",
              "      display: none;\n",
              "      fill: #1967D2;\n",
              "      height: 32px;\n",
              "      padding: 0 0 0 0;\n",
              "      width: 32px;\n",
              "    }\n",
              "\n",
              "    .colab-df-convert:hover {\n",
              "      background-color: #E2EBFA;\n",
              "      box-shadow: 0px 1px 2px rgba(60, 64, 67, 0.3), 0px 1px 3px 1px rgba(60, 64, 67, 0.15);\n",
              "      fill: #174EA6;\n",
              "    }\n",
              "\n",
              "    [theme=dark] .colab-df-convert {\n",
              "      background-color: #3B4455;\n",
              "      fill: #D2E3FC;\n",
              "    }\n",
              "\n",
              "    [theme=dark] .colab-df-convert:hover {\n",
              "      background-color: #434B5C;\n",
              "      box-shadow: 0px 1px 3px 1px rgba(0, 0, 0, 0.15);\n",
              "      filter: drop-shadow(0px 1px 2px rgba(0, 0, 0, 0.3));\n",
              "      fill: #FFFFFF;\n",
              "    }\n",
              "  </style>\n",
              "\n",
              "      <script>\n",
              "        const buttonEl =\n",
              "          document.querySelector('#df-2977029d-7296-4c79-b579-4daf9f9658c0 button.colab-df-convert');\n",
              "        buttonEl.style.display =\n",
              "          google.colab.kernel.accessAllowed ? 'block' : 'none';\n",
              "\n",
              "        async function convertToInteractive(key) {\n",
              "          const element = document.querySelector('#df-2977029d-7296-4c79-b579-4daf9f9658c0');\n",
              "          const dataTable =\n",
              "            await google.colab.kernel.invokeFunction('convertToInteractive',\n",
              "                                                     [key], {});\n",
              "          if (!dataTable) return;\n",
              "\n",
              "          const docLinkHtml = 'Like what you see? Visit the ' +\n",
              "            '<a target=\"_blank\" href=https://colab.research.google.com/notebooks/data_table.ipynb>data table notebook</a>'\n",
              "            + ' to learn more about interactive tables.';\n",
              "          element.innerHTML = '';\n",
              "          dataTable['output_type'] = 'display_data';\n",
              "          await google.colab.output.renderOutput(dataTable, element);\n",
              "          const docLink = document.createElement('div');\n",
              "          docLink.innerHTML = docLinkHtml;\n",
              "          element.appendChild(docLink);\n",
              "        }\n",
              "      </script>\n",
              "    </div>\n",
              "  </div>\n",
              "  "
            ]
          },
          "metadata": {},
          "execution_count": 7
        }
      ]
    },
    {
      "cell_type": "code",
      "source": [
        "sns.set(style='darkgrid')\n",
        "ax = sns.countplot(x='type', data=netflix_overall, palette='Set2')\n",
        "\n",
        "print('netflix_movies =', len(netflix_movies))\n",
        "print('netflix_shows =', len(netflix_shows))"
      ],
      "metadata": {
        "colab": {
          "base_uri": "https://localhost:8080/",
          "height": 493
        },
        "id": "B8I5XHJyeHPV",
        "outputId": "a6acb770-5c74-4904-883c-9301c09b8b1d"
      },
      "execution_count": 8,
      "outputs": [
        {
          "output_type": "stream",
          "name": "stdout",
          "text": [
            "netflix_movies = 6131\n",
            "netflix_shows = 2676\n"
          ]
        },
        {
          "output_type": "display_data",
          "data": {
            "text/plain": [
              "<Figure size 640x480 with 1 Axes>"
            ],
            "image/png": "[encoded data removed]"
          },
          "metadata": {}
        }
      ]
    },
    {
      "cell_type": "markdown",
      "source": [
        "# Популярное время длительности"
      ],
      "metadata": {
        "id": "pH-B5k9HfZE1"
      }
    },
    {
      "cell_type": "code",
      "source": [
        "topdirs = pd.value_counts(netflix_overall['duration'])\n",
        "topdirs"
      ],
      "metadata": {
        "colab": {
          "base_uri": "https://localhost:8080/"
        },
        "id": "79T-P0iTehmX",
        "outputId": "62b556ad-f80c-46a8-bd70-086ed86177ca"
      },
      "execution_count": 9,
      "outputs": [
        {
          "output_type": "execute_result",
          "data": {
            "text/plain": [
              "1 Season     1793\n",
              "2 Seasons     425\n",
              "3 Seasons     199\n",
              "90 min        152\n",
              "94 min        146\n",
              "             ... \n",
              "16 min          1\n",
              "186 min         1\n",
              "193 min         1\n",
              "189 min         1\n",
              "191 min         1\n",
              "Name: duration, Length: 220, dtype: int64"
            ]
          },
          "metadata": {},
          "execution_count": 9
        }
      ]
    },
    {
      "cell_type": "code",
      "source": [
        "from plotly import graph_objects as go\n",
        "\n",
        "fig = go.Figure([\n",
        "    go.Bar(x=topdirs.index, y=topdirs.values, text=topdirs.values, marker_color='indianred')\n",
        "])\n",
        "\n",
        "fig.update_traces(texttemplate='%text: .2s', textposition='outside')\n",
        "fig.show()"
      ],
      "metadata": {
        "colab": {
          "base_uri": "https://localhost:8080/",
          "height": 542
        },
        "id": "OZ0qN01efqd7",
        "outputId": "5bfc90f8-22c8-4e6d-8722-00424264edc1"
      },
      "execution_count": 10,
      "outputs": [
        {
          "output_type": "display_data",
          "data": {
            "text/html": [
              "<html>\n",
              "<head><meta charset=\"utf-8\" /></head>\n",
              "<body>\n",
              "    <div>            <script src=\"https://cdnjs.cloudflare.com/ajax/libs/mathjax/2.7.5/MathJax.js?config=TeX-AMS-MML_SVG\"></script><script type=\"text/javascript\">if (window.MathJax && window.MathJax.Hub && window.MathJax.Hub.Config) {window.MathJax.Hub.Config({SVG: {font: \"STIX-Web\"}});}</script>                <script type=\"text/javascript\">window.PlotlyConfig = {MathJaxConfig: 'local'};</script>\n",
              "        <script src=\"https://cdn.plot.ly/plotly-2.18.2.min.js\"></script>                <div id=\"f6a9f299-7ea7-488d-beb1-dcc6fa831cdf\" class=\"plotly-graph-div\" style=\"height:525px; width:100%;\"></div>            <script type=\"text/javascript\">                                    window.PLOTLYENV=window.PLOTLYENV || {};                                    if (document.getElementById(\"f6a9f299-7ea7-488d-beb1-dcc6fa831cdf\")) {                    Plotly.newPlot(                        \"f6a9f299-7ea7-488d-beb1-dcc6fa831cdf\",                        [{\"marker\":{\"color\":\"indianred\"},\"text\":[1793.0,425.0,199.0,152.0,146.0,146.0,146.0,144.0,137.0,130.0,129.0,122.0,120.0,118.0,116.0,116.0,114.0,111.0,108.0,106.0,104.0,103.0,101.0,101.0,98.0,97.0,95.0,87.0,80.0,74.0,73.0,69.0,69.0,68.0,67.0,65.0,65.0,65.0,63.0,62.0,61.0,61.0,56.0,56.0,54.0,52.0,52.0,48.0,45.0,45.0,44.0,44.0,43.0,42.0,41.0,40.0,39.0,38.0,37.0,36.0,35.0,35.0,34.0,33.0,33.0,32.0,32.0,31.0,31.0,31.0,30.0,30.0,29.0,28.0,28.0,28.0,28.0,25.0,25.0,25.0,25.0,25.0,24.0,24.0,24.0,24.0,23.0,23.0,23.0,23.0,23.0,22.0,22.0,21.0,21.0,20.0,19.0,19.0,19.0,18.0,17.0,17.0,16.0,16.0,15.0,15.0,14.0,14.0,13.0,13.0,13.0,13.0,13.0,12.0,12.0,12.0,11.0,11.0,11.0,11.0,11.0,11.0,10.0,10.0,10.0,10.0,10.0,10.0,9.0,9.0,9.0,9.0,9.0,8.0,8.0,8.0,7.0,7.0,7.0,6.0,6.0,6.0,6.0,6.0,6.0,6.0,6.0,5.0,5.0,5.0,5.0,5.0,5.0,5.0,4.0,4.0,4.0,3.0,3.0,3.0,3.0,3.0,3.0,3.0,3.0,3.0,3.0,3.0,3.0,2.0,2.0,2.0,2.0,2.0,2.0,2.0,2.0,2.0,2.0,2.0,2.0,2.0,2.0,2.0,2.0,2.0,2.0,1.0,1.0,1.0,1.0,1.0,1.0,1.0,1.0,1.0,1.0,1.0,1.0,1.0,1.0,1.0,1.0,1.0,1.0,1.0,1.0,1.0,1.0,1.0,1.0,1.0,1.0,1.0,1.0,1.0,1.0,1.0,1.0,1.0],\"x\":[\"1 Season\",\"2 Seasons\",\"3 Seasons\",\"90 min\",\"94 min\",\"97 min\",\"93 min\",\"91 min\",\"95 min\",\"96 min\",\"92 min\",\"102 min\",\"98 min\",\"99 min\",\"101 min\",\"88 min\",\"103 min\",\"106 min\",\"100 min\",\"89 min\",\"104 min\",\"86 min\",\"105 min\",\"87 min\",\"107 min\",\"110 min\",\"4 Seasons\",\"108 min\",\"116 min\",\"112 min\",\"85 min\",\"113 min\",\"109 min\",\"111 min\",\"84 min\",\"118 min\",\"83 min\",\"5 Seasons\",\"119 min\",\"81 min\",\"115 min\",\"117 min\",\"120 min\",\"114 min\",\"121 min\",\"82 min\",\"124 min\",\"127 min\",\"122 min\",\"78 min\",\"123 min\",\"126 min\",\"80 min\",\"133 min\",\"128 min\",\"130 min\",\"135 min\",\"137 min\",\"132 min\",\"125 min\",\"75 min\",\"79 min\",\"131 min\",\"6 Seasons\",\"72 min\",\"63 min\",\"129 min\",\"76 min\",\"61 min\",\"74 min\",\"73 min\",\"77 min\",\"60 min\",\"71 min\",\"66 min\",\"69 min\",\"70 min\",\"140 min\",\"65 min\",\"58 min\",\"59 min\",\"68 min\",\"54 min\",\"46 min\",\"62 min\",\"53 min\",\"64 min\",\"136 min\",\"7 Seasons\",\"24 min\",\"143 min\",\"134 min\",\"139 min\",\"138 min\",\"67 min\",\"52 min\",\"44 min\",\"141 min\",\"148 min\",\"145 min\",\"150 min\",\"8 Seasons\",\"22 min\",\"55 min\",\"151 min\",\"149 min\",\"162 min\",\"57 min\",\"146 min\",\"23 min\",\"142 min\",\"154 min\",\"40 min\",\"158 min\",\"56 min\",\"147 min\",\"153 min\",\"163 min\",\"25 min\",\"51 min\",\"29 min\",\"47 min\",\"161 min\",\"45 min\",\"155 min\",\"28 min\",\"50 min\",\"156 min\",\"42 min\",\"32 min\",\"144 min\",\"9 Seasons\",\"49 min\",\"166 min\",\"165 min\",\"48 min\",\"168 min\",\"10 Seasons\",\"171 min\",\"173 min\",\"185 min\",\"26 min\",\"33 min\",\"159 min\",\"30 min\",\"160 min\",\"157 min\",\"176 min\",\"152 min\",\"170 min\",\"36 min\",\"177 min\",\"38 min\",\"35 min\",\"172 min\",\"181 min\",\"164 min\",\"14 min\",\"15 min\",\"13 min\",\"41 min\",\"17 min\",\"27 min\",\"34 min\",\"37 min\",\"12 min\",\"21 min\",\"182 min\",\"13 Seasons\",\"192 min\",\"19 min\",\"174 min\",\"11 min\",\"209 min\",\"187 min\",\"31 min\",\"12 Seasons\",\"39 min\",\"169 min\",\"180 min\",\"195 min\",\"179 min\",\"15 Seasons\",\"20 min\",\"190 min\",\"204 min\",\"11 Seasons\",\"200 min\",\"196 min\",\"43 min\",\"167 min\",\"229 min\",\"178 min\",\"228 min\",\"214 min\",\"18 min\",\"205 min\",\"201 min\",\"312 min\",\"17 Seasons\",\"3 min\",\"10 min\",\"8 min\",\"9 min\",\"224 min\",\"212 min\",\"203 min\",\"194 min\",\"233 min\",\"237 min\",\"230 min\",\"253 min\",\"273 min\",\"208 min\",\"5 min\",\"16 min\",\"186 min\",\"193 min\",\"189 min\",\"191 min\"],\"y\":[1793,425,199,152,146,146,146,144,137,130,129,122,120,118,116,116,114,111,108,106,104,103,101,101,98,97,95,87,80,74,73,69,69,68,67,65,65,65,63,62,61,61,56,56,54,52,52,48,45,45,44,44,43,42,41,40,39,38,37,36,35,35,34,33,33,32,32,31,31,31,30,30,29,28,28,28,28,25,25,25,25,25,24,24,24,24,23,23,23,23,23,22,22,21,21,20,19,19,19,18,17,17,16,16,15,15,14,14,13,13,13,13,13,12,12,12,11,11,11,11,11,11,10,10,10,10,10,10,9,9,9,9,9,8,8,8,7,7,7,6,6,6,6,6,6,6,6,5,5,5,5,5,5,5,4,4,4,3,3,3,3,3,3,3,3,3,3,3,3,2,2,2,2,2,2,2,2,2,2,2,2,2,2,2,2,2,2,1,1,1,1,1,1,1,1,1,1,1,1,1,1,1,1,1,1,1,1,1,1,1,1,1,1,1,1,1,1,1,1,1],\"type\":\"bar\",\"textposition\":\"outside\",\"texttemplate\":\"%text: .2s\"}],                        {\"template\":{\"data\":{\"histogram2dcontour\":[{\"type\":\"histogram2dcontour\",\"colorbar\":{\"outlinewidth\":0,\"ticks\":\"\"},\"colorscale\":[[0.0,\"#0d0887\"],[0.1111111111111111,\"#46039f\"],[0.2222222222222222,\"#7201a8\"],[0.3333333333333333,\"#9c179e\"],[0.4444444444444444,\"#bd3786\"],[0.5555555555555556,\"#d8576b\"],[0.6666666666666666,\"#ed7953\"],[0.7777777777777778,\"#fb9f3a\"],[0.8888888888888888,\"#fdca26\"],[1.0,\"#f0f921\"]]}],\"choropleth\":[{\"type\":\"choropleth\",\"colorbar\":{\"outlinewidth\":0,\"ticks\":\"\"}}],\"histogram2d\":[{\"type\":\"histogram2d\",\"colorbar\":{\"outlinewidth\":0,\"ticks\":\"\"},\"colorscale\":[[0.0,\"#0d0887\"],[0.1111111111111111,\"#46039f\"],[0.2222222222222222,\"#7201a8\"],[0.3333333333333333,\"#9c179e\"],[0.4444444444444444,\"#bd3786\"],[0.5555555555555556,\"#d8576b\"],[0.6666666666666666,\"#ed7953\"],[0.7777777777777778,\"#fb9f3a\"],[0.8888888888888888,\"#fdca26\"],[1.0,\"#f0f921\"]]}],\"heatmap\":[{\"type\":\"heatmap\",\"colorbar\":{\"outlinewidth\":0,\"ticks\":\"\"},\"colorscale\":[[0.0,\"#0d0887\"],[0.1111111111111111,\"#46039f\"],[0.2222222222222222,\"#7201a8\"],[0.3333333333333333,\"#9c179e\"],[0.4444444444444444,\"#bd3786\"],[0.5555555555555556,\"#d8576b\"],[0.6666666666666666,\"#ed7953\"],[0.7777777777777778,\"#fb9f3a\"],[0.8888888888888888,\"#fdca26\"],[1.0,\"#f0f921\"]]}],\"heatmapgl\":[{\"type\":\"heatmapgl\",\"colorbar\":{\"outlinewidth\":0,\"ticks\":\"\"},\"colorscale\":[[0.0,\"#0d0887\"],[0.1111111111111111,\"#46039f\"],[0.2222222222222222,\"#7201a8\"],[0.3333333333333333,\"#9c179e\"],[0.4444444444444444,\"#bd3786\"],[0.5555555555555556,\"#d8576b\"],[0.6666666666666666,\"#ed7953\"],[0.7777777777777778,\"#fb9f3a\"],[0.8888888888888888,\"#fdca26\"],[1.0,\"#f0f921\"]]}],\"contourcarpet\":[{\"type\":\"contourcarpet\",\"colorbar\":{\"outlinewidth\":0,\"ticks\":\"\"}}],\"contour\":[{\"type\":\"contour\",\"colorbar\":{\"outlinewidth\":0,\"ticks\":\"\"},\"colorscale\":[[0.0,\"#0d0887\"],[0.1111111111111111,\"#46039f\"],[0.2222222222222222,\"#7201a8\"],[0.3333333333333333,\"#9c179e\"],[0.4444444444444444,\"#bd3786\"],[0.5555555555555556,\"#d8576b\"],[0.6666666666666666,\"#ed7953\"],[0.7777777777777778,\"#fb9f3a\"],[0.8888888888888888,\"#fdca26\"],[1.0,\"#f0f921\"]]}],\"surface\":[{\"type\":\"surface\",\"colorbar\":{\"outlinewidth\":0,\"ticks\":\"\"},\"colorscale\":[[0.0,\"#0d0887\"],[0.1111111111111111,\"#46039f\"],[0.2222222222222222,\"#7201a8\"],[0.3333333333333333,\"#9c179e\"],[0.4444444444444444,\"#bd3786\"],[0.5555555555555556,\"#d8576b\"],[0.6666666666666666,\"#ed7953\"],[0.7777777777777778,\"#fb9f3a\"],[0.8888888888888888,\"#fdca26\"],[1.0,\"#f0f921\"]]}],\"mesh3d\":[{\"type\":\"mesh3d\",\"colorbar\":{\"outlinewidth\":0,\"ticks\":\"\"}}],\"scatter\":[{\"fillpattern\":{\"fillmode\":\"overlay\",\"size\":10,\"solidity\":0.2},\"type\":\"scatter\"}],\"parcoords\":[{\"type\":\"parcoords\",\"line\":{\"colorbar\":{\"outlinewidth\":0,\"ticks\":\"\"}}}],\"scatterpolargl\":[{\"type\":\"scatterpolargl\",\"marker\":{\"colorbar\":{\"outlinewidth\":0,\"ticks\":\"\"}}}],\"bar\":[{\"error_x\":{\"color\":\"#2a3f5f\"},\"error_y\":{\"color\":\"#2a3f5f\"},\"marker\":{\"line\":{\"color\":\"#E5ECF6\",\"width\":0.5},\"pattern\":{\"fillmode\":\"overlay\",\"size\":10,\"solidity\":0.2}},\"type\":\"bar\"}],\"scattergeo\":[{\"type\":\"scattergeo\",\"marker\":{\"colorbar\":{\"outlinewidth\":0,\"ticks\":\"\"}}}],\"scatterpolar\":[{\"type\":\"scatterpolar\",\"marker\":{\"colorbar\":{\"outlinewidth\":0,\"ticks\":\"\"}}}],\"histogram\":[{\"marker\":{\"pattern\":{\"fillmode\":\"overlay\",\"size\":10,\"solidity\":0.2}},\"type\":\"histogram\"}],\"scattergl\":[{\"type\":\"scattergl\",\"marker\":{\"colorbar\":{\"outlinewidth\":0,\"ticks\":\"\"}}}],\"scatter3d\":[{\"type\":\"scatter3d\",\"line\":{\"colorbar\":{\"outlinewidth\":0,\"ticks\":\"\"}},\"marker\":{\"colorbar\":{\"outlinewidth\":0,\"ticks\":\"\"}}}],\"scattermapbox\":[{\"type\":\"scattermapbox\",\"marker\":{\"colorbar\":{\"outlinewidth\":0,\"ticks\":\"\"}}}],\"scatterternary\":[{\"type\":\"scatterternary\",\"marker\":{\"colorbar\":{\"outlinewidth\":0,\"ticks\":\"\"}}}],\"scattercarpet\":[{\"type\":\"scattercarpet\",\"marker\":{\"colorbar\":{\"outlinewidth\":0,\"ticks\":\"\"}}}],\"carpet\":[{\"aaxis\":{\"endlinecolor\":\"#2a3f5f\",\"gridcolor\":\"white\",\"linecolor\":\"white\",\"minorgridcolor\":\"white\",\"startlinecolor\":\"#2a3f5f\"},\"baxis\":{\"endlinecolor\":\"#2a3f5f\",\"gridcolor\":\"white\",\"linecolor\":\"white\",\"minorgridcolor\":\"white\",\"startlinecolor\":\"#2a3f5f\"},\"type\":\"carpet\"}],\"table\":[{\"cells\":{\"fill\":{\"color\":\"#EBF0F8\"},\"line\":{\"color\":\"white\"}},\"header\":{\"fill\":{\"color\":\"#C8D4E3\"},\"line\":{\"color\":\"white\"}},\"type\":\"table\"}],\"barpolar\":[{\"marker\":{\"line\":{\"color\":\"#E5ECF6\",\"width\":0.5},\"pattern\":{\"fillmode\":\"overlay\",\"size\":10,\"solidity\":0.2}},\"type\":\"barpolar\"}],\"pie\":[{\"automargin\":true,\"type\":\"pie\"}]},\"layout\":{\"autotypenumbers\":\"strict\",\"colorway\":[\"#636efa\",\"#EF553B\",\"#00cc96\",\"#ab63fa\",\"#FFA15A\",\"#19d3f3\",\"#FF6692\",\"#B6E880\",\"#FF97FF\",\"#FECB52\"],\"font\":{\"color\":\"#2a3f5f\"},\"hovermode\":\"closest\",\"hoverlabel\":{\"align\":\"left\"},\"paper_bgcolor\":\"white\",\"plot_bgcolor\":\"#E5ECF6\",\"polar\":{\"bgcolor\":\"#E5ECF6\",\"angularaxis\":{\"gridcolor\":\"white\",\"linecolor\":\"white\",\"ticks\":\"\"},\"radialaxis\":{\"gridcolor\":\"white\",\"linecolor\":\"white\",\"ticks\":\"\"}},\"ternary\":{\"bgcolor\":\"#E5ECF6\",\"aaxis\":{\"gridcolor\":\"white\",\"linecolor\":\"white\",\"ticks\":\"\"},\"baxis\":{\"gridcolor\":\"white\",\"linecolor\":\"white\",\"ticks\":\"\"},\"caxis\":{\"gridcolor\":\"white\",\"linecolor\":\"white\",\"ticks\":\"\"}},\"coloraxis\":{\"colorbar\":{\"outlinewidth\":0,\"ticks\":\"\"}},\"colorscale\":{\"sequential\":[[0.0,\"#0d0887\"],[0.1111111111111111,\"#46039f\"],[0.2222222222222222,\"#7201a8\"],[0.3333333333333333,\"#9c179e\"],[0.4444444444444444,\"#bd3786\"],[0.5555555555555556,\"#d8576b\"],[0.6666666666666666,\"#ed7953\"],[0.7777777777777778,\"#fb9f3a\"],[0.8888888888888888,\"#fdca26\"],[1.0,\"#f0f921\"]],\"sequentialminus\":[[0.0,\"#0d0887\"],[0.1111111111111111,\"#46039f\"],[0.2222222222222222,\"#7201a8\"],[0.3333333333333333,\"#9c179e\"],[0.4444444444444444,\"#bd3786\"],[0.5555555555555556,\"#d8576b\"],[0.6666666666666666,\"#ed7953\"],[0.7777777777777778,\"#fb9f3a\"],[0.8888888888888888,\"#fdca26\"],[1.0,\"#f0f921\"]],\"diverging\":[[0,\"#8e0152\"],[0.1,\"#c51b7d\"],[0.2,\"#de77ae\"],[0.3,\"#f1b6da\"],[0.4,\"#fde0ef\"],[0.5,\"#f7f7f7\"],[0.6,\"#e6f5d0\"],[0.7,\"#b8e186\"],[0.8,\"#7fbc41\"],[0.9,\"#4d9221\"],[1,\"#276419\"]]},\"xaxis\":{\"gridcolor\":\"white\",\"linecolor\":\"white\",\"ticks\":\"\",\"title\":{\"standoff\":15},\"zerolinecolor\":\"white\",\"automargin\":true,\"zerolinewidth\":2},\"yaxis\":{\"gridcolor\":\"white\",\"linecolor\":\"white\",\"ticks\":\"\",\"title\":{\"standoff\":15},\"zerolinecolor\":\"white\",\"automargin\":true,\"zerolinewidth\":2},\"scene\":{\"xaxis\":{\"backgroundcolor\":\"#E5ECF6\",\"gridcolor\":\"white\",\"linecolor\":\"white\",\"showbackground\":true,\"ticks\":\"\",\"zerolinecolor\":\"white\",\"gridwidth\":2},\"yaxis\":{\"backgroundcolor\":\"#E5ECF6\",\"gridcolor\":\"white\",\"linecolor\":\"white\",\"showbackground\":true,\"ticks\":\"\",\"zerolinecolor\":\"white\",\"gridwidth\":2},\"zaxis\":{\"backgroundcolor\":\"#E5ECF6\",\"gridcolor\":\"white\",\"linecolor\":\"white\",\"showbackground\":true,\"ticks\":\"\",\"zerolinecolor\":\"white\",\"gridwidth\":2}},\"shapedefaults\":{\"line\":{\"color\":\"#2a3f5f\"}},\"annotationdefaults\":{\"arrowcolor\":\"#2a3f5f\",\"arrowhead\":0,\"arrowwidth\":1},\"geo\":{\"bgcolor\":\"white\",\"landcolor\":\"#E5ECF6\",\"subunitcolor\":\"white\",\"showland\":true,\"showlakes\":true,\"lakecolor\":\"white\"},\"title\":{\"x\":0.05},\"mapbox\":{\"style\":\"light\"}}}},                        {\"responsive\": true}                    ).then(function(){\n",
              "                            \n",
              "var gd = document.getElementById('f6a9f299-7ea7-488d-beb1-dcc6fa831cdf');\n",
              "var x = new MutationObserver(function (mutations, observer) {{\n",
              "        var display = window.getComputedStyle(gd).display;\n",
              "        if (!display || display === 'none') {{\n",
              "            console.log([gd, 'removed!']);\n",
              "            Plotly.purge(gd);\n",
              "            observer.disconnect();\n",
              "        }}\n",
              "}});\n",
              "\n",
              "// Listen for the removal of the full notebook cells\n",
              "var notebookContainer = gd.closest('#notebook-container');\n",
              "if (notebookContainer) {{\n",
              "    x.observe(notebookContainer, {childList: true});\n",
              "}}\n",
              "\n",
              "// Listen for the clearing of the current output cell\n",
              "var outputEl = gd.closest('.output');\n",
              "if (outputEl) {{\n",
              "    x.observe(outputEl, {childList: true});\n",
              "}}\n",
              "\n",
              "                        })                };                            </script>        </div>\n",
              "</body>\n",
              "</html>"
            ]
          },
          "metadata": {}
        }
      ]
    },
    {
      "cell_type": "markdown",
      "source": [
        "# Анализ фильмов"
      ],
      "metadata": {
        "id": "AvIIWxqtg35Y"
      }
    },
    {
      "cell_type": "markdown",
      "source": [
        "## Какой месяц, самый привлекательный для релиза контента?"
      ],
      "metadata": {
        "id": "xY5233pPgiWM"
      }
    },
    {
      "cell_type": "markdown",
      "source": [
        "Месяц с наименьшим количеством контента"
      ],
      "metadata": {
        "id": "-ohBEb1RiOA3"
      }
    },
    {
      "cell_type": "code",
      "source": [
        "netflix_overall.isna().sum()"
      ],
      "metadata": {
        "colab": {
          "base_uri": "https://localhost:8080/"
        },
        "id": "-3orsfuDhB12",
        "outputId": "780990f6-572c-4511-cfac-ebf8c74f8e6b"
      },
      "execution_count": 11,
      "outputs": [
        {
          "output_type": "execute_result",
          "data": {
            "text/plain": [
              "show_id            0\n",
              "type               0\n",
              "title              0\n",
              "director        2634\n",
              "cast             825\n",
              "country          831\n",
              "date_added        10\n",
              "release_year       0\n",
              "rating             4\n",
              "duration           3\n",
              "listed_in          0\n",
              "description        0\n",
              "dtype: int64"
            ]
          },
          "metadata": {},
          "execution_count": 11
        }
      ]
    },
    {
      "cell_type": "code",
      "source": [
        "netflix_date = netflix_shows[['date_added']].dropna()\n",
        "netflix_date.isna().sum()"
      ],
      "metadata": {
        "colab": {
          "base_uri": "https://localhost:8080/"
        },
        "id": "sh7Pi5SAiVS9",
        "outputId": "da01bb25-8839-4288-a56a-95e033c63a81"
      },
      "execution_count": 12,
      "outputs": [
        {
          "output_type": "execute_result",
          "data": {
            "text/plain": [
              "date_added    0\n",
              "dtype: int64"
            ]
          },
          "metadata": {},
          "execution_count": 12
        }
      ]
    },
    {
      "cell_type": "code",
      "source": [
        "netflix_date.head()"
      ],
      "metadata": {
        "colab": {
          "base_uri": "https://localhost:8080/",
          "height": 206
        },
        "id": "7MKCsnR5jEFT",
        "outputId": "4d3733cd-88c0-48c3-ed38-09bc6b608813"
      },
      "execution_count": 13,
      "outputs": [
        {
          "output_type": "execute_result",
          "data": {
            "text/plain": [
              "           date_added\n",
              "1  September 24, 2021\n",
              "2  September 24, 2021\n",
              "3  September 24, 2021\n",
              "4  September 24, 2021\n",
              "5  September 24, 2021"
            ],
            "text/html": [
              "\n",
              "  <div id=\"df-740930f3-a134-42ab-b045-64cfc0f47587\">\n",
              "    <div class=\"colab-df-container\">\n",
              "      <div>\n",
              "<style scoped>\n",
              "    .dataframe tbody tr th:only-of-type {\n",
              "        vertical-align: middle;\n",
              "    }\n",
              "\n",
              "    .dataframe tbody tr th {\n",
              "        vertical-align: top;\n",
              "    }\n",
              "\n",
              "    .dataframe thead th {\n",
              "        text-align: right;\n",
              "    }\n",
              "</style>\n",
              "<table border=\"1\" class=\"dataframe\">\n",
              "  <thead>\n",
              "    <tr style=\"text-align: right;\">\n",
              "      <th></th>\n",
              "      <th>date_added</th>\n",
              "    </tr>\n",
              "  </thead>\n",
              "  <tbody>\n",
              "    <tr>\n",
              "      <th>1</th>\n",
              "      <td>September 24, 2021</td>\n",
              "    </tr>\n",
              "    <tr>\n",
              "      <th>2</th>\n",
              "      <td>September 24, 2021</td>\n",
              "    </tr>\n",
              "    <tr>\n",
              "      <th>3</th>\n",
              "      <td>September 24, 2021</td>\n",
              "    </tr>\n",
              "    <tr>\n",
              "      <th>4</th>\n",
              "      <td>September 24, 2021</td>\n",
              "    </tr>\n",
              "    <tr>\n",
              "      <th>5</th>\n",
              "      <td>September 24, 2021</td>\n",
              "    </tr>\n",
              "  </tbody>\n",
              "</table>\n",
              "</div>\n",
              "      <button class=\"colab-df-convert\" onclick=\"convertToInteractive('df-740930f3-a134-42ab-b045-64cfc0f47587')\"\n",
              "              title=\"Convert this dataframe to an interactive table.\"\n",
              "              style=\"display:none;\">\n",
              "        \n",
              "  <svg xmlns=\"http://www.w3.org/2000/svg\" height=\"24px\"viewBox=\"0 0 24 24\"\n",
              "       width=\"24px\">\n",
              "    <path d=\"M0 0h24v24H0V0z\" fill=\"none\"/>\n",
              "    <path d=\"M18.56 5.44l.94 2.06.94-2.06 2.06-.94-2.06-.94-.94-2.06-.94 2.06-2.06.94zm-11 1L8.5 8.5l.94-2.06 2.06-.94-2.06-.94L8.5 2.5l-.94 2.06-2.06.94zm10 10l.94 2.06.94-2.06 2.06-.94-2.06-.94-.94-2.06-.94 2.06-2.06.94z\"/><path d=\"M17.41 7.96l-1.37-1.37c-.4-.4-.92-.59-1.43-.59-.52 0-1.04.2-1.43.59L10.3 9.45l-7.72 7.72c-.78.78-.78 2.05 0 2.83L4 21.41c.39.39.9.59 1.41.59.51 0 1.02-.2 1.41-.59l7.78-7.78 2.81-2.81c.8-.78.8-2.07 0-2.86zM5.41 20L4 18.59l7.72-7.72 1.47 1.35L5.41 20z\"/>\n",
              "  </svg>\n",
              "      </button>\n",
              "      \n",
              "  <style>\n",
              "    .colab-df-container {\n",
              "      display:flex;\n",
              "      flex-wrap:wrap;\n",
              "      gap: 12px;\n",
              "    }\n",
              "\n",
              "    .colab-df-convert {\n",
              "      background-color: #E8F0FE;\n",
              "      border: none;\n",
              "      border-radius: 50%;\n",
              "      cursor: pointer;\n",
              "      display: none;\n",
              "      fill: #1967D2;\n",
              "      height: 32px;\n",
              "      padding: 0 0 0 0;\n",
              "      width: 32px;\n",
              "    }\n",
              "\n",
              "    .colab-df-convert:hover {\n",
              "      background-color: #E2EBFA;\n",
              "      box-shadow: 0px 1px 2px rgba(60, 64, 67, 0.3), 0px 1px 3px 1px rgba(60, 64, 67, 0.15);\n",
              "      fill: #174EA6;\n",
              "    }\n",
              "\n",
              "    [theme=dark] .colab-df-convert {\n",
              "      background-color: #3B4455;\n",
              "      fill: #D2E3FC;\n",
              "    }\n",
              "\n",
              "    [theme=dark] .colab-df-convert:hover {\n",
              "      background-color: #434B5C;\n",
              "      box-shadow: 0px 1px 3px 1px rgba(0, 0, 0, 0.15);\n",
              "      filter: drop-shadow(0px 1px 2px rgba(0, 0, 0, 0.3));\n",
              "      fill: #FFFFFF;\n",
              "    }\n",
              "  </style>\n",
              "\n",
              "      <script>\n",
              "        const buttonEl =\n",
              "          document.querySelector('#df-740930f3-a134-42ab-b045-64cfc0f47587 button.colab-df-convert');\n",
              "        buttonEl.style.display =\n",
              "          google.colab.kernel.accessAllowed ? 'block' : 'none';\n",
              "\n",
              "        async function convertToInteractive(key) {\n",
              "          const element = document.querySelector('#df-740930f3-a134-42ab-b045-64cfc0f47587');\n",
              "          const dataTable =\n",
              "            await google.colab.kernel.invokeFunction('convertToInteractive',\n",
              "                                                     [key], {});\n",
              "          if (!dataTable) return;\n",
              "\n",
              "          const docLinkHtml = 'Like what you see? Visit the ' +\n",
              "            '<a target=\"_blank\" href=https://colab.research.google.com/notebooks/data_table.ipynb>data table notebook</a>'\n",
              "            + ' to learn more about interactive tables.';\n",
              "          element.innerHTML = '';\n",
              "          dataTable['output_type'] = 'display_data';\n",
              "          await google.colab.output.renderOutput(dataTable, element);\n",
              "          const docLink = document.createElement('div');\n",
              "          docLink.innerHTML = docLinkHtml;\n",
              "          element.appendChild(docLink);\n",
              "        }\n",
              "      </script>\n",
              "    </div>\n",
              "  </div>\n",
              "  "
            ]
          },
          "metadata": {},
          "execution_count": 13
        }
      ]
    },
    {
      "cell_type": "code",
      "source": [
        "netflix_date['year'] = netflix_date['date_added'].apply(lambda x : x.split(', ')[-1])\n",
        "netflix_date['month'] = netflix_date['date_added'].apply(lambda x : x.lstrip().split(' ')[0])\n",
        "netflix_date.head()"
      ],
      "metadata": {
        "colab": {
          "base_uri": "https://localhost:8080/",
          "height": 206
        },
        "id": "B1EnSh0MjGqD",
        "outputId": "68c2fdcd-842b-4575-a754-c9f32e4ec215"
      },
      "execution_count": 14,
      "outputs": [
        {
          "output_type": "execute_result",
          "data": {
            "text/plain": [
              "           date_added  year      month\n",
              "1  September 24, 2021  2021  September\n",
              "2  September 24, 2021  2021  September\n",
              "3  September 24, 2021  2021  September\n",
              "4  September 24, 2021  2021  September\n",
              "5  September 24, 2021  2021  September"
            ],
            "text/html": [
              "\n",
              "  <div id=\"df-7d3d5ddf-9e5f-45ad-84b1-18aa691e66fb\">\n",
              "    <div class=\"colab-df-container\">\n",
              "      <div>\n",
              "<style scoped>\n",
              "    .dataframe tbody tr th:only-of-type {\n",
              "        vertical-align: middle;\n",
              "    }\n",
              "\n",
              "    .dataframe tbody tr th {\n",
              "        vertical-align: top;\n",
              "    }\n",
              "\n",
              "    .dataframe thead th {\n",
              "        text-align: right;\n",
              "    }\n",
              "</style>\n",
              "<table border=\"1\" class=\"dataframe\">\n",
              "  <thead>\n",
              "    <tr style=\"text-align: right;\">\n",
              "      <th></th>\n",
              "      <th>date_added</th>\n",
              "      <th>year</th>\n",
              "      <th>month</th>\n",
              "    </tr>\n",
              "  </thead>\n",
              "  <tbody>\n",
              "    <tr>\n",
              "      <th>1</th>\n",
              "      <td>September 24, 2021</td>\n",
              "      <td>2021</td>\n",
              "      <td>September</td>\n",
              "    </tr>\n",
              "    <tr>\n",
              "      <th>2</th>\n",
              "      <td>September 24, 2021</td>\n",
              "      <td>2021</td>\n",
              "      <td>September</td>\n",
              "    </tr>\n",
              "    <tr>\n",
              "      <th>3</th>\n",
              "      <td>September 24, 2021</td>\n",
              "      <td>2021</td>\n",
              "      <td>September</td>\n",
              "    </tr>\n",
              "    <tr>\n",
              "      <th>4</th>\n",
              "      <td>September 24, 2021</td>\n",
              "      <td>2021</td>\n",
              "      <td>September</td>\n",
              "    </tr>\n",
              "    <tr>\n",
              "      <th>5</th>\n",
              "      <td>September 24, 2021</td>\n",
              "      <td>2021</td>\n",
              "      <td>September</td>\n",
              "    </tr>\n",
              "  </tbody>\n",
              "</table>\n",
              "</div>\n",
              "      <button class=\"colab-df-convert\" onclick=\"convertToInteractive('df-7d3d5ddf-9e5f-45ad-84b1-18aa691e66fb')\"\n",
              "              title=\"Convert this dataframe to an interactive table.\"\n",
              "              style=\"display:none;\">\n",
              "        \n",
              "  <svg xmlns=\"http://www.w3.org/2000/svg\" height=\"24px\"viewBox=\"0 0 24 24\"\n",
              "       width=\"24px\">\n",
              "    <path d=\"M0 0h24v24H0V0z\" fill=\"none\"/>\n",
              "    <path d=\"M18.56 5.44l.94 2.06.94-2.06 2.06-.94-2.06-.94-.94-2.06-.94 2.06-2.06.94zm-11 1L8.5 8.5l.94-2.06 2.06-.94-2.06-.94L8.5 2.5l-.94 2.06-2.06.94zm10 10l.94 2.06.94-2.06 2.06-.94-2.06-.94-.94-2.06-.94 2.06-2.06.94z\"/><path d=\"M17.41 7.96l-1.37-1.37c-.4-.4-.92-.59-1.43-.59-.52 0-1.04.2-1.43.59L10.3 9.45l-7.72 7.72c-.78.78-.78 2.05 0 2.83L4 21.41c.39.39.9.59 1.41.59.51 0 1.02-.2 1.41-.59l7.78-7.78 2.81-2.81c.8-.78.8-2.07 0-2.86zM5.41 20L4 18.59l7.72-7.72 1.47 1.35L5.41 20z\"/>\n",
              "  </svg>\n",
              "      </button>\n",
              "      \n",
              "  <style>\n",
              "    .colab-df-container {\n",
              "      display:flex;\n",
              "      flex-wrap:wrap;\n",
              "      gap: 12px;\n",
              "    }\n",
              "\n",
              "    .colab-df-convert {\n",
              "      background-color: #E8F0FE;\n",
              "      border: none;\n",
              "      border-radius: 50%;\n",
              "      cursor: pointer;\n",
              "      display: none;\n",
              "      fill: #1967D2;\n",
              "      height: 32px;\n",
              "      padding: 0 0 0 0;\n",
              "      width: 32px;\n",
              "    }\n",
              "\n",
              "    .colab-df-convert:hover {\n",
              "      background-color: #E2EBFA;\n",
              "      box-shadow: 0px 1px 2px rgba(60, 64, 67, 0.3), 0px 1px 3px 1px rgba(60, 64, 67, 0.15);\n",
              "      fill: #174EA6;\n",
              "    }\n",
              "\n",
              "    [theme=dark] .colab-df-convert {\n",
              "      background-color: #3B4455;\n",
              "      fill: #D2E3FC;\n",
              "    }\n",
              "\n",
              "    [theme=dark] .colab-df-convert:hover {\n",
              "      background-color: #434B5C;\n",
              "      box-shadow: 0px 1px 3px 1px rgba(0, 0, 0, 0.15);\n",
              "      filter: drop-shadow(0px 1px 2px rgba(0, 0, 0, 0.3));\n",
              "      fill: #FFFFFF;\n",
              "    }\n",
              "  </style>\n",
              "\n",
              "      <script>\n",
              "        const buttonEl =\n",
              "          document.querySelector('#df-7d3d5ddf-9e5f-45ad-84b1-18aa691e66fb button.colab-df-convert');\n",
              "        buttonEl.style.display =\n",
              "          google.colab.kernel.accessAllowed ? 'block' : 'none';\n",
              "\n",
              "        async function convertToInteractive(key) {\n",
              "          const element = document.querySelector('#df-7d3d5ddf-9e5f-45ad-84b1-18aa691e66fb');\n",
              "          const dataTable =\n",
              "            await google.colab.kernel.invokeFunction('convertToInteractive',\n",
              "                                                     [key], {});\n",
              "          if (!dataTable) return;\n",
              "\n",
              "          const docLinkHtml = 'Like what you see? Visit the ' +\n",
              "            '<a target=\"_blank\" href=https://colab.research.google.com/notebooks/data_table.ipynb>data table notebook</a>'\n",
              "            + ' to learn more about interactive tables.';\n",
              "          element.innerHTML = '';\n",
              "          dataTable['output_type'] = 'display_data';\n",
              "          await google.colab.output.renderOutput(dataTable, element);\n",
              "          const docLink = document.createElement('div');\n",
              "          docLink.innerHTML = docLinkHtml;\n",
              "          element.appendChild(docLink);\n",
              "        }\n",
              "      </script>\n",
              "    </div>\n",
              "  </div>\n",
              "  "
            ]
          },
          "metadata": {},
          "execution_count": 14
        }
      ]
    },
    {
      "cell_type": "markdown",
      "source": [
        "Смотрим когда добавился самый первый фильм на платформу"
      ],
      "metadata": {
        "id": "5A6WFGXOkqIw"
      }
    },
    {
      "cell_type": "code",
      "source": [
        "netflix_date.sort_values(by=['year', 'month'])"
      ],
      "metadata": {
        "colab": {
          "base_uri": "https://localhost:8080/",
          "height": 424
        },
        "id": "wNgtCpyijx1F",
        "outputId": "ed446b89-b2c8-45bc-c961-a3551f4a015f"
      },
      "execution_count": 15,
      "outputs": [
        {
          "output_type": "execute_result",
          "data": {
            "text/plain": [
              "             date_added  year      month\n",
              "6611   February 4, 2008  2008   February\n",
              "5940     August 2, 2013  2013     August\n",
              "7112     March 31, 2013  2013      March\n",
              "6885    October 8, 2013  2013    October\n",
              "7908   October 14, 2013  2013    October\n",
              "...                 ...   ...        ...\n",
              "153   September 1, 2021  2021  September\n",
              "154   September 1, 2021  2021  September\n",
              "160   September 1, 2021  2021  September\n",
              "165   September 1, 2021  2021  September\n",
              "181   September 1, 2021  2021  September\n",
              "\n",
              "[2666 rows x 3 columns]"
            ],
            "text/html": [
              "\n",
              "  <div id=\"df-e8dd2477-694f-430d-a910-902ccf8691d9\">\n",
              "    <div class=\"colab-df-container\">\n",
              "      <div>\n",
              "<style scoped>\n",
              "    .dataframe tbody tr th:only-of-type {\n",
              "        vertical-align: middle;\n",
              "    }\n",
              "\n",
              "    .dataframe tbody tr th {\n",
              "        vertical-align: top;\n",
              "    }\n",
              "\n",
              "    .dataframe thead th {\n",
              "        text-align: right;\n",
              "    }\n",
              "</style>\n",
              "<table border=\"1\" class=\"dataframe\">\n",
              "  <thead>\n",
              "    <tr style=\"text-align: right;\">\n",
              "      <th></th>\n",
              "      <th>date_added</th>\n",
              "      <th>year</th>\n",
              "      <th>month</th>\n",
              "    </tr>\n",
              "  </thead>\n",
              "  <tbody>\n",
              "    <tr>\n",
              "      <th>6611</th>\n",
              "      <td>February 4, 2008</td>\n",
              "      <td>2008</td>\n",
              "      <td>February</td>\n",
              "    </tr>\n",
              "    <tr>\n",
              "      <th>5940</th>\n",
              "      <td>August 2, 2013</td>\n",
              "      <td>2013</td>\n",
              "      <td>August</td>\n",
              "    </tr>\n",
              "    <tr>\n",
              "      <th>7112</th>\n",
              "      <td>March 31, 2013</td>\n",
              "      <td>2013</td>\n",
              "      <td>March</td>\n",
              "    </tr>\n",
              "    <tr>\n",
              "      <th>6885</th>\n",
              "      <td>October 8, 2013</td>\n",
              "      <td>2013</td>\n",
              "      <td>October</td>\n",
              "    </tr>\n",
              "    <tr>\n",
              "      <th>7908</th>\n",
              "      <td>October 14, 2013</td>\n",
              "      <td>2013</td>\n",
              "      <td>October</td>\n",
              "    </tr>\n",
              "    <tr>\n",
              "      <th>...</th>\n",
              "      <td>...</td>\n",
              "      <td>...</td>\n",
              "      <td>...</td>\n",
              "    </tr>\n",
              "    <tr>\n",
              "      <th>153</th>\n",
              "      <td>September 1, 2021</td>\n",
              "      <td>2021</td>\n",
              "      <td>September</td>\n",
              "    </tr>\n",
              "    <tr>\n",
              "      <th>154</th>\n",
              "      <td>September 1, 2021</td>\n",
              "      <td>2021</td>\n",
              "      <td>September</td>\n",
              "    </tr>\n",
              "    <tr>\n",
              "      <th>160</th>\n",
              "      <td>September 1, 2021</td>\n",
              "      <td>2021</td>\n",
              "      <td>September</td>\n",
              "    </tr>\n",
              "    <tr>\n",
              "      <th>165</th>\n",
              "      <td>September 1, 2021</td>\n",
              "      <td>2021</td>\n",
              "      <td>September</td>\n",
              "    </tr>\n",
              "    <tr>\n",
              "      <th>181</th>\n",
              "      <td>September 1, 2021</td>\n",
              "      <td>2021</td>\n",
              "      <td>September</td>\n",
              "    </tr>\n",
              "  </tbody>\n",
              "</table>\n",
              "<p>2666 rows × 3 columns</p>\n",
              "</div>\n",
              "      <button class=\"colab-df-convert\" onclick=\"convertToInteractive('df-e8dd2477-694f-430d-a910-902ccf8691d9')\"\n",
              "              title=\"Convert this dataframe to an interactive table.\"\n",
              "              style=\"display:none;\">\n",
              "        \n",
              "  <svg xmlns=\"http://www.w3.org/2000/svg\" height=\"24px\"viewBox=\"0 0 24 24\"\n",
              "       width=\"24px\">\n",
              "    <path d=\"M0 0h24v24H0V0z\" fill=\"none\"/>\n",
              "    <path d=\"M18.56 5.44l.94 2.06.94-2.06 2.06-.94-2.06-.94-.94-2.06-.94 2.06-2.06.94zm-11 1L8.5 8.5l.94-2.06 2.06-.94-2.06-.94L8.5 2.5l-.94 2.06-2.06.94zm10 10l.94 2.06.94-2.06 2.06-.94-2.06-.94-.94-2.06-.94 2.06-2.06.94z\"/><path d=\"M17.41 7.96l-1.37-1.37c-.4-.4-.92-.59-1.43-.59-.52 0-1.04.2-1.43.59L10.3 9.45l-7.72 7.72c-.78.78-.78 2.05 0 2.83L4 21.41c.39.39.9.59 1.41.59.51 0 1.02-.2 1.41-.59l7.78-7.78 2.81-2.81c.8-.78.8-2.07 0-2.86zM5.41 20L4 18.59l7.72-7.72 1.47 1.35L5.41 20z\"/>\n",
              "  </svg>\n",
              "      </button>\n",
              "      \n",
              "  <style>\n",
              "    .colab-df-container {\n",
              "      display:flex;\n",
              "      flex-wrap:wrap;\n",
              "      gap: 12px;\n",
              "    }\n",
              "\n",
              "    .colab-df-convert {\n",
              "      background-color: #E8F0FE;\n",
              "      border: none;\n",
              "      border-radius: 50%;\n",
              "      cursor: pointer;\n",
              "      display: none;\n",
              "      fill: #1967D2;\n",
              "      height: 32px;\n",
              "      padding: 0 0 0 0;\n",
              "      width: 32px;\n",
              "    }\n",
              "\n",
              "    .colab-df-convert:hover {\n",
              "      background-color: #E2EBFA;\n",
              "      box-shadow: 0px 1px 2px rgba(60, 64, 67, 0.3), 0px 1px 3px 1px rgba(60, 64, 67, 0.15);\n",
              "      fill: #174EA6;\n",
              "    }\n",
              "\n",
              "    [theme=dark] .colab-df-convert {\n",
              "      background-color: #3B4455;\n",
              "      fill: #D2E3FC;\n",
              "    }\n",
              "\n",
              "    [theme=dark] .colab-df-convert:hover {\n",
              "      background-color: #434B5C;\n",
              "      box-shadow: 0px 1px 3px 1px rgba(0, 0, 0, 0.15);\n",
              "      filter: drop-shadow(0px 1px 2px rgba(0, 0, 0, 0.3));\n",
              "      fill: #FFFFFF;\n",
              "    }\n",
              "  </style>\n",
              "\n",
              "      <script>\n",
              "        const buttonEl =\n",
              "          document.querySelector('#df-e8dd2477-694f-430d-a910-902ccf8691d9 button.colab-df-convert');\n",
              "        buttonEl.style.display =\n",
              "          google.colab.kernel.accessAllowed ? 'block' : 'none';\n",
              "\n",
              "        async function convertToInteractive(key) {\n",
              "          const element = document.querySelector('#df-e8dd2477-694f-430d-a910-902ccf8691d9');\n",
              "          const dataTable =\n",
              "            await google.colab.kernel.invokeFunction('convertToInteractive',\n",
              "                                                     [key], {});\n",
              "          if (!dataTable) return;\n",
              "\n",
              "          const docLinkHtml = 'Like what you see? Visit the ' +\n",
              "            '<a target=\"_blank\" href=https://colab.research.google.com/notebooks/data_table.ipynb>data table notebook</a>'\n",
              "            + ' to learn more about interactive tables.';\n",
              "          element.innerHTML = '';\n",
              "          dataTable['output_type'] = 'display_data';\n",
              "          await google.colab.output.renderOutput(dataTable, element);\n",
              "          const docLink = document.createElement('div');\n",
              "          docLink.innerHTML = docLinkHtml;\n",
              "          element.appendChild(docLink);\n",
              "        }\n",
              "      </script>\n",
              "    </div>\n",
              "  </div>\n",
              "  "
            ]
          },
          "metadata": {},
          "execution_count": 15
        }
      ]
    },
    {
      "cell_type": "code",
      "source": [
        "month_order = ['January', 'February', 'March', 'April', 'May', 'June', 'July', 'August', 'September', 'October', 'November', 'December'][::-1]\n",
        "df = netflix_date.groupby('year')['month'].value_counts().unstack().fillna(0)[month_order].T\n",
        "df"
      ],
      "metadata": {
        "colab": {
          "base_uri": "https://localhost:8080/",
          "height": 457
        },
        "id": "3uMtvRs8kof1",
        "outputId": "f0be03bb-932d-4119-a5be-030a87907be5"
      },
      "execution_count": 16,
      "outputs": [
        {
          "output_type": "execute_result",
          "data": {
            "text/plain": [
              "year       2008  2013  2014  2015  2016  2017  2018  2019  2020  2021\n",
              "month                                                                \n",
              "December    0.0   0.0   1.0   7.0  44.0  38.0  61.0  47.0  68.0   0.0\n",
              "November    0.0   0.0   2.0   2.0  18.0  30.0  36.0  68.0  51.0   0.0\n",
              "October     0.0   2.0   0.0   4.0  19.0  29.0  45.0  65.0  51.0   0.0\n",
              "September   0.0   1.0   0.0   1.0  19.0  32.0  43.0  37.0  53.0  65.0\n",
              "August      0.0   1.0   0.0   0.0  11.0  38.0  34.0  44.0  47.0  61.0\n",
              "July        0.0   0.0   0.0   2.0   9.0  34.0  27.0  59.0  43.0  88.0\n",
              "June        0.0   0.0   0.0   2.0   7.0  29.0  28.0  46.0  41.0  83.0\n",
              "May         0.0   0.0   0.0   1.0   4.0  23.0  27.0  48.0  52.0  38.0\n",
              "April       0.0   0.0   1.0   4.0   8.0  27.0  28.0  43.0  50.0  53.0\n",
              "March       0.0   1.0   0.0   2.0   3.0  38.0  35.0  53.0  44.0  37.0\n",
              "February    1.0   0.0   1.0   1.0   6.0  17.0  24.0  45.0  42.0  44.0\n",
              "January     0.0   0.0   0.0   0.0  28.0  14.0  24.0  37.0  53.0  36.0"
            ],
            "text/html": [
              "\n",
              "  <div id=\"df-f2f7da17-5c39-406d-b600-670d4408129d\">\n",
              "    <div class=\"colab-df-container\">\n",
              "      <div>\n",
              "<style scoped>\n",
              "    .dataframe tbody tr th:only-of-type {\n",
              "        vertical-align: middle;\n",
              "    }\n",
              "\n",
              "    .dataframe tbody tr th {\n",
              "        vertical-align: top;\n",
              "    }\n",
              "\n",
              "    .dataframe thead th {\n",
              "        text-align: right;\n",
              "    }\n",
              "</style>\n",
              "<table border=\"1\" class=\"dataframe\">\n",
              "  <thead>\n",
              "    <tr style=\"text-align: right;\">\n",
              "      <th>year</th>\n",
              "      <th>2008</th>\n",
              "      <th>2013</th>\n",
              "      <th>2014</th>\n",
              "      <th>2015</th>\n",
              "      <th>2016</th>\n",
              "      <th>2017</th>\n",
              "      <th>2018</th>\n",
              "      <th>2019</th>\n",
              "      <th>2020</th>\n",
              "      <th>2021</th>\n",
              "    </tr>\n",
              "    <tr>\n",
              "      <th>month</th>\n",
              "      <th></th>\n",
              "      <th></th>\n",
              "      <th></th>\n",
              "      <th></th>\n",
              "      <th></th>\n",
              "      <th></th>\n",
              "      <th></th>\n",
              "      <th></th>\n",
              "      <th></th>\n",
              "      <th></th>\n",
              "    </tr>\n",
              "  </thead>\n",
              "  <tbody>\n",
              "    <tr>\n",
              "      <th>December</th>\n",
              "      <td>0.0</td>\n",
              "      <td>0.0</td>\n",
              "      <td>1.0</td>\n",
              "      <td>7.0</td>\n",
              "      <td>44.0</td>\n",
              "      <td>38.0</td>\n",
              "      <td>61.0</td>\n",
              "      <td>47.0</td>\n",
              "      <td>68.0</td>\n",
              "      <td>0.0</td>\n",
              "    </tr>\n",
              "    <tr>\n",
              "      <th>November</th>\n",
              "      <td>0.0</td>\n",
              "      <td>0.0</td>\n",
              "      <td>2.0</td>\n",
              "      <td>2.0</td>\n",
              "      <td>18.0</td>\n",
              "      <td>30.0</td>\n",
              "      <td>36.0</td>\n",
              "      <td>68.0</td>\n",
              "      <td>51.0</td>\n",
              "      <td>0.0</td>\n",
              "    </tr>\n",
              "    <tr>\n",
              "      <th>October</th>\n",
              "      <td>0.0</td>\n",
              "      <td>2.0</td>\n",
              "      <td>0.0</td>\n",
              "      <td>4.0</td>\n",
              "      <td>19.0</td>\n",
              "      <td>29.0</td>\n",
              "      <td>45.0</td>\n",
              "      <td>65.0</td>\n",
              "      <td>51.0</td>\n",
              "      <td>0.0</td>\n",
              "    </tr>\n",
              "    <tr>\n",
              "      <th>September</th>\n",
              "      <td>0.0</td>\n",
              "      <td>1.0</td>\n",
              "      <td>0.0</td>\n",
              "      <td>1.0</td>\n",
              "      <td>19.0</td>\n",
              "      <td>32.0</td>\n",
              "      <td>43.0</td>\n",
              "      <td>37.0</td>\n",
              "      <td>53.0</td>\n",
              "      <td>65.0</td>\n",
              "    </tr>\n",
              "    <tr>\n",
              "      <th>August</th>\n",
              "      <td>0.0</td>\n",
              "      <td>1.0</td>\n",
              "      <td>0.0</td>\n",
              "      <td>0.0</td>\n",
              "      <td>11.0</td>\n",
              "      <td>38.0</td>\n",
              "      <td>34.0</td>\n",
              "      <td>44.0</td>\n",
              "      <td>47.0</td>\n",
              "      <td>61.0</td>\n",
              "    </tr>\n",
              "    <tr>\n",
              "      <th>July</th>\n",
              "      <td>0.0</td>\n",
              "      <td>0.0</td>\n",
              "      <td>0.0</td>\n",
              "      <td>2.0</td>\n",
              "      <td>9.0</td>\n",
              "      <td>34.0</td>\n",
              "      <td>27.0</td>\n",
              "      <td>59.0</td>\n",
              "      <td>43.0</td>\n",
              "      <td>88.0</td>\n",
              "    </tr>\n",
              "    <tr>\n",
              "      <th>June</th>\n",
              "      <td>0.0</td>\n",
              "      <td>0.0</td>\n",
              "      <td>0.0</td>\n",
              "      <td>2.0</td>\n",
              "      <td>7.0</td>\n",
              "      <td>29.0</td>\n",
              "      <td>28.0</td>\n",
              "      <td>46.0</td>\n",
              "      <td>41.0</td>\n",
              "      <td>83.0</td>\n",
              "    </tr>\n",
              "    <tr>\n",
              "      <th>May</th>\n",
              "      <td>0.0</td>\n",
              "      <td>0.0</td>\n",
              "      <td>0.0</td>\n",
              "      <td>1.0</td>\n",
              "      <td>4.0</td>\n",
              "      <td>23.0</td>\n",
              "      <td>27.0</td>\n",
              "      <td>48.0</td>\n",
              "      <td>52.0</td>\n",
              "      <td>38.0</td>\n",
              "    </tr>\n",
              "    <tr>\n",
              "      <th>April</th>\n",
              "      <td>0.0</td>\n",
              "      <td>0.0</td>\n",
              "      <td>1.0</td>\n",
              "      <td>4.0</td>\n",
              "      <td>8.0</td>\n",
              "      <td>27.0</td>\n",
              "      <td>28.0</td>\n",
              "      <td>43.0</td>\n",
              "      <td>50.0</td>\n",
              "      <td>53.0</td>\n",
              "    </tr>\n",
              "    <tr>\n",
              "      <th>March</th>\n",
              "      <td>0.0</td>\n",
              "      <td>1.0</td>\n",
              "      <td>0.0</td>\n",
              "      <td>2.0</td>\n",
              "      <td>3.0</td>\n",
              "      <td>38.0</td>\n",
              "      <td>35.0</td>\n",
              "      <td>53.0</td>\n",
              "      <td>44.0</td>\n",
              "      <td>37.0</td>\n",
              "    </tr>\n",
              "    <tr>\n",
              "      <th>February</th>\n",
              "      <td>1.0</td>\n",
              "      <td>0.0</td>\n",
              "      <td>1.0</td>\n",
              "      <td>1.0</td>\n",
              "      <td>6.0</td>\n",
              "      <td>17.0</td>\n",
              "      <td>24.0</td>\n",
              "      <td>45.0</td>\n",
              "      <td>42.0</td>\n",
              "      <td>44.0</td>\n",
              "    </tr>\n",
              "    <tr>\n",
              "      <th>January</th>\n",
              "      <td>0.0</td>\n",
              "      <td>0.0</td>\n",
              "      <td>0.0</td>\n",
              "      <td>0.0</td>\n",
              "      <td>28.0</td>\n",
              "      <td>14.0</td>\n",
              "      <td>24.0</td>\n",
              "      <td>37.0</td>\n",
              "      <td>53.0</td>\n",
              "      <td>36.0</td>\n",
              "    </tr>\n",
              "  </tbody>\n",
              "</table>\n",
              "</div>\n",
              "      <button class=\"colab-df-convert\" onclick=\"convertToInteractive('df-f2f7da17-5c39-406d-b600-670d4408129d')\"\n",
              "              title=\"Convert this dataframe to an interactive table.\"\n",
              "              style=\"display:none;\">\n",
              "        \n",
              "  <svg xmlns=\"http://www.w3.org/2000/svg\" height=\"24px\"viewBox=\"0 0 24 24\"\n",
              "       width=\"24px\">\n",
              "    <path d=\"M0 0h24v24H0V0z\" fill=\"none\"/>\n",
              "    <path d=\"M18.56 5.44l.94 2.06.94-2.06 2.06-.94-2.06-.94-.94-2.06-.94 2.06-2.06.94zm-11 1L8.5 8.5l.94-2.06 2.06-.94-2.06-.94L8.5 2.5l-.94 2.06-2.06.94zm10 10l.94 2.06.94-2.06 2.06-.94-2.06-.94-.94-2.06-.94 2.06-2.06.94z\"/><path d=\"M17.41 7.96l-1.37-1.37c-.4-.4-.92-.59-1.43-.59-.52 0-1.04.2-1.43.59L10.3 9.45l-7.72 7.72c-.78.78-.78 2.05 0 2.83L4 21.41c.39.39.9.59 1.41.59.51 0 1.02-.2 1.41-.59l7.78-7.78 2.81-2.81c.8-.78.8-2.07 0-2.86zM5.41 20L4 18.59l7.72-7.72 1.47 1.35L5.41 20z\"/>\n",
              "  </svg>\n",
              "      </button>\n",
              "      \n",
              "  <style>\n",
              "    .colab-df-container {\n",
              "      display:flex;\n",
              "      flex-wrap:wrap;\n",
              "      gap: 12px;\n",
              "    }\n",
              "\n",
              "    .colab-df-convert {\n",
              "      background-color: #E8F0FE;\n",
              "      border: none;\n",
              "      border-radius: 50%;\n",
              "      cursor: pointer;\n",
              "      display: none;\n",
              "      fill: #1967D2;\n",
              "      height: 32px;\n",
              "      padding: 0 0 0 0;\n",
              "      width: 32px;\n",
              "    }\n",
              "\n",
              "    .colab-df-convert:hover {\n",
              "      background-color: #E2EBFA;\n",
              "      box-shadow: 0px 1px 2px rgba(60, 64, 67, 0.3), 0px 1px 3px 1px rgba(60, 64, 67, 0.15);\n",
              "      fill: #174EA6;\n",
              "    }\n",
              "\n",
              "    [theme=dark] .colab-df-convert {\n",
              "      background-color: #3B4455;\n",
              "      fill: #D2E3FC;\n",
              "    }\n",
              "\n",
              "    [theme=dark] .colab-df-convert:hover {\n",
              "      background-color: #434B5C;\n",
              "      box-shadow: 0px 1px 3px 1px rgba(0, 0, 0, 0.15);\n",
              "      filter: drop-shadow(0px 1px 2px rgba(0, 0, 0, 0.3));\n",
              "      fill: #FFFFFF;\n",
              "    }\n",
              "  </style>\n",
              "\n",
              "      <script>\n",
              "        const buttonEl =\n",
              "          document.querySelector('#df-f2f7da17-5c39-406d-b600-670d4408129d button.colab-df-convert');\n",
              "        buttonEl.style.display =\n",
              "          google.colab.kernel.accessAllowed ? 'block' : 'none';\n",
              "\n",
              "        async function convertToInteractive(key) {\n",
              "          const element = document.querySelector('#df-f2f7da17-5c39-406d-b600-670d4408129d');\n",
              "          const dataTable =\n",
              "            await google.colab.kernel.invokeFunction('convertToInteractive',\n",
              "                                                     [key], {});\n",
              "          if (!dataTable) return;\n",
              "\n",
              "          const docLinkHtml = 'Like what you see? Visit the ' +\n",
              "            '<a target=\"_blank\" href=https://colab.research.google.com/notebooks/data_table.ipynb>data table notebook</a>'\n",
              "            + ' to learn more about interactive tables.';\n",
              "          element.innerHTML = '';\n",
              "          dataTable['output_type'] = 'display_data';\n",
              "          await google.colab.output.renderOutput(dataTable, element);\n",
              "          const docLink = document.createElement('div');\n",
              "          docLink.innerHTML = docLinkHtml;\n",
              "          element.appendChild(docLink);\n",
              "        }\n",
              "      </script>\n",
              "    </div>\n",
              "  </div>\n",
              "  "
            ]
          },
          "metadata": {},
          "execution_count": 16
        }
      ]
    },
    {
      "cell_type": "code",
      "source": [
        "plt.figure(figsize=(10, 8), dpi=100)\n",
        "plt.pcolor(df, cmap='GnBu', edgecolors='white', linewidths=2)\n",
        "plt.xticks(np.arange(0.5, len(df.columns), 1), df.columns, fontsize=7)\n",
        "plt.yticks(np.arange(0.5, len(df.index), 1), df.index, fontsize=7)\n",
        "\n",
        "plt.title('Netflix Contents Update', fontsize=12, fontweight='bold')\n",
        "char = plt.colorbar()\n",
        "\n",
        "char.ax.tick_params(labelsize=0)\n",
        "char.ax.minorticks_on()\n",
        "plt.show()"
      ],
      "metadata": {
        "colab": {
          "base_uri": "https://localhost:8080/",
          "height": 688
        },
        "id": "qc96Ls8vldQj",
        "outputId": "f74c8da2-82cc-46d7-9f87-54e8e68c44a8"
      },
      "execution_count": 17,
      "outputs": [
        {
          "output_type": "display_data",
          "data": {
            "text/plain": [
              "<Figure size 1000x800 with 2 Axes>"
            ],
            "image/png": "[encoded data removed]"
          },
          "metadata": {}
        }
      ]
    },
    {
      "cell_type": "markdown",
      "source": [
        "## Анализ рейтингов фильмов"
      ],
      "metadata": {
        "id": "Pykb5W-Nnx7f"
      }
    },
    {
      "cell_type": "code",
      "source": [
        "plt.figure(figsize=(12, 10))\n",
        "sns.set(style='darkgrid')\n",
        "ax = sns.countplot(x='rating', data=netflix_movies, palette='Set2', order=netflix_movies['rating'].value_counts().index[0:15])"
      ],
      "metadata": {
        "colab": {
          "base_uri": "https://localhost:8080/",
          "height": 656
        },
        "id": "3-AQO4fcnPmr",
        "outputId": "17fe41ed-48a4-4c55-ad95-6bb1eb45b66f"
      },
      "execution_count": 18,
      "outputs": [
        {
          "output_type": "display_data",
          "data": {
            "text/plain": [
              "<Figure size 1200x1000 with 1 Axes>"
            ],
            "image/png": "[encoded data removed]"
          },
          "metadata": {}
        }
      ]
    },
    {
      "cell_type": "markdown",
      "source": [
        "- TV-MA - самая большая группа. Такой рейтинг дается фильмам только для взрослой аудитории\n",
        "- TV-14 - вторая по величине группа. Контент фильма с таким рейтингом не подходит для детей младше 14 лет\n",
        "- R - фильмы не подходят детям до 17 лет\n"
      ],
      "metadata": {
        "id": "WzMXj5qPoXaP"
      }
    },
    {
      "cell_type": "markdown",
      "source": [
        "## Анализ года выпуска фильма"
      ],
      "metadata": {
        "id": "ISXHkXYrpBa3"
      }
    },
    {
      "cell_type": "code",
      "source": [
        "plt.figure(figsize=(12, 10))\n",
        "sns.set(style='darkgrid')\n",
        "ax = sns.countplot(y='release_year', data=netflix_movies, palette='Set2', order=netflix_movies['release_year'].value_counts().index[0:15])"
      ],
      "metadata": {
        "colab": {
          "base_uri": "https://localhost:8080/",
          "height": 651
        },
        "id": "PnyWmQMZoQlU",
        "outputId": "25cfcd33-afbf-45a3-c133-47dd39eee664"
      },
      "execution_count": 19,
      "outputs": [
        {
          "output_type": "display_data",
          "data": {
            "text/plain": [
              "<Figure size 1200x1000 with 1 Axes>"
            ],
            "image/png": "[encoded data removed]"
          },
          "metadata": {}
        }
      ]
    },
    {
      "cell_type": "markdown",
      "source": [
        "В 2017 выходило больше всех фильмов"
      ],
      "metadata": {
        "id": "Jx5cQ3fKqCrh"
      }
    },
    {
      "cell_type": "markdown",
      "source": [
        "## Топ 10 стран, которые выпускают фильмы"
      ],
      "metadata": {
        "id": "5MgGaAR0pfNW"
      }
    },
    {
      "cell_type": "markdown",
      "source": [
        "Проверим пропуски в столбце `country`"
      ],
      "metadata": {
        "id": "jmZyj8YhqVtE"
      }
    },
    {
      "cell_type": "code",
      "source": [
        "netflix_movies.isna().sum()"
      ],
      "metadata": {
        "colab": {
          "base_uri": "https://localhost:8080/"
        },
        "id": "154EOUdXqLKM",
        "outputId": "caa1557f-16d2-4759-d470-2bbace64b468"
      },
      "execution_count": 20,
      "outputs": [
        {
          "output_type": "execute_result",
          "data": {
            "text/plain": [
              "show_id           0\n",
              "type              0\n",
              "title             0\n",
              "director        188\n",
              "cast            475\n",
              "country         440\n",
              "date_added        0\n",
              "release_year      0\n",
              "rating            2\n",
              "duration          3\n",
              "listed_in         0\n",
              "description       0\n",
              "dtype: int64"
            ]
          },
          "metadata": {},
          "execution_count": 20
        }
      ]
    },
    {
      "cell_type": "code",
      "source": [
        "netflix_movies['country'].fillna('Unknown', inplace=True)\n",
        "netflix_movies.isna().sum()"
      ],
      "metadata": {
        "colab": {
          "base_uri": "https://localhost:8080/"
        },
        "id": "tiMAVbv6qQjb",
        "outputId": "7c2efb47-7afa-49ee-a765-a5ad57556a19"
      },
      "execution_count": 21,
      "outputs": [
        {
          "output_type": "execute_result",
          "data": {
            "text/plain": [
              "show_id           0\n",
              "type              0\n",
              "title             0\n",
              "director        188\n",
              "cast            475\n",
              "country           0\n",
              "date_added        0\n",
              "release_year      0\n",
              "rating            2\n",
              "duration          3\n",
              "listed_in         0\n",
              "description       0\n",
              "dtype: int64"
            ]
          },
          "metadata": {},
          "execution_count": 21
        }
      ]
    },
    {
      "cell_type": "markdown",
      "source": [
        "Пропусков больше нет"
      ],
      "metadata": {
        "id": "UQnZpljtqzO5"
      }
    },
    {
      "cell_type": "code",
      "source": [
        "netflix_movies['country'].value_counts()"
      ],
      "metadata": {
        "colab": {
          "base_uri": "https://localhost:8080/"
        },
        "id": "KMC4e1AAqrPs",
        "outputId": "32b7d40d-2355-4d94-b882-e644f2a174fa"
      },
      "execution_count": 22,
      "outputs": [
        {
          "output_type": "execute_result",
          "data": {
            "text/plain": [
              "United States                            2058\n",
              "India                                     893\n",
              "Unknown                                   440\n",
              "United Kingdom                            206\n",
              "Canada                                    122\n",
              "                                         ... \n",
              "United Kingdom, Russia, United States       1\n",
              "Paraguay, Argentina                         1\n",
              "United Kingdom, Malawi                      1\n",
              "Austria, Iraq, United States                1\n",
              "United Arab Emirates, Jordan                1\n",
              "Name: country, Length: 652, dtype: int64"
            ]
          },
          "metadata": {},
          "execution_count": 22
        }
      ]
    },
    {
      "cell_type": "code",
      "source": [
        "countries_mov = {}\n",
        "\n",
        "cou = list(netflix_movies['country'])\n",
        "for i in cou:\n",
        "  i = i.replace(' ', '')\n",
        "  i = list(i.split(','))\n",
        "\n",
        "  for j in i:\n",
        "    if j in list(countries_mov.keys()):\n",
        "      countries_mov[j]+=1\n",
        "    else:\n",
        "      countries_mov[j]=1"
      ],
      "metadata": {
        "id": "Mp_dIciXq9fj"
      },
      "execution_count": 23,
      "outputs": []
    },
    {
      "cell_type": "code",
      "source": [
        "countries_mov"
      ],
      "metadata": {
        "colab": {
          "base_uri": "https://localhost:8080/"
        },
        "id": "OKbUDGtgrnw7",
        "outputId": "f211837f-1016-4363-868d-0bf900bb1523"
      },
      "execution_count": 24,
      "outputs": [
        {
          "output_type": "execute_result",
          "data": {
            "text/plain": [
              "{'UnitedStates': 2752,\n",
              " 'Unknown': 440,\n",
              " 'Ghana': 5,\n",
              " 'BurkinaFaso': 1,\n",
              " 'UnitedKingdom': 534,\n",
              " 'Germany': 182,\n",
              " 'Ethiopia': 1,\n",
              " 'CzechRepublic': 16,\n",
              " 'India': 962,\n",
              " 'France': 303,\n",
              " 'China': 114,\n",
              " 'Canada': 319,\n",
              " 'SouthAfrica': 51,\n",
              " 'Japan': 119,\n",
              " 'Nigeria': 94,\n",
              " 'Spain': 171,\n",
              " 'Australia': 94,\n",
              " 'Mexico': 111,\n",
              " 'Italy': 75,\n",
              " 'Romania': 14,\n",
              " 'Argentina': 71,\n",
              " 'Venezuela': 4,\n",
              " 'HongKong': 100,\n",
              " 'Nepal': 2,\n",
              " 'NewZealand': 25,\n",
              " 'Brazil': 66,\n",
              " 'Greece': 9,\n",
              " 'Colombia': 20,\n",
              " 'Belgium': 78,\n",
              " 'Switzerland': 18,\n",
              " 'Bulgaria': 10,\n",
              " '': 6,\n",
              " 'Algeria': 3,\n",
              " 'Poland': 32,\n",
              " 'Israel': 19,\n",
              " 'SaudiArabia': 9,\n",
              " 'Thailand': 46,\n",
              " 'Indonesia': 86,\n",
              " 'Egypt': 102,\n",
              " 'Denmark': 34,\n",
              " 'Kuwait': 5,\n",
              " 'Netherlands': 42,\n",
              " 'Singapore': 18,\n",
              " 'Malaysia': 18,\n",
              " 'SouthKorea': 61,\n",
              " 'Vietnam': 7,\n",
              " 'Hungary': 10,\n",
              " 'Lebanon': 24,\n",
              " 'Syria': 2,\n",
              " 'Philippines': 80,\n",
              " 'UnitedArabEmirates': 36,\n",
              " 'Sweden': 31,\n",
              " 'Qatar': 10,\n",
              " 'Mauritius': 1,\n",
              " 'Austria': 11,\n",
              " 'Turkey': 83,\n",
              " 'Russia': 11,\n",
              " 'Taiwan': 19,\n",
              " 'Cameroon': 1,\n",
              " 'Palestine': 1,\n",
              " 'Ireland': 32,\n",
              " 'Kenya': 6,\n",
              " 'Chile': 24,\n",
              " 'Uruguay': 13,\n",
              " 'Cambodia': 6,\n",
              " 'Bangladesh': 4,\n",
              " 'Portugal': 6,\n",
              " 'CaymanIslands': 2,\n",
              " 'Norway': 21,\n",
              " 'Iceland': 8,\n",
              " 'Serbia': 7,\n",
              " 'Malta': 2,\n",
              " 'Luxembourg': 10,\n",
              " 'Namibia': 2,\n",
              " 'Angola': 1,\n",
              " 'Peru': 10,\n",
              " 'Mozambique': 1,\n",
              " 'Jordan': 7,\n",
              " 'Zimbabwe': 3,\n",
              " 'Pakistan': 20,\n",
              " 'Guatemala': 2,\n",
              " 'Senegal': 2,\n",
              " 'Finland': 7,\n",
              " 'Iraq': 2,\n",
              " 'Malawi': 1,\n",
              " 'Paraguay': 1,\n",
              " 'Iran': 4,\n",
              " 'Albania': 1,\n",
              " 'Georgia': 2,\n",
              " 'SovietUnion': 3,\n",
              " 'Morocco': 6,\n",
              " 'Slovakia': 1,\n",
              " 'WestGermany': 3,\n",
              " 'Ukraine': 1,\n",
              " 'Bermuda': 1,\n",
              " 'Ecuador': 1,\n",
              " 'Armenia': 1,\n",
              " 'Mongolia': 1,\n",
              " 'Bahamas': 1,\n",
              " 'SriLanka': 1,\n",
              " 'Latvia': 1,\n",
              " 'Liechtenstein': 1,\n",
              " 'Nicaragua': 1,\n",
              " 'Croatia': 3,\n",
              " 'Slovenia': 3,\n",
              " 'DominicanRepublic': 1,\n",
              " 'Samoa': 1,\n",
              " 'Botswana': 1,\n",
              " 'VaticanCity': 1,\n",
              " 'Jamaica': 1,\n",
              " 'Kazakhstan': 1,\n",
              " 'Lithuania': 1,\n",
              " 'Afghanistan': 1,\n",
              " 'Somalia': 1,\n",
              " 'Sudan': 1,\n",
              " 'Panama': 1,\n",
              " 'Uganda': 1,\n",
              " 'EastGermany': 1,\n",
              " 'Montenegro': 1}"
            ]
          },
          "metadata": {},
          "execution_count": 24
        }
      ]
    },
    {
      "cell_type": "code",
      "source": [
        "countries_fin = sorted(countries_mov.items(), key=lambda item: countries_mov[item[0]], reverse=True)\n",
        "countries_fin = countries_fin[:10]\n",
        "countries_fin"
      ],
      "metadata": {
        "colab": {
          "base_uri": "https://localhost:8080/"
        },
        "id": "8I7e85R9r9AO",
        "outputId": "18d82158-06ec-4640-91f0-1344bee9621a"
      },
      "execution_count": 25,
      "outputs": [
        {
          "output_type": "execute_result",
          "data": {
            "text/plain": [
              "[('UnitedStates', 2752),\n",
              " ('India', 962),\n",
              " ('UnitedKingdom', 534),\n",
              " ('Unknown', 440),\n",
              " ('Canada', 319),\n",
              " ('France', 303),\n",
              " ('Germany', 182),\n",
              " ('Spain', 171),\n",
              " ('Japan', 119),\n",
              " ('China', 114)]"
            ]
          },
          "metadata": {},
          "execution_count": 25
        }
      ]
    },
    {
      "cell_type": "code",
      "source": [
        "names = [name for name, value in countries_fin]\n",
        "names"
      ],
      "metadata": {
        "colab": {
          "base_uri": "https://localhost:8080/"
        },
        "id": "kpVy09bitruy",
        "outputId": "d2207e7e-213e-4ee5-bfef-7a378c2b2911"
      },
      "execution_count": 26,
      "outputs": [
        {
          "output_type": "execute_result",
          "data": {
            "text/plain": [
              "['UnitedStates',\n",
              " 'India',\n",
              " 'UnitedKingdom',\n",
              " 'Unknown',\n",
              " 'Canada',\n",
              " 'France',\n",
              " 'Germany',\n",
              " 'Spain',\n",
              " 'Japan',\n",
              " 'China']"
            ]
          },
          "metadata": {},
          "execution_count": 26
        }
      ]
    },
    {
      "cell_type": "code",
      "source": [
        "values = [value for name, value in countries_fin]\n",
        "values"
      ],
      "metadata": {
        "colab": {
          "base_uri": "https://localhost:8080/"
        },
        "id": "6W1-i1O8t7nz",
        "outputId": "e6ea4f21-f6d7-49bd-b41d-dabc95491206"
      },
      "execution_count": 27,
      "outputs": [
        {
          "output_type": "execute_result",
          "data": {
            "text/plain": [
              "[2752, 962, 534, 440, 319, 303, 182, 171, 119, 114]"
            ]
          },
          "metadata": {},
          "execution_count": 27
        }
      ]
    },
    {
      "cell_type": "code",
      "source": [
        "plt.figure(figsize=(8,8))\n",
        "ax = sns.barplot(x=names, y=values)\n",
        "ax.set_xticklabels(names, rotation=45)"
      ],
      "metadata": {
        "colab": {
          "base_uri": "https://localhost:8080/",
          "height": 934
        },
        "id": "Rb1LQsDjuB66",
        "outputId": "d0386a12-92d6-49d9-e402-318245e554c0"
      },
      "execution_count": 28,
      "outputs": [
        {
          "output_type": "execute_result",
          "data": {
            "text/plain": [
              "[Text(0, 0, 'UnitedStates'),\n",
              " Text(1, 0, 'India'),\n",
              " Text(2, 0, 'UnitedKingdom'),\n",
              " Text(3, 0, 'Unknown'),\n",
              " Text(4, 0, 'Canada'),\n",
              " Text(5, 0, 'France'),\n",
              " Text(6, 0, 'Germany'),\n",
              " Text(7, 0, 'Spain'),\n",
              " Text(8, 0, 'Japan'),\n",
              " Text(9, 0, 'China')]"
            ]
          },
          "metadata": {},
          "execution_count": 28
        },
        {
          "output_type": "display_data",
          "data": {
            "text/plain": [
              "<Figure size 800x800 with 1 Axes>"
            ],
            "image/png": "[encoded data removed]"
          },
          "metadata": {}
        }
      ]
    },
    {
      "cell_type": "markdown",
      "source": [
        "## Анализ продолжительности фильмов"
      ],
      "metadata": {
        "id": "1sGuvjQvua-v"
      }
    },
    {
      "cell_type": "code",
      "source": [
        "netflix_movies['duration'].fillna('0 min', inplace=True)"
      ],
      "metadata": {
        "id": "sBf1FT_mvUR4"
      },
      "execution_count": 29,
      "outputs": []
    },
    {
      "cell_type": "code",
      "source": [
        "netflix_movies['duration']"
      ],
      "metadata": {
        "colab": {
          "base_uri": "https://localhost:8080/"
        },
        "id": "MLoWjZVQuU_y",
        "outputId": "3a595f11-901f-4e9c-fb76-66970724906a"
      },
      "execution_count": 30,
      "outputs": [
        {
          "output_type": "execute_result",
          "data": {
            "text/plain": [
              "0        90 min\n",
              "6        91 min\n",
              "7       125 min\n",
              "9       104 min\n",
              "12      127 min\n",
              "         ...   \n",
              "8801     96 min\n",
              "8802    158 min\n",
              "8804     88 min\n",
              "8805     88 min\n",
              "8806    111 min\n",
              "Name: duration, Length: 6131, dtype: object"
            ]
          },
          "metadata": {},
          "execution_count": 30
        }
      ]
    },
    {
      "cell_type": "code",
      "source": [
        "netflix_movies['duration'] = netflix_movies['duration'].str.replace(' min', '')\n",
        "netflix_movies['duration'] = netflix_movies['duration'].astype(int)\n",
        "netflix_movies['duration']"
      ],
      "metadata": {
        "colab": {
          "base_uri": "https://localhost:8080/"
        },
        "id": "h1KYxGiFuiFS",
        "outputId": "862d2d10-7340-4931-8fad-542f72f40e18"
      },
      "execution_count": 31,
      "outputs": [
        {
          "output_type": "execute_result",
          "data": {
            "text/plain": [
              "0        90\n",
              "6        91\n",
              "7       125\n",
              "9       104\n",
              "12      127\n",
              "       ... \n",
              "8801     96\n",
              "8802    158\n",
              "8804     88\n",
              "8805     88\n",
              "8806    111\n",
              "Name: duration, Length: 6131, dtype: int64"
            ]
          },
          "metadata": {},
          "execution_count": 31
        }
      ]
    },
    {
      "cell_type": "code",
      "source": [
        "sns.set(style='darkgrid')\n",
        "plt.figure(figsize=(10,8))\n",
        "sns.kdeplot(data=netflix_movies['duration'], fill=True)"
      ],
      "metadata": {
        "colab": {
          "base_uri": "https://localhost:8080/",
          "height": 640
        },
        "id": "1XhDDdBluzsi",
        "outputId": "2acb292c-a766-43df-d88e-e1aab9a704e7"
      },
      "execution_count": 32,
      "outputs": [
        {
          "output_type": "execute_result",
          "data": {
            "text/plain": [
              "<Axes: xlabel='duration', ylabel='Density'>"
            ]
          },
          "metadata": {},
          "execution_count": 32
        },
        {
          "output_type": "display_data",
          "data": {
            "text/plain": [
              "<Figure size 1000x800 with 1 Axes>"
            ],
            "image/png": "[encoded data removed]"
          },
          "metadata": {}
        }
      ]
    },
    {
      "cell_type": "markdown",
      "source": [
        "Средняя длительность фильмов от 75-120 минут"
      ],
      "metadata": {
        "id": "BkRvkawbwJ-U"
      }
    },
    {
      "cell_type": "markdown",
      "source": [
        "## Анализ жанров"
      ],
      "metadata": {
        "id": "uQuWUOchwTlP"
      }
    },
    {
      "cell_type": "code",
      "source": [
        "netflix_movies['listed_in']"
      ],
      "metadata": {
        "colab": {
          "base_uri": "https://localhost:8080/"
        },
        "id": "CLl9u1aov-zD",
        "outputId": "72e06ed3-4cfe-46e4-ec1f-1e2bd3636f1f"
      },
      "execution_count": 33,
      "outputs": [
        {
          "output_type": "execute_result",
          "data": {
            "text/plain": [
              "0                                          Documentaries\n",
              "6                               Children & Family Movies\n",
              "7       Dramas, Independent Movies, International Movies\n",
              "9                                       Comedies, Dramas\n",
              "12                          Dramas, International Movies\n",
              "                              ...                       \n",
              "8801             Dramas, International Movies, Thrillers\n",
              "8802                      Cult Movies, Dramas, Thrillers\n",
              "8804                             Comedies, Horror Movies\n",
              "8805                  Children & Family Movies, Comedies\n",
              "8806      Dramas, International Movies, Music & Musicals\n",
              "Name: listed_in, Length: 6131, dtype: object"
            ]
          },
          "metadata": {},
          "execution_count": 33
        }
      ]
    },
    {
      "cell_type": "code",
      "source": [
        "from collections import Counter\n",
        "\n",
        "genres = list(netflix_movies['listed_in'])\n",
        "gen = []\n",
        "\n",
        "for i in genres:\n",
        "  i = list(i.split(','))\n",
        "  for j in i:\n",
        "    gen.append(j.replace(' ', ''))\n",
        "\n",
        "g = Counter(gen)\n",
        "g"
      ],
      "metadata": {
        "colab": {
          "base_uri": "https://localhost:8080/"
        },
        "id": "3MWBLd3NwcXq",
        "outputId": "71cfd742-7138-4476-95f8-a384afc059cd"
      },
      "execution_count": 34,
      "outputs": [
        {
          "output_type": "execute_result",
          "data": {
            "text/plain": [
              "Counter({'Documentaries': 869,\n",
              "         'Children&FamilyMovies': 641,\n",
              "         'Dramas': 2427,\n",
              "         'IndependentMovies': 756,\n",
              "         'InternationalMovies': 2752,\n",
              "         'Comedies': 1674,\n",
              "         'Thrillers': 577,\n",
              "         'RomanticMovies': 616,\n",
              "         'Music&Musicals': 375,\n",
              "         'HorrorMovies': 357,\n",
              "         'Sci-Fi&Fantasy': 243,\n",
              "         'Action&Adventure': 859,\n",
              "         'ClassicMovies': 116,\n",
              "         'AnimeFeatures': 71,\n",
              "         'SportsMovies': 219,\n",
              "         'CultMovies': 71,\n",
              "         'Faith&Spirituality': 65,\n",
              "         'LGBTQMovies': 102,\n",
              "         'Stand-UpComedy': 343,\n",
              "         'Movies': 57})"
            ]
          },
          "metadata": {},
          "execution_count": 34
        }
      ]
    },
    {
      "cell_type": "code",
      "source": [
        "g = sorted(g.items(), key=lambda item : g[item[0]], reverse=True)\n",
        "g"
      ],
      "metadata": {
        "colab": {
          "base_uri": "https://localhost:8080/"
        },
        "id": "R4AxVwtPxGTh",
        "outputId": "f7a16d86-f782-40fb-b808-3bc8b2eeedb7"
      },
      "execution_count": 35,
      "outputs": [
        {
          "output_type": "execute_result",
          "data": {
            "text/plain": [
              "[('InternationalMovies', 2752),\n",
              " ('Dramas', 2427),\n",
              " ('Comedies', 1674),\n",
              " ('Documentaries', 869),\n",
              " ('Action&Adventure', 859),\n",
              " ('IndependentMovies', 756),\n",
              " ('Children&FamilyMovies', 641),\n",
              " ('RomanticMovies', 616),\n",
              " ('Thrillers', 577),\n",
              " ('Music&Musicals', 375),\n",
              " ('HorrorMovies', 357),\n",
              " ('Stand-UpComedy', 343),\n",
              " ('Sci-Fi&Fantasy', 243),\n",
              " ('SportsMovies', 219),\n",
              " ('ClassicMovies', 116),\n",
              " ('LGBTQMovies', 102),\n",
              " ('AnimeFeatures', 71),\n",
              " ('CultMovies', 71),\n",
              " ('Faith&Spirituality', 65),\n",
              " ('Movies', 57)]"
            ]
          },
          "metadata": {},
          "execution_count": 35
        }
      ]
    },
    {
      "cell_type": "code",
      "source": [
        "genre_names = [name for name, value in g]\n",
        "genre_names"
      ],
      "metadata": {
        "colab": {
          "base_uri": "https://localhost:8080/"
        },
        "id": "INb2vCvdxawK",
        "outputId": "853064ab-4d87-4393-ddab-f335e095b6a4"
      },
      "execution_count": 36,
      "outputs": [
        {
          "output_type": "execute_result",
          "data": {
            "text/plain": [
              "['InternationalMovies',\n",
              " 'Dramas',\n",
              " 'Comedies',\n",
              " 'Documentaries',\n",
              " 'Action&Adventure',\n",
              " 'IndependentMovies',\n",
              " 'Children&FamilyMovies',\n",
              " 'RomanticMovies',\n",
              " 'Thrillers',\n",
              " 'Music&Musicals',\n",
              " 'HorrorMovies',\n",
              " 'Stand-UpComedy',\n",
              " 'Sci-Fi&Fantasy',\n",
              " 'SportsMovies',\n",
              " 'ClassicMovies',\n",
              " 'LGBTQMovies',\n",
              " 'AnimeFeatures',\n",
              " 'CultMovies',\n",
              " 'Faith&Spirituality',\n",
              " 'Movies']"
            ]
          },
          "metadata": {},
          "execution_count": 36
        }
      ]
    },
    {
      "cell_type": "code",
      "source": [
        "genre_values = [value for name, value in g]\n",
        "genre_values"
      ],
      "metadata": {
        "colab": {
          "base_uri": "https://localhost:8080/"
        },
        "id": "OCB6DSg-xk6a",
        "outputId": "96d107e7-fdcf-4195-d56a-db4ad91325ab"
      },
      "execution_count": 37,
      "outputs": [
        {
          "output_type": "execute_result",
          "data": {
            "text/plain": [
              "[2752,\n",
              " 2427,\n",
              " 1674,\n",
              " 869,\n",
              " 859,\n",
              " 756,\n",
              " 641,\n",
              " 616,\n",
              " 577,\n",
              " 375,\n",
              " 357,\n",
              " 343,\n",
              " 243,\n",
              " 219,\n",
              " 116,\n",
              " 102,\n",
              " 71,\n",
              " 71,\n",
              " 65,\n",
              " 57]"
            ]
          },
          "metadata": {},
          "execution_count": 37
        }
      ]
    },
    {
      "cell_type": "code",
      "source": [
        "fig = plt.figure(figsize=(10, 10))\n",
        "ax = sns.barplot(x=genre_names, y=genre_values)\n",
        "\n",
        "ax.set_xticklabels(genre_names, rotation=70)\n",
        "ax.set_ylabel('Count of movies')\n",
        "ax.set_title('Genres')"
      ],
      "metadata": {
        "colab": {
          "base_uri": "https://localhost:8080/",
          "height": 927
        },
        "id": "GoofzO8FxrUK",
        "outputId": "b1c761e0-d751-4520-b20c-72010e1312c3"
      },
      "execution_count": 38,
      "outputs": [
        {
          "output_type": "execute_result",
          "data": {
            "text/plain": [
              "Text(0.5, 1.0, 'Genres')"
            ]
          },
          "metadata": {},
          "execution_count": 38
        },
        {
          "output_type": "display_data",
          "data": {
            "text/plain": [
              "<Figure size 1000x1000 with 1 Axes>"
            ],
            "image/png": "[encoded data removed]"
          },
          "metadata": {}
        }
      ]
    },
    {
      "cell_type": "markdown",
      "source": [
        "Интернациональные фильмы, драмы и комедии - топовые жанры"
      ],
      "metadata": {
        "id": "IOgUd9d0yN1i"
      }
    },
    {
      "cell_type": "markdown",
      "source": [
        "# Анализ сериалов"
      ],
      "metadata": {
        "id": "xyXbiA_TyYy_"
      }
    },
    {
      "cell_type": "markdown",
      "source": [
        "## Анализ стран, выпускающих сериалы"
      ],
      "metadata": {
        "id": "U0-ixUBeykiX"
      }
    },
    {
      "cell_type": "code",
      "source": [
        "netflix_shows.isna().sum()"
      ],
      "metadata": {
        "colab": {
          "base_uri": "https://localhost:8080/"
        },
        "id": "DlHbvSlxyMXi",
        "outputId": "63209c0c-0af3-4f63-a9de-a69481094d09"
      },
      "execution_count": 39,
      "outputs": [
        {
          "output_type": "execute_result",
          "data": {
            "text/plain": [
              "show_id            0\n",
              "type               0\n",
              "title              0\n",
              "director        2446\n",
              "cast             350\n",
              "country          391\n",
              "date_added        10\n",
              "release_year       0\n",
              "rating             2\n",
              "duration           0\n",
              "listed_in          0\n",
              "description        0\n",
              "dtype: int64"
            ]
          },
          "metadata": {},
          "execution_count": 39
        }
      ]
    },
    {
      "cell_type": "code",
      "source": [
        "netflix_shows['country'].fillna('Unknown', inplace=True)\n",
        "netflix_shows.isna().sum()"
      ],
      "metadata": {
        "colab": {
          "base_uri": "https://localhost:8080/"
        },
        "id": "8oTj5OO5yugr",
        "outputId": "99cff4fe-d391-4ef4-fcf4-283e7067507b"
      },
      "execution_count": 40,
      "outputs": [
        {
          "output_type": "execute_result",
          "data": {
            "text/plain": [
              "show_id            0\n",
              "type               0\n",
              "title              0\n",
              "director        2446\n",
              "cast             350\n",
              "country            0\n",
              "date_added        10\n",
              "release_year       0\n",
              "rating             2\n",
              "duration           0\n",
              "listed_in          0\n",
              "description        0\n",
              "dtype: int64"
            ]
          },
          "metadata": {},
          "execution_count": 40
        }
      ]
    },
    {
      "cell_type": "code",
      "source": [
        "netflix_shows['country'].value_counts()"
      ],
      "metadata": {
        "colab": {
          "base_uri": "https://localhost:8080/"
        },
        "id": "lWsURexkzKek",
        "outputId": "b980f0a6-4a28-4d60-cae8-8e5621802dda"
      },
      "execution_count": 41,
      "outputs": [
        {
          "output_type": "execute_result",
          "data": {
            "text/plain": [
              "United States                                    760\n",
              "Unknown                                          391\n",
              "United Kingdom                                   213\n",
              "Japan                                            169\n",
              "South Korea                                      158\n",
              "                                                ... \n",
              "Belarus                                            1\n",
              "United Kingdom, Australia                          1\n",
              "France, Australia, Germany                         1\n",
              "Australia, New Zealand, United States              1\n",
              "United States, France, South Korea, Indonesia      1\n",
              "Name: country, Length: 197, dtype: int64"
            ]
          },
          "metadata": {},
          "execution_count": 41
        }
      ]
    },
    {
      "cell_type": "code",
      "source": [
        "countries_show = {}\n",
        "\n",
        "cou = list(netflix_shows['country'])\n",
        "for i in cou:\n",
        "  i = i.replace(' ', '')\n",
        "  i = list(i.split(','))\n",
        "\n",
        "  for j in i:\n",
        "    if j in list(countries_show.keys()):\n",
        "      countries_show[j]+=1\n",
        "    else:\n",
        "      countries_show[j]=1\n",
        "\n",
        "countries_show"
      ],
      "metadata": {
        "colab": {
          "base_uri": "https://localhost:8080/"
        },
        "id": "HiGwDYsSzg7g",
        "outputId": "e7154f64-9c38-4586-ec9b-ed1255a37d98"
      },
      "execution_count": 42,
      "outputs": [
        {
          "output_type": "execute_result",
          "data": {
            "text/plain": [
              "{'SouthAfrica': 11,\n",
              " 'Unknown': 391,\n",
              " 'India': 84,\n",
              " 'UnitedKingdom': 272,\n",
              " 'UnitedStates': 938,\n",
              " 'Mexico': 58,\n",
              " 'Turkey': 30,\n",
              " 'Australia': 66,\n",
              " 'Finland': 4,\n",
              " 'Nigeria': 9,\n",
              " 'Japan': 199,\n",
              " 'Belgium': 12,\n",
              " 'France': 90,\n",
              " 'SouthKorea': 170,\n",
              " 'Spain': 61,\n",
              " 'Singapore': 23,\n",
              " 'Russia': 16,\n",
              " '': 1,\n",
              " 'Ireland': 14,\n",
              " 'Italy': 25,\n",
              " 'Argentina': 20,\n",
              " 'Jordan': 2,\n",
              " 'Colombia': 32,\n",
              " 'Israel': 11,\n",
              " 'Taiwan': 70,\n",
              " 'Germany': 44,\n",
              " 'Canada': 126,\n",
              " 'Poland': 9,\n",
              " 'Thailand': 24,\n",
              " 'NewZealand': 8,\n",
              " 'Netherlands': 8,\n",
              " 'Sweden': 11,\n",
              " 'China': 48,\n",
              " 'Iceland': 3,\n",
              " 'Denmark': 14,\n",
              " 'Philippines': 3,\n",
              " 'Indonesia': 4,\n",
              " 'UnitedArabEmirates': 1,\n",
              " 'Norway': 9,\n",
              " 'CzechRepublic': 6,\n",
              " 'Lebanon': 7,\n",
              " 'Brazil': 31,\n",
              " 'Uruguay': 1,\n",
              " 'Egypt': 15,\n",
              " 'Luxembourg': 2,\n",
              " 'Senegal': 1,\n",
              " 'SaudiArabia': 4,\n",
              " 'Kuwait': 3,\n",
              " 'Belarus': 1,\n",
              " 'Chile': 5,\n",
              " 'Malta': 1,\n",
              " 'PuertoRico': 1,\n",
              " 'Austria': 1,\n",
              " 'Cyprus': 1,\n",
              " 'Malaysia': 8,\n",
              " 'Mauritius': 1,\n",
              " 'HongKong': 5,\n",
              " 'Croatia': 1,\n",
              " 'WestGermany': 2,\n",
              " 'Syria': 1,\n",
              " 'Hungary': 1,\n",
              " 'Cuba': 1,\n",
              " 'Greece': 2,\n",
              " 'Pakistan': 4,\n",
              " 'Azerbaijan': 1,\n",
              " 'Ukraine': 2,\n",
              " 'Switzerland': 1}"
            ]
          },
          "metadata": {},
          "execution_count": 42
        }
      ]
    },
    {
      "cell_type": "code",
      "source": [
        "countries_fin2 = sorted(countries_show.items(), key=lambda item: countries_show[item[0]], reverse=True)\n",
        "countries_fin2 = countries_fin2[:10]\n",
        "countries_fin2"
      ],
      "metadata": {
        "colab": {
          "base_uri": "https://localhost:8080/"
        },
        "id": "dBBuYqopzuKC",
        "outputId": "4a0daa47-e382-40e8-bf7e-78827771f13c"
      },
      "execution_count": 43,
      "outputs": [
        {
          "output_type": "execute_result",
          "data": {
            "text/plain": [
              "[('UnitedStates', 938),\n",
              " ('Unknown', 391),\n",
              " ('UnitedKingdom', 272),\n",
              " ('Japan', 199),\n",
              " ('SouthKorea', 170),\n",
              " ('Canada', 126),\n",
              " ('France', 90),\n",
              " ('India', 84),\n",
              " ('Taiwan', 70),\n",
              " ('Australia', 66)]"
            ]
          },
          "metadata": {},
          "execution_count": 43
        }
      ]
    },
    {
      "cell_type": "code",
      "source": [
        "names = [name for name, value in countries_fin2]\n",
        "names"
      ],
      "metadata": {
        "colab": {
          "base_uri": "https://localhost:8080/"
        },
        "id": "bo3-MwWx0DF7",
        "outputId": "098af061-feec-4e3d-d542-d37e8e6cb59e"
      },
      "execution_count": 44,
      "outputs": [
        {
          "output_type": "execute_result",
          "data": {
            "text/plain": [
              "['UnitedStates',\n",
              " 'Unknown',\n",
              " 'UnitedKingdom',\n",
              " 'Japan',\n",
              " 'SouthKorea',\n",
              " 'Canada',\n",
              " 'France',\n",
              " 'India',\n",
              " 'Taiwan',\n",
              " 'Australia']"
            ]
          },
          "metadata": {},
          "execution_count": 44
        }
      ]
    },
    {
      "cell_type": "code",
      "source": [
        "values = [value for name, value in countries_fin2]\n",
        "values"
      ],
      "metadata": {
        "colab": {
          "base_uri": "https://localhost:8080/"
        },
        "id": "5SjSv4TP0JkK",
        "outputId": "a1afc739-eaf7-46d1-e9ab-1216069ccef0"
      },
      "execution_count": 45,
      "outputs": [
        {
          "output_type": "execute_result",
          "data": {
            "text/plain": [
              "[938, 391, 272, 199, 170, 126, 90, 84, 70, 66]"
            ]
          },
          "metadata": {},
          "execution_count": 45
        }
      ]
    },
    {
      "cell_type": "code",
      "source": [
        "plt.figure(figsize=(8,8))\n",
        "ax = sns.barplot(x=names, y=values)\n",
        "ax.set_xticklabels(names, rotation=45)"
      ],
      "metadata": {
        "colab": {
          "base_uri": "https://localhost:8080/",
          "height": 934
        },
        "id": "PycIYlKW0S8B",
        "outputId": "615199f7-9231-421d-df90-c26192595a33"
      },
      "execution_count": 46,
      "outputs": [
        {
          "output_type": "execute_result",
          "data": {
            "text/plain": [
              "[Text(0, 0, 'UnitedStates'),\n",
              " Text(1, 0, 'Unknown'),\n",
              " Text(2, 0, 'UnitedKingdom'),\n",
              " Text(3, 0, 'Japan'),\n",
              " Text(4, 0, 'SouthKorea'),\n",
              " Text(5, 0, 'Canada'),\n",
              " Text(6, 0, 'France'),\n",
              " Text(7, 0, 'India'),\n",
              " Text(8, 0, 'Taiwan'),\n",
              " Text(9, 0, 'Australia')]"
            ]
          },
          "metadata": {},
          "execution_count": 46
        },
        {
          "output_type": "display_data",
          "data": {
            "text/plain": [
              "<Figure size 800x800 with 1 Axes>"
            ],
            "image/png": "[encoded data removed]"
          },
          "metadata": {}
        }
      ]
    },
    {
      "cell_type": "markdown",
      "source": [
        "Индия не выпускает так много сериалов как фильмов. США и Великобритания лидируют на первых позициях"
      ],
      "metadata": {
        "id": "ND3wac1a0tew"
      }
    },
    {
      "cell_type": "markdown",
      "source": [
        "## Сериалы с большим количеством сезонов"
      ],
      "metadata": {
        "id": "wPDmi_dG0izh"
      }
    },
    {
      "cell_type": "code",
      "source": [
        "features = ['title', 'duration']\n",
        "durations = netflix_shows[features]\n",
        "durations"
      ],
      "metadata": {
        "colab": {
          "base_uri": "https://localhost:8080/",
          "height": 424
        },
        "id": "0bG-lxtP08BL",
        "outputId": "d87cc63a-6e2b-4b17-d657-f26899f0023d"
      },
      "execution_count": 47,
      "outputs": [
        {
          "output_type": "execute_result",
          "data": {
            "text/plain": [
              "                      title   duration\n",
              "1             Blood & Water  2 Seasons\n",
              "2                 Ganglands   1 Season\n",
              "3     Jailbirds New Orleans   1 Season\n",
              "4              Kota Factory  2 Seasons\n",
              "5             Midnight Mass   1 Season\n",
              "...                     ...        ...\n",
              "8795        Yu-Gi-Oh! Arc-V  2 Seasons\n",
              "8796             Yunus Emre  2 Seasons\n",
              "8797              Zak Storm  3 Seasons\n",
              "8800     Zindagi Gulzar Hai   1 Season\n",
              "8803            Zombie Dumb  2 Seasons\n",
              "\n",
              "[2676 rows x 2 columns]"
            ],
            "text/html": [
              "\n",
              "  <div id=\"df-4017bf52-d307-4bde-be2a-84c437a78eed\">\n",
              "    <div class=\"colab-df-container\">\n",
              "      <div>\n",
              "<style scoped>\n",
              "    .dataframe tbody tr th:only-of-type {\n",
              "        vertical-align: middle;\n",
              "    }\n",
              "\n",
              "    .dataframe tbody tr th {\n",
              "        vertical-align: top;\n",
              "    }\n",
              "\n",
              "    .dataframe thead th {\n",
              "        text-align: right;\n",
              "    }\n",
              "</style>\n",
              "<table border=\"1\" class=\"dataframe\">\n",
              "  <thead>\n",
              "    <tr style=\"text-align: right;\">\n",
              "      <th></th>\n",
              "      <th>title</th>\n",
              "      <th>duration</th>\n",
              "    </tr>\n",
              "  </thead>\n",
              "  <tbody>\n",
              "    <tr>\n",
              "      <th>1</th>\n",
              "      <td>Blood &amp; Water</td>\n",
              "      <td>2 Seasons</td>\n",
              "    </tr>\n",
              "    <tr>\n",
              "      <th>2</th>\n",
              "      <td>Ganglands</td>\n",
              "      <td>1 Season</td>\n",
              "    </tr>\n",
              "    <tr>\n",
              "      <th>3</th>\n",
              "      <td>Jailbirds New Orleans</td>\n",
              "      <td>1 Season</td>\n",
              "    </tr>\n",
              "    <tr>\n",
              "      <th>4</th>\n",
              "      <td>Kota Factory</td>\n",
              "      <td>2 Seasons</td>\n",
              "    </tr>\n",
              "    <tr>\n",
              "      <th>5</th>\n",
              "      <td>Midnight Mass</td>\n",
              "      <td>1 Season</td>\n",
              "    </tr>\n",
              "    <tr>\n",
              "      <th>...</th>\n",
              "      <td>...</td>\n",
              "      <td>...</td>\n",
              "    </tr>\n",
              "    <tr>\n",
              "      <th>8795</th>\n",
              "      <td>Yu-Gi-Oh! Arc-V</td>\n",
              "      <td>2 Seasons</td>\n",
              "    </tr>\n",
              "    <tr>\n",
              "      <th>8796</th>\n",
              "      <td>Yunus Emre</td>\n",
              "      <td>2 Seasons</td>\n",
              "    </tr>\n",
              "    <tr>\n",
              "      <th>8797</th>\n",
              "      <td>Zak Storm</td>\n",
              "      <td>3 Seasons</td>\n",
              "    </tr>\n",
              "    <tr>\n",
              "      <th>8800</th>\n",
              "      <td>Zindagi Gulzar Hai</td>\n",
              "      <td>1 Season</td>\n",
              "    </tr>\n",
              "    <tr>\n",
              "      <th>8803</th>\n",
              "      <td>Zombie Dumb</td>\n",
              "      <td>2 Seasons</td>\n",
              "    </tr>\n",
              "  </tbody>\n",
              "</table>\n",
              "<p>2676 rows × 2 columns</p>\n",
              "</div>\n",
              "      <button class=\"colab-df-convert\" onclick=\"convertToInteractive('df-4017bf52-d307-4bde-be2a-84c437a78eed')\"\n",
              "              title=\"Convert this dataframe to an interactive table.\"\n",
              "              style=\"display:none;\">\n",
              "        \n",
              "  <svg xmlns=\"http://www.w3.org/2000/svg\" height=\"24px\"viewBox=\"0 0 24 24\"\n",
              "       width=\"24px\">\n",
              "    <path d=\"M0 0h24v24H0V0z\" fill=\"none\"/>\n",
              "    <path d=\"M18.56 5.44l.94 2.06.94-2.06 2.06-.94-2.06-.94-.94-2.06-.94 2.06-2.06.94zm-11 1L8.5 8.5l.94-2.06 2.06-.94-2.06-.94L8.5 2.5l-.94 2.06-2.06.94zm10 10l.94 2.06.94-2.06 2.06-.94-2.06-.94-.94-2.06-.94 2.06-2.06.94z\"/><path d=\"M17.41 7.96l-1.37-1.37c-.4-.4-.92-.59-1.43-.59-.52 0-1.04.2-1.43.59L10.3 9.45l-7.72 7.72c-.78.78-.78 2.05 0 2.83L4 21.41c.39.39.9.59 1.41.59.51 0 1.02-.2 1.41-.59l7.78-7.78 2.81-2.81c.8-.78.8-2.07 0-2.86zM5.41 20L4 18.59l7.72-7.72 1.47 1.35L5.41 20z\"/>\n",
              "  </svg>\n",
              "      </button>\n",
              "      \n",
              "  <style>\n",
              "    .colab-df-container {\n",
              "      display:flex;\n",
              "      flex-wrap:wrap;\n",
              "      gap: 12px;\n",
              "    }\n",
              "\n",
              "    .colab-df-convert {\n",
              "      background-color: #E8F0FE;\n",
              "      border: none;\n",
              "      border-radius: 50%;\n",
              "      cursor: pointer;\n",
              "      display: none;\n",
              "      fill: #1967D2;\n",
              "      height: 32px;\n",
              "      padding: 0 0 0 0;\n",
              "      width: 32px;\n",
              "    }\n",
              "\n",
              "    .colab-df-convert:hover {\n",
              "      background-color: #E2EBFA;\n",
              "      box-shadow: 0px 1px 2px rgba(60, 64, 67, 0.3), 0px 1px 3px 1px rgba(60, 64, 67, 0.15);\n",
              "      fill: #174EA6;\n",
              "    }\n",
              "\n",
              "    [theme=dark] .colab-df-convert {\n",
              "      background-color: #3B4455;\n",
              "      fill: #D2E3FC;\n",
              "    }\n",
              "\n",
              "    [theme=dark] .colab-df-convert:hover {\n",
              "      background-color: #434B5C;\n",
              "      box-shadow: 0px 1px 3px 1px rgba(0, 0, 0, 0.15);\n",
              "      filter: drop-shadow(0px 1px 2px rgba(0, 0, 0, 0.3));\n",
              "      fill: #FFFFFF;\n",
              "    }\n",
              "  </style>\n",
              "\n",
              "      <script>\n",
              "        const buttonEl =\n",
              "          document.querySelector('#df-4017bf52-d307-4bde-be2a-84c437a78eed button.colab-df-convert');\n",
              "        buttonEl.style.display =\n",
              "          google.colab.kernel.accessAllowed ? 'block' : 'none';\n",
              "\n",
              "        async function convertToInteractive(key) {\n",
              "          const element = document.querySelector('#df-4017bf52-d307-4bde-be2a-84c437a78eed');\n",
              "          const dataTable =\n",
              "            await google.colab.kernel.invokeFunction('convertToInteractive',\n",
              "                                                     [key], {});\n",
              "          if (!dataTable) return;\n",
              "\n",
              "          const docLinkHtml = 'Like what you see? Visit the ' +\n",
              "            '<a target=\"_blank\" href=https://colab.research.google.com/notebooks/data_table.ipynb>data table notebook</a>'\n",
              "            + ' to learn more about interactive tables.';\n",
              "          element.innerHTML = '';\n",
              "          dataTable['output_type'] = 'display_data';\n",
              "          await google.colab.output.renderOutput(dataTable, element);\n",
              "          const docLink = document.createElement('div');\n",
              "          docLink.innerHTML = docLinkHtml;\n",
              "          element.appendChild(docLink);\n",
              "        }\n",
              "      </script>\n",
              "    </div>\n",
              "  </div>\n",
              "  "
            ]
          },
          "metadata": {},
          "execution_count": 47
        }
      ]
    },
    {
      "cell_type": "code",
      "source": [
        "durations['no_of_seasons'] = durations['duration'].str.replace('Season', '')\n",
        "durations"
      ],
      "metadata": {
        "colab": {
          "base_uri": "https://localhost:8080/",
          "height": 583
        },
        "id": "QiER6JiY21t7",
        "outputId": "170e6249-dcbc-4bcf-8ee8-7d7b67986398"
      },
      "execution_count": 48,
      "outputs": [
        {
          "output_type": "stream",
          "name": "stderr",
          "text": [
            "<ipython-input-48-d7999dd17aeb>:1: SettingWithCopyWarning:\n",
            "\n",
            "\n",
            "A value is trying to be set on a copy of a slice from a DataFrame.\n",
            "Try using .loc[row_indexer,col_indexer] = value instead\n",
            "\n",
            "See the caveats in the documentation: https://pandas.pydata.org/pandas-docs/stable/user_guide/indexing.html#returning-a-view-versus-a-copy\n",
            "\n"
          ]
        },
        {
          "output_type": "execute_result",
          "data": {
            "text/plain": [
              "                      title   duration no_of_seasons\n",
              "1             Blood & Water  2 Seasons           2 s\n",
              "2                 Ganglands   1 Season            1 \n",
              "3     Jailbirds New Orleans   1 Season            1 \n",
              "4              Kota Factory  2 Seasons           2 s\n",
              "5             Midnight Mass   1 Season            1 \n",
              "...                     ...        ...           ...\n",
              "8795        Yu-Gi-Oh! Arc-V  2 Seasons           2 s\n",
              "8796             Yunus Emre  2 Seasons           2 s\n",
              "8797              Zak Storm  3 Seasons           3 s\n",
              "8800     Zindagi Gulzar Hai   1 Season            1 \n",
              "8803            Zombie Dumb  2 Seasons           2 s\n",
              "\n",
              "[2676 rows x 3 columns]"
            ],
            "text/html": [
              "\n",
              "  <div id=\"df-c1827f51-184f-4f33-963c-7ac9bd6b5be7\">\n",
              "    <div class=\"colab-df-container\">\n",
              "      <div>\n",
              "<style scoped>\n",
              "    .dataframe tbody tr th:only-of-type {\n",
              "        vertical-align: middle;\n",
              "    }\n",
              "\n",
              "    .dataframe tbody tr th {\n",
              "        vertical-align: top;\n",
              "    }\n",
              "\n",
              "    .dataframe thead th {\n",
              "        text-align: right;\n",
              "    }\n",
              "</style>\n",
              "<table border=\"1\" class=\"dataframe\">\n",
              "  <thead>\n",
              "    <tr style=\"text-align: right;\">\n",
              "      <th></th>\n",
              "      <th>title</th>\n",
              "      <th>duration</th>\n",
              "      <th>no_of_seasons</th>\n",
              "    </tr>\n",
              "  </thead>\n",
              "  <tbody>\n",
              "    <tr>\n",
              "      <th>1</th>\n",
              "      <td>Blood &amp; Water</td>\n",
              "      <td>2 Seasons</td>\n",
              "      <td>2 s</td>\n",
              "    </tr>\n",
              "    <tr>\n",
              "      <th>2</th>\n",
              "      <td>Ganglands</td>\n",
              "      <td>1 Season</td>\n",
              "      <td>1</td>\n",
              "    </tr>\n",
              "    <tr>\n",
              "      <th>3</th>\n",
              "      <td>Jailbirds New Orleans</td>\n",
              "      <td>1 Season</td>\n",
              "      <td>1</td>\n",
              "    </tr>\n",
              "    <tr>\n",
              "      <th>4</th>\n",
              "      <td>Kota Factory</td>\n",
              "      <td>2 Seasons</td>\n",
              "      <td>2 s</td>\n",
              "    </tr>\n",
              "    <tr>\n",
              "      <th>5</th>\n",
              "      <td>Midnight Mass</td>\n",
              "      <td>1 Season</td>\n",
              "      <td>1</td>\n",
              "    </tr>\n",
              "    <tr>\n",
              "      <th>...</th>\n",
              "      <td>...</td>\n",
              "      <td>...</td>\n",
              "      <td>...</td>\n",
              "    </tr>\n",
              "    <tr>\n",
              "      <th>8795</th>\n",
              "      <td>Yu-Gi-Oh! Arc-V</td>\n",
              "      <td>2 Seasons</td>\n",
              "      <td>2 s</td>\n",
              "    </tr>\n",
              "    <tr>\n",
              "      <th>8796</th>\n",
              "      <td>Yunus Emre</td>\n",
              "      <td>2 Seasons</td>\n",
              "      <td>2 s</td>\n",
              "    </tr>\n",
              "    <tr>\n",
              "      <th>8797</th>\n",
              "      <td>Zak Storm</td>\n",
              "      <td>3 Seasons</td>\n",
              "      <td>3 s</td>\n",
              "    </tr>\n",
              "    <tr>\n",
              "      <th>8800</th>\n",
              "      <td>Zindagi Gulzar Hai</td>\n",
              "      <td>1 Season</td>\n",
              "      <td>1</td>\n",
              "    </tr>\n",
              "    <tr>\n",
              "      <th>8803</th>\n",
              "      <td>Zombie Dumb</td>\n",
              "      <td>2 Seasons</td>\n",
              "      <td>2 s</td>\n",
              "    </tr>\n",
              "  </tbody>\n",
              "</table>\n",
              "<p>2676 rows × 3 columns</p>\n",
              "</div>\n",
              "      <button class=\"colab-df-convert\" onclick=\"convertToInteractive('df-c1827f51-184f-4f33-963c-7ac9bd6b5be7')\"\n",
              "              title=\"Convert this dataframe to an interactive table.\"\n",
              "              style=\"display:none;\">\n",
              "        \n",
              "  <svg xmlns=\"http://www.w3.org/2000/svg\" height=\"24px\"viewBox=\"0 0 24 24\"\n",
              "       width=\"24px\">\n",
              "    <path d=\"M0 0h24v24H0V0z\" fill=\"none\"/>\n",
              "    <path d=\"M18.56 5.44l.94 2.06.94-2.06 2.06-.94-2.06-.94-.94-2.06-.94 2.06-2.06.94zm-11 1L8.5 8.5l.94-2.06 2.06-.94-2.06-.94L8.5 2.5l-.94 2.06-2.06.94zm10 10l.94 2.06.94-2.06 2.06-.94-2.06-.94-.94-2.06-.94 2.06-2.06.94z\"/><path d=\"M17.41 7.96l-1.37-1.37c-.4-.4-.92-.59-1.43-.59-.52 0-1.04.2-1.43.59L10.3 9.45l-7.72 7.72c-.78.78-.78 2.05 0 2.83L4 21.41c.39.39.9.59 1.41.59.51 0 1.02-.2 1.41-.59l7.78-7.78 2.81-2.81c.8-.78.8-2.07 0-2.86zM5.41 20L4 18.59l7.72-7.72 1.47 1.35L5.41 20z\"/>\n",
              "  </svg>\n",
              "      </button>\n",
              "      \n",
              "  <style>\n",
              "    .colab-df-container {\n",
              "      display:flex;\n",
              "      flex-wrap:wrap;\n",
              "      gap: 12px;\n",
              "    }\n",
              "\n",
              "    .colab-df-convert {\n",
              "      background-color: #E8F0FE;\n",
              "      border: none;\n",
              "      border-radius: 50%;\n",
              "      cursor: pointer;\n",
              "      display: none;\n",
              "      fill: #1967D2;\n",
              "      height: 32px;\n",
              "      padding: 0 0 0 0;\n",
              "      width: 32px;\n",
              "    }\n",
              "\n",
              "    .colab-df-convert:hover {\n",
              "      background-color: #E2EBFA;\n",
              "      box-shadow: 0px 1px 2px rgba(60, 64, 67, 0.3), 0px 1px 3px 1px rgba(60, 64, 67, 0.15);\n",
              "      fill: #174EA6;\n",
              "    }\n",
              "\n",
              "    [theme=dark] .colab-df-convert {\n",
              "      background-color: #3B4455;\n",
              "      fill: #D2E3FC;\n",
              "    }\n",
              "\n",
              "    [theme=dark] .colab-df-convert:hover {\n",
              "      background-color: #434B5C;\n",
              "      box-shadow: 0px 1px 3px 1px rgba(0, 0, 0, 0.15);\n",
              "      filter: drop-shadow(0px 1px 2px rgba(0, 0, 0, 0.3));\n",
              "      fill: #FFFFFF;\n",
              "    }\n",
              "  </style>\n",
              "\n",
              "      <script>\n",
              "        const buttonEl =\n",
              "          document.querySelector('#df-c1827f51-184f-4f33-963c-7ac9bd6b5be7 button.colab-df-convert');\n",
              "        buttonEl.style.display =\n",
              "          google.colab.kernel.accessAllowed ? 'block' : 'none';\n",
              "\n",
              "        async function convertToInteractive(key) {\n",
              "          const element = document.querySelector('#df-c1827f51-184f-4f33-963c-7ac9bd6b5be7');\n",
              "          const dataTable =\n",
              "            await google.colab.kernel.invokeFunction('convertToInteractive',\n",
              "                                                     [key], {});\n",
              "          if (!dataTable) return;\n",
              "\n",
              "          const docLinkHtml = 'Like what you see? Visit the ' +\n",
              "            '<a target=\"_blank\" href=https://colab.research.google.com/notebooks/data_table.ipynb>data table notebook</a>'\n",
              "            + ' to learn more about interactive tables.';\n",
              "          element.innerHTML = '';\n",
              "          dataTable['output_type'] = 'display_data';\n",
              "          await google.colab.output.renderOutput(dataTable, element);\n",
              "          const docLink = document.createElement('div');\n",
              "          docLink.innerHTML = docLinkHtml;\n",
              "          element.appendChild(docLink);\n",
              "        }\n",
              "      </script>\n",
              "    </div>\n",
              "  </div>\n",
              "  "
            ]
          },
          "metadata": {},
          "execution_count": 48
        }
      ]
    },
    {
      "cell_type": "code",
      "source": [
        "durations['no_of_seasons'] = durations['no_of_seasons'].str.replace('s', '')\n",
        "durations"
      ],
      "metadata": {
        "colab": {
          "base_uri": "https://localhost:8080/",
          "height": 583
        },
        "id": "a_ppXCdH4hCC",
        "outputId": "d5f771a6-19ca-4f71-af39-1bfba9889256"
      },
      "execution_count": 49,
      "outputs": [
        {
          "output_type": "stream",
          "name": "stderr",
          "text": [
            "<ipython-input-49-992da0e80025>:1: SettingWithCopyWarning:\n",
            "\n",
            "\n",
            "A value is trying to be set on a copy of a slice from a DataFrame.\n",
            "Try using .loc[row_indexer,col_indexer] = value instead\n",
            "\n",
            "See the caveats in the documentation: https://pandas.pydata.org/pandas-docs/stable/user_guide/indexing.html#returning-a-view-versus-a-copy\n",
            "\n"
          ]
        },
        {
          "output_type": "execute_result",
          "data": {
            "text/plain": [
              "                      title   duration no_of_seasons\n",
              "1             Blood & Water  2 Seasons            2 \n",
              "2                 Ganglands   1 Season            1 \n",
              "3     Jailbirds New Orleans   1 Season            1 \n",
              "4              Kota Factory  2 Seasons            2 \n",
              "5             Midnight Mass   1 Season            1 \n",
              "...                     ...        ...           ...\n",
              "8795        Yu-Gi-Oh! Arc-V  2 Seasons            2 \n",
              "8796             Yunus Emre  2 Seasons            2 \n",
              "8797              Zak Storm  3 Seasons            3 \n",
              "8800     Zindagi Gulzar Hai   1 Season            1 \n",
              "8803            Zombie Dumb  2 Seasons            2 \n",
              "\n",
              "[2676 rows x 3 columns]"
            ],
            "text/html": [
              "\n",
              "  <div id=\"df-98aa4c74-34b4-4870-996c-84fd87d503f7\">\n",
              "    <div class=\"colab-df-container\">\n",
              "      <div>\n",
              "<style scoped>\n",
              "    .dataframe tbody tr th:only-of-type {\n",
              "        vertical-align: middle;\n",
              "    }\n",
              "\n",
              "    .dataframe tbody tr th {\n",
              "        vertical-align: top;\n",
              "    }\n",
              "\n",
              "    .dataframe thead th {\n",
              "        text-align: right;\n",
              "    }\n",
              "</style>\n",
              "<table border=\"1\" class=\"dataframe\">\n",
              "  <thead>\n",
              "    <tr style=\"text-align: right;\">\n",
              "      <th></th>\n",
              "      <th>title</th>\n",
              "      <th>duration</th>\n",
              "      <th>no_of_seasons</th>\n",
              "    </tr>\n",
              "  </thead>\n",
              "  <tbody>\n",
              "    <tr>\n",
              "      <th>1</th>\n",
              "      <td>Blood &amp; Water</td>\n",
              "      <td>2 Seasons</td>\n",
              "      <td>2</td>\n",
              "    </tr>\n",
              "    <tr>\n",
              "      <th>2</th>\n",
              "      <td>Ganglands</td>\n",
              "      <td>1 Season</td>\n",
              "      <td>1</td>\n",
              "    </tr>\n",
              "    <tr>\n",
              "      <th>3</th>\n",
              "      <td>Jailbirds New Orleans</td>\n",
              "      <td>1 Season</td>\n",
              "      <td>1</td>\n",
              "    </tr>\n",
              "    <tr>\n",
              "      <th>4</th>\n",
              "      <td>Kota Factory</td>\n",
              "      <td>2 Seasons</td>\n",
              "      <td>2</td>\n",
              "    </tr>\n",
              "    <tr>\n",
              "      <th>5</th>\n",
              "      <td>Midnight Mass</td>\n",
              "      <td>1 Season</td>\n",
              "      <td>1</td>\n",
              "    </tr>\n",
              "    <tr>\n",
              "      <th>...</th>\n",
              "      <td>...</td>\n",
              "      <td>...</td>\n",
              "      <td>...</td>\n",
              "    </tr>\n",
              "    <tr>\n",
              "      <th>8795</th>\n",
              "      <td>Yu-Gi-Oh! Arc-V</td>\n",
              "      <td>2 Seasons</td>\n",
              "      <td>2</td>\n",
              "    </tr>\n",
              "    <tr>\n",
              "      <th>8796</th>\n",
              "      <td>Yunus Emre</td>\n",
              "      <td>2 Seasons</td>\n",
              "      <td>2</td>\n",
              "    </tr>\n",
              "    <tr>\n",
              "      <th>8797</th>\n",
              "      <td>Zak Storm</td>\n",
              "      <td>3 Seasons</td>\n",
              "      <td>3</td>\n",
              "    </tr>\n",
              "    <tr>\n",
              "      <th>8800</th>\n",
              "      <td>Zindagi Gulzar Hai</td>\n",
              "      <td>1 Season</td>\n",
              "      <td>1</td>\n",
              "    </tr>\n",
              "    <tr>\n",
              "      <th>8803</th>\n",
              "      <td>Zombie Dumb</td>\n",
              "      <td>2 Seasons</td>\n",
              "      <td>2</td>\n",
              "    </tr>\n",
              "  </tbody>\n",
              "</table>\n",
              "<p>2676 rows × 3 columns</p>\n",
              "</div>\n",
              "      <button class=\"colab-df-convert\" onclick=\"convertToInteractive('df-98aa4c74-34b4-4870-996c-84fd87d503f7')\"\n",
              "              title=\"Convert this dataframe to an interactive table.\"\n",
              "              style=\"display:none;\">\n",
              "        \n",
              "  <svg xmlns=\"http://www.w3.org/2000/svg\" height=\"24px\"viewBox=\"0 0 24 24\"\n",
              "       width=\"24px\">\n",
              "    <path d=\"M0 0h24v24H0V0z\" fill=\"none\"/>\n",
              "    <path d=\"M18.56 5.44l.94 2.06.94-2.06 2.06-.94-2.06-.94-.94-2.06-.94 2.06-2.06.94zm-11 1L8.5 8.5l.94-2.06 2.06-.94-2.06-.94L8.5 2.5l-.94 2.06-2.06.94zm10 10l.94 2.06.94-2.06 2.06-.94-2.06-.94-.94-2.06-.94 2.06-2.06.94z\"/><path d=\"M17.41 7.96l-1.37-1.37c-.4-.4-.92-.59-1.43-.59-.52 0-1.04.2-1.43.59L10.3 9.45l-7.72 7.72c-.78.78-.78 2.05 0 2.83L4 21.41c.39.39.9.59 1.41.59.51 0 1.02-.2 1.41-.59l7.78-7.78 2.81-2.81c.8-.78.8-2.07 0-2.86zM5.41 20L4 18.59l7.72-7.72 1.47 1.35L5.41 20z\"/>\n",
              "  </svg>\n",
              "      </button>\n",
              "      \n",
              "  <style>\n",
              "    .colab-df-container {\n",
              "      display:flex;\n",
              "      flex-wrap:wrap;\n",
              "      gap: 12px;\n",
              "    }\n",
              "\n",
              "    .colab-df-convert {\n",
              "      background-color: #E8F0FE;\n",
              "      border: none;\n",
              "      border-radius: 50%;\n",
              "      cursor: pointer;\n",
              "      display: none;\n",
              "      fill: #1967D2;\n",
              "      height: 32px;\n",
              "      padding: 0 0 0 0;\n",
              "      width: 32px;\n",
              "    }\n",
              "\n",
              "    .colab-df-convert:hover {\n",
              "      background-color: #E2EBFA;\n",
              "      box-shadow: 0px 1px 2px rgba(60, 64, 67, 0.3), 0px 1px 3px 1px rgba(60, 64, 67, 0.15);\n",
              "      fill: #174EA6;\n",
              "    }\n",
              "\n",
              "    [theme=dark] .colab-df-convert {\n",
              "      background-color: #3B4455;\n",
              "      fill: #D2E3FC;\n",
              "    }\n",
              "\n",
              "    [theme=dark] .colab-df-convert:hover {\n",
              "      background-color: #434B5C;\n",
              "      box-shadow: 0px 1px 3px 1px rgba(0, 0, 0, 0.15);\n",
              "      filter: drop-shadow(0px 1px 2px rgba(0, 0, 0, 0.3));\n",
              "      fill: #FFFFFF;\n",
              "    }\n",
              "  </style>\n",
              "\n",
              "      <script>\n",
              "        const buttonEl =\n",
              "          document.querySelector('#df-98aa4c74-34b4-4870-996c-84fd87d503f7 button.colab-df-convert');\n",
              "        buttonEl.style.display =\n",
              "          google.colab.kernel.accessAllowed ? 'block' : 'none';\n",
              "\n",
              "        async function convertToInteractive(key) {\n",
              "          const element = document.querySelector('#df-98aa4c74-34b4-4870-996c-84fd87d503f7');\n",
              "          const dataTable =\n",
              "            await google.colab.kernel.invokeFunction('convertToInteractive',\n",
              "                                                     [key], {});\n",
              "          if (!dataTable) return;\n",
              "\n",
              "          const docLinkHtml = 'Like what you see? Visit the ' +\n",
              "            '<a target=\"_blank\" href=https://colab.research.google.com/notebooks/data_table.ipynb>data table notebook</a>'\n",
              "            + ' to learn more about interactive tables.';\n",
              "          element.innerHTML = '';\n",
              "          dataTable['output_type'] = 'display_data';\n",
              "          await google.colab.output.renderOutput(dataTable, element);\n",
              "          const docLink = document.createElement('div');\n",
              "          docLink.innerHTML = docLinkHtml;\n",
              "          element.appendChild(docLink);\n",
              "        }\n",
              "      </script>\n",
              "    </div>\n",
              "  </div>\n",
              "  "
            ]
          },
          "metadata": {},
          "execution_count": 49
        }
      ]
    },
    {
      "cell_type": "code",
      "source": [
        "durations['no_of_seasons'] = durations['no_of_seasons'].astype(str).astype(int)\n",
        "durations"
      ],
      "metadata": {
        "colab": {
          "base_uri": "https://localhost:8080/",
          "height": 583
        },
        "id": "Zks4bxiH4txV",
        "outputId": "5d4e8fbd-0e65-41e9-97fc-dd3361454066"
      },
      "execution_count": 50,
      "outputs": [
        {
          "output_type": "stream",
          "name": "stderr",
          "text": [
            "<ipython-input-50-7712e46e9eff>:1: SettingWithCopyWarning:\n",
            "\n",
            "\n",
            "A value is trying to be set on a copy of a slice from a DataFrame.\n",
            "Try using .loc[row_indexer,col_indexer] = value instead\n",
            "\n",
            "See the caveats in the documentation: https://pandas.pydata.org/pandas-docs/stable/user_guide/indexing.html#returning-a-view-versus-a-copy\n",
            "\n"
          ]
        },
        {
          "output_type": "execute_result",
          "data": {
            "text/plain": [
              "                      title   duration  no_of_seasons\n",
              "1             Blood & Water  2 Seasons              2\n",
              "2                 Ganglands   1 Season              1\n",
              "3     Jailbirds New Orleans   1 Season              1\n",
              "4              Kota Factory  2 Seasons              2\n",
              "5             Midnight Mass   1 Season              1\n",
              "...                     ...        ...            ...\n",
              "8795        Yu-Gi-Oh! Arc-V  2 Seasons              2\n",
              "8796             Yunus Emre  2 Seasons              2\n",
              "8797              Zak Storm  3 Seasons              3\n",
              "8800     Zindagi Gulzar Hai   1 Season              1\n",
              "8803            Zombie Dumb  2 Seasons              2\n",
              "\n",
              "[2676 rows x 3 columns]"
            ],
            "text/html": [
              "\n",
              "  <div id=\"df-b48522a9-9a89-478c-a887-0627d22bba0f\">\n",
              "    <div class=\"colab-df-container\">\n",
              "      <div>\n",
              "<style scoped>\n",
              "    .dataframe tbody tr th:only-of-type {\n",
              "        vertical-align: middle;\n",
              "    }\n",
              "\n",
              "    .dataframe tbody tr th {\n",
              "        vertical-align: top;\n",
              "    }\n",
              "\n",
              "    .dataframe thead th {\n",
              "        text-align: right;\n",
              "    }\n",
              "</style>\n",
              "<table border=\"1\" class=\"dataframe\">\n",
              "  <thead>\n",
              "    <tr style=\"text-align: right;\">\n",
              "      <th></th>\n",
              "      <th>title</th>\n",
              "      <th>duration</th>\n",
              "      <th>no_of_seasons</th>\n",
              "    </tr>\n",
              "  </thead>\n",
              "  <tbody>\n",
              "    <tr>\n",
              "      <th>1</th>\n",
              "      <td>Blood &amp; Water</td>\n",
              "      <td>2 Seasons</td>\n",
              "      <td>2</td>\n",
              "    </tr>\n",
              "    <tr>\n",
              "      <th>2</th>\n",
              "      <td>Ganglands</td>\n",
              "      <td>1 Season</td>\n",
              "      <td>1</td>\n",
              "    </tr>\n",
              "    <tr>\n",
              "      <th>3</th>\n",
              "      <td>Jailbirds New Orleans</td>\n",
              "      <td>1 Season</td>\n",
              "      <td>1</td>\n",
              "    </tr>\n",
              "    <tr>\n",
              "      <th>4</th>\n",
              "      <td>Kota Factory</td>\n",
              "      <td>2 Seasons</td>\n",
              "      <td>2</td>\n",
              "    </tr>\n",
              "    <tr>\n",
              "      <th>5</th>\n",
              "      <td>Midnight Mass</td>\n",
              "      <td>1 Season</td>\n",
              "      <td>1</td>\n",
              "    </tr>\n",
              "    <tr>\n",
              "      <th>...</th>\n",
              "      <td>...</td>\n",
              "      <td>...</td>\n",
              "      <td>...</td>\n",
              "    </tr>\n",
              "    <tr>\n",
              "      <th>8795</th>\n",
              "      <td>Yu-Gi-Oh! Arc-V</td>\n",
              "      <td>2 Seasons</td>\n",
              "      <td>2</td>\n",
              "    </tr>\n",
              "    <tr>\n",
              "      <th>8796</th>\n",
              "      <td>Yunus Emre</td>\n",
              "      <td>2 Seasons</td>\n",
              "      <td>2</td>\n",
              "    </tr>\n",
              "    <tr>\n",
              "      <th>8797</th>\n",
              "      <td>Zak Storm</td>\n",
              "      <td>3 Seasons</td>\n",
              "      <td>3</td>\n",
              "    </tr>\n",
              "    <tr>\n",
              "      <th>8800</th>\n",
              "      <td>Zindagi Gulzar Hai</td>\n",
              "      <td>1 Season</td>\n",
              "      <td>1</td>\n",
              "    </tr>\n",
              "    <tr>\n",
              "      <th>8803</th>\n",
              "      <td>Zombie Dumb</td>\n",
              "      <td>2 Seasons</td>\n",
              "      <td>2</td>\n",
              "    </tr>\n",
              "  </tbody>\n",
              "</table>\n",
              "<p>2676 rows × 3 columns</p>\n",
              "</div>\n",
              "      <button class=\"colab-df-convert\" onclick=\"convertToInteractive('df-b48522a9-9a89-478c-a887-0627d22bba0f')\"\n",
              "              title=\"Convert this dataframe to an interactive table.\"\n",
              "              style=\"display:none;\">\n",
              "        \n",
              "  <svg xmlns=\"http://www.w3.org/2000/svg\" height=\"24px\"viewBox=\"0 0 24 24\"\n",
              "       width=\"24px\">\n",
              "    <path d=\"M0 0h24v24H0V0z\" fill=\"none\"/>\n",
              "    <path d=\"M18.56 5.44l.94 2.06.94-2.06 2.06-.94-2.06-.94-.94-2.06-.94 2.06-2.06.94zm-11 1L8.5 8.5l.94-2.06 2.06-.94-2.06-.94L8.5 2.5l-.94 2.06-2.06.94zm10 10l.94 2.06.94-2.06 2.06-.94-2.06-.94-.94-2.06-.94 2.06-2.06.94z\"/><path d=\"M17.41 7.96l-1.37-1.37c-.4-.4-.92-.59-1.43-.59-.52 0-1.04.2-1.43.59L10.3 9.45l-7.72 7.72c-.78.78-.78 2.05 0 2.83L4 21.41c.39.39.9.59 1.41.59.51 0 1.02-.2 1.41-.59l7.78-7.78 2.81-2.81c.8-.78.8-2.07 0-2.86zM5.41 20L4 18.59l7.72-7.72 1.47 1.35L5.41 20z\"/>\n",
              "  </svg>\n",
              "      </button>\n",
              "      \n",
              "  <style>\n",
              "    .colab-df-container {\n",
              "      display:flex;\n",
              "      flex-wrap:wrap;\n",
              "      gap: 12px;\n",
              "    }\n",
              "\n",
              "    .colab-df-convert {\n",
              "      background-color: #E8F0FE;\n",
              "      border: none;\n",
              "      border-radius: 50%;\n",
              "      cursor: pointer;\n",
              "      display: none;\n",
              "      fill: #1967D2;\n",
              "      height: 32px;\n",
              "      padding: 0 0 0 0;\n",
              "      width: 32px;\n",
              "    }\n",
              "\n",
              "    .colab-df-convert:hover {\n",
              "      background-color: #E2EBFA;\n",
              "      box-shadow: 0px 1px 2px rgba(60, 64, 67, 0.3), 0px 1px 3px 1px rgba(60, 64, 67, 0.15);\n",
              "      fill: #174EA6;\n",
              "    }\n",
              "\n",
              "    [theme=dark] .colab-df-convert {\n",
              "      background-color: #3B4455;\n",
              "      fill: #D2E3FC;\n",
              "    }\n",
              "\n",
              "    [theme=dark] .colab-df-convert:hover {\n",
              "      background-color: #434B5C;\n",
              "      box-shadow: 0px 1px 3px 1px rgba(0, 0, 0, 0.15);\n",
              "      filter: drop-shadow(0px 1px 2px rgba(0, 0, 0, 0.3));\n",
              "      fill: #FFFFFF;\n",
              "    }\n",
              "  </style>\n",
              "\n",
              "      <script>\n",
              "        const buttonEl =\n",
              "          document.querySelector('#df-b48522a9-9a89-478c-a887-0627d22bba0f button.colab-df-convert');\n",
              "        buttonEl.style.display =\n",
              "          google.colab.kernel.accessAllowed ? 'block' : 'none';\n",
              "\n",
              "        async function convertToInteractive(key) {\n",
              "          const element = document.querySelector('#df-b48522a9-9a89-478c-a887-0627d22bba0f');\n",
              "          const dataTable =\n",
              "            await google.colab.kernel.invokeFunction('convertToInteractive',\n",
              "                                                     [key], {});\n",
              "          if (!dataTable) return;\n",
              "\n",
              "          const docLinkHtml = 'Like what you see? Visit the ' +\n",
              "            '<a target=\"_blank\" href=https://colab.research.google.com/notebooks/data_table.ipynb>data table notebook</a>'\n",
              "            + ' to learn more about interactive tables.';\n",
              "          element.innerHTML = '';\n",
              "          dataTable['output_type'] = 'display_data';\n",
              "          await google.colab.output.renderOutput(dataTable, element);\n",
              "          const docLink = document.createElement('div');\n",
              "          docLink.innerHTML = docLinkHtml;\n",
              "          element.appendChild(docLink);\n",
              "        }\n",
              "      </script>\n",
              "    </div>\n",
              "  </div>\n",
              "  "
            ]
          },
          "metadata": {},
          "execution_count": 50
        }
      ]
    },
    {
      "cell_type": "code",
      "source": [
        "t = ['title', 'no_of_seasons']\n",
        "top = durations[t]\n",
        "\n",
        "top = top.sort_values(by='no_of_seasons', ascending=False)"
      ],
      "metadata": {
        "id": "NPVUslvz5K9P"
      },
      "execution_count": 51,
      "outputs": []
    },
    {
      "cell_type": "code",
      "source": [
        "top20 = top[0:20]\n",
        "plt.figure(figsize=(12,7))\n",
        "plt.bar(top20['title'], top20['no_of_seasons'])\n",
        "plt.xticks(top20['title'], rotation=70)"
      ],
      "metadata": {
        "colab": {
          "base_uri": "https://localhost:8080/",
          "height": 1000
        },
        "id": "JyZsKric5i2Z",
        "outputId": "df874593-a2b1-492f-f4c9-ee544ada5fe1"
      },
      "execution_count": 52,
      "outputs": [
        {
          "output_type": "execute_result",
          "data": {
            "text/plain": [
              "([<matplotlib.axis.XTick at 0x7f0c8eff3280>,\n",
              "  <matplotlib.axis.XTick at 0x7f0c8eff3250>,\n",
              "  <matplotlib.axis.XTick at 0x7f0c8eff29b0>,\n",
              "  <matplotlib.axis.XTick at 0x7f0c8d661630>,\n",
              "  <matplotlib.axis.XTick at 0x7f0c8d6620e0>,\n",
              "  <matplotlib.axis.XTick at 0x7f0c8d661cc0>,\n",
              "  <matplotlib.axis.XTick at 0x7f0c8d662f80>,\n",
              "  <matplotlib.axis.XTick at 0x7f0c8d6630d0>,\n",
              "  <matplotlib.axis.XTick at 0x7f0c8d6639d0>,\n",
              "  <matplotlib.axis.XTick at 0x7f0c8d688a30>,\n",
              "  <matplotlib.axis.XTick at 0x7f0c8d663280>,\n",
              "  <matplotlib.axis.XTick at 0x7f0c8d688040>,\n",
              "  <matplotlib.axis.XTick at 0x7f0c8d689690>,\n",
              "  <matplotlib.axis.XTick at 0x7f0c8d689e70>,\n",
              "  <matplotlib.axis.XTick at 0x7f0c8d68a680>,\n",
              "  <matplotlib.axis.XTick at 0x7f0c8d663c70>,\n",
              "  <matplotlib.axis.XTick at 0x7f0c8d6897e0>,\n",
              "  <matplotlib.axis.XTick at 0x7f0c8d68b0a0>,\n",
              "  <matplotlib.axis.XTick at 0x7f0c8d68b880>,\n",
              "  <matplotlib.axis.XTick at 0x7f0c8d68b160>],\n",
              " [Text(0.0, 0, \"Grey's Anatomy\"),\n",
              "  Text(1.0, 0, 'Supernatural'),\n",
              "  Text(2.0, 0, 'NCIS'),\n",
              "  Text(3.0, 0, 'Heartland'),\n",
              "  Text(4.0, 0, 'COMEDIANS of the world'),\n",
              "  Text(5.0, 0, 'Red vs. Blue'),\n",
              "  Text(6.0, 0, 'Trailer Park Boys'),\n",
              "  Text(7.0, 0, 'Criminal Minds'),\n",
              "  Text(8.0, 0, 'Frasier'),\n",
              "  Text(9.0, 0, 'Cheers'),\n",
              "  Text(10.0, 0, 'Shameless (U.S.)'),\n",
              "  Text(11.0, 0, 'Friends'),\n",
              "  Text(12.0, 0, 'LEGO Ninjago: Masters of Spinjitzu'),\n",
              "  Text(13.0, 0, 'Danger Mouse: Classic Collection'),\n",
              "  Text(14.0, 0, 'The Walking Dead'),\n",
              "  Text(15.0, 0, 'Stargate SG-1'),\n",
              "  Text(16.0, 0, \"Dad's Army\"),\n",
              "  Text(17.0, 0, 'The Great British Baking Show'),\n",
              "  Text(18.0, 0, 'Forensic Files'),\n",
              "  Text(19.0, 0, 'The Office (U.S.)')])"
            ]
          },
          "metadata": {},
          "execution_count": 52
        },
        {
          "output_type": "display_data",
          "data": {
            "text/plain": [
              "<Figure size 1200x700 with 1 Axes>"
            ],
            "image/png": "[encoded data removed]"
          },
          "metadata": {}
        }
      ]
    },
    {
      "cell_type": "markdown",
      "source": [
        "## Наименьшее количество сезонов"
      ],
      "metadata": {
        "id": "ucioMdbT6UAi"
      }
    },
    {
      "cell_type": "code",
      "source": [
        "import plotly.graph_objects as go\n",
        "\n",
        "bottom = top.sort_values(by='no_of_seasons')\n",
        "bottom = bottom[20:50]\n",
        "\n",
        "fig = go.Figure(\n",
        "    data=[\n",
        "        go.Table(header=dict(values=['Title', 'No of seasons']),\n",
        "                 cells=dict(values=[bottom['title'], bottom['no_of_seasons']]))\n",
        "    ]\n",
        ")\n",
        "\n",
        "fig.show()"
      ],
      "metadata": {
        "colab": {
          "base_uri": "https://localhost:8080/",
          "height": 542
        },
        "id": "sivt4qB75-0Z",
        "outputId": "dbf6c87a-3154-4d2f-8452-417a7141bc66"
      },
      "execution_count": 53,
      "outputs": [
        {
          "output_type": "display_data",
          "data": {
            "text/html": [
              "<html>\n",
              "<head><meta charset=\"utf-8\" /></head>\n",
              "<body>\n",
              "    <div>            <script src=\"https://cdnjs.cloudflare.com/ajax/libs/mathjax/2.7.5/MathJax.js?config=TeX-AMS-MML_SVG\"></script><script type=\"text/javascript\">if (window.MathJax && window.MathJax.Hub && window.MathJax.Hub.Config) {window.MathJax.Hub.Config({SVG: {font: \"STIX-Web\"}});}</script>                <script type=\"text/javascript\">window.PlotlyConfig = {MathJaxConfig: 'local'};</script>\n",
              "        <script src=\"https://cdn.plot.ly/plotly-2.18.2.min.js\"></script>                <div id=\"d815f252-b25f-46b3-83f6-8e6d5a341d37\" class=\"plotly-graph-div\" style=\"height:525px; width:100%;\"></div>            <script type=\"text/javascript\">                                    window.PLOTLYENV=window.PLOTLYENV || {};                                    if (document.getElementById(\"d815f252-b25f-46b3-83f6-8e6d5a341d37\")) {                    Plotly.newPlot(                        \"d815f252-b25f-46b3-83f6-8e6d5a341d37\",                        [{\"cells\":{\"values\":[[\"A Queen Is Born\",\"Messiah\",\"Gentefied\",\"Live Up To Your Name\",\"Chhota Bheem Kung Fu Dhamaka Series\",\"Cells at Work!\",\"Border Security: America's Front Line\",\"Because This Is My First Life\",\"Thieves of the Wood\",\"Sex, Explained\",\"DASH & LILY\",\"Dracula\",\"Cheer\",\"Until Dawn\",\"Bakugan: Armored Alliance\",\"The Disastrous Life of Saiki K.: Reawakened\",\"Kevin Hart: Don\\u2019t F**k This Up\",\"The Bonfire of Destiny\",\"Twice Upon A Time\",\"The Witcher\",\"Agent\",\"The Minions of Midas\",\"Palazuelos mi rey\",\"Afronta! Facing It!\",\"Love Is Blind\",\"Taj Mahal 1989\",\"Talking Tom and Friends\",\"On the Real\",\"DreamWorks Shrek's Swamp Stories\",\"Spectros\"],[1,1,1,1,1,1,1,1,1,1,1,1,1,1,1,1,1,1,1,1,1,1,1,1,1,1,1,1,1,1]]},\"header\":{\"values\":[\"Title\",\"No of seasons\"]},\"type\":\"table\"}],                        {\"template\":{\"data\":{\"histogram2dcontour\":[{\"type\":\"histogram2dcontour\",\"colorbar\":{\"outlinewidth\":0,\"ticks\":\"\"},\"colorscale\":[[0.0,\"#0d0887\"],[0.1111111111111111,\"#46039f\"],[0.2222222222222222,\"#7201a8\"],[0.3333333333333333,\"#9c179e\"],[0.4444444444444444,\"#bd3786\"],[0.5555555555555556,\"#d8576b\"],[0.6666666666666666,\"#ed7953\"],[0.7777777777777778,\"#fb9f3a\"],[0.8888888888888888,\"#fdca26\"],[1.0,\"#f0f921\"]]}],\"choropleth\":[{\"type\":\"choropleth\",\"colorbar\":{\"outlinewidth\":0,\"ticks\":\"\"}}],\"histogram2d\":[{\"type\":\"histogram2d\",\"colorbar\":{\"outlinewidth\":0,\"ticks\":\"\"},\"colorscale\":[[0.0,\"#0d0887\"],[0.1111111111111111,\"#46039f\"],[0.2222222222222222,\"#7201a8\"],[0.3333333333333333,\"#9c179e\"],[0.4444444444444444,\"#bd3786\"],[0.5555555555555556,\"#d8576b\"],[0.6666666666666666,\"#ed7953\"],[0.7777777777777778,\"#fb9f3a\"],[0.8888888888888888,\"#fdca26\"],[1.0,\"#f0f921\"]]}],\"heatmap\":[{\"type\":\"heatmap\",\"colorbar\":{\"outlinewidth\":0,\"ticks\":\"\"},\"colorscale\":[[0.0,\"#0d0887\"],[0.1111111111111111,\"#46039f\"],[0.2222222222222222,\"#7201a8\"],[0.3333333333333333,\"#9c179e\"],[0.4444444444444444,\"#bd3786\"],[0.5555555555555556,\"#d8576b\"],[0.6666666666666666,\"#ed7953\"],[0.7777777777777778,\"#fb9f3a\"],[0.8888888888888888,\"#fdca26\"],[1.0,\"#f0f921\"]]}],\"heatmapgl\":[{\"type\":\"heatmapgl\",\"colorbar\":{\"outlinewidth\":0,\"ticks\":\"\"},\"colorscale\":[[0.0,\"#0d0887\"],[0.1111111111111111,\"#46039f\"],[0.2222222222222222,\"#7201a8\"],[0.3333333333333333,\"#9c179e\"],[0.4444444444444444,\"#bd3786\"],[0.5555555555555556,\"#d8576b\"],[0.6666666666666666,\"#ed7953\"],[0.7777777777777778,\"#fb9f3a\"],[0.8888888888888888,\"#fdca26\"],[1.0,\"#f0f921\"]]}],\"contourcarpet\":[{\"type\":\"contourcarpet\",\"colorbar\":{\"outlinewidth\":0,\"ticks\":\"\"}}],\"contour\":[{\"type\":\"contour\",\"colorbar\":{\"outlinewidth\":0,\"ticks\":\"\"},\"colorscale\":[[0.0,\"#0d0887\"],[0.1111111111111111,\"#46039f\"],[0.2222222222222222,\"#7201a8\"],[0.3333333333333333,\"#9c179e\"],[0.4444444444444444,\"#bd3786\"],[0.5555555555555556,\"#d8576b\"],[0.6666666666666666,\"#ed7953\"],[0.7777777777777778,\"#fb9f3a\"],[0.8888888888888888,\"#fdca26\"],[1.0,\"#f0f921\"]]}],\"surface\":[{\"type\":\"surface\",\"colorbar\":{\"outlinewidth\":0,\"ticks\":\"\"},\"colorscale\":[[0.0,\"#0d0887\"],[0.1111111111111111,\"#46039f\"],[0.2222222222222222,\"#7201a8\"],[0.3333333333333333,\"#9c179e\"],[0.4444444444444444,\"#bd3786\"],[0.5555555555555556,\"#d8576b\"],[0.6666666666666666,\"#ed7953\"],[0.7777777777777778,\"#fb9f3a\"],[0.8888888888888888,\"#fdca26\"],[1.0,\"#f0f921\"]]}],\"mesh3d\":[{\"type\":\"mesh3d\",\"colorbar\":{\"outlinewidth\":0,\"ticks\":\"\"}}],\"scatter\":[{\"fillpattern\":{\"fillmode\":\"overlay\",\"size\":10,\"solidity\":0.2},\"type\":\"scatter\"}],\"parcoords\":[{\"type\":\"parcoords\",\"line\":{\"colorbar\":{\"outlinewidth\":0,\"ticks\":\"\"}}}],\"scatterpolargl\":[{\"type\":\"scatterpolargl\",\"marker\":{\"colorbar\":{\"outlinewidth\":0,\"ticks\":\"\"}}}],\"bar\":[{\"error_x\":{\"color\":\"#2a3f5f\"},\"error_y\":{\"color\":\"#2a3f5f\"},\"marker\":{\"line\":{\"color\":\"#E5ECF6\",\"width\":0.5},\"pattern\":{\"fillmode\":\"overlay\",\"size\":10,\"solidity\":0.2}},\"type\":\"bar\"}],\"scattergeo\":[{\"type\":\"scattergeo\",\"marker\":{\"colorbar\":{\"outlinewidth\":0,\"ticks\":\"\"}}}],\"scatterpolar\":[{\"type\":\"scatterpolar\",\"marker\":{\"colorbar\":{\"outlinewidth\":0,\"ticks\":\"\"}}}],\"histogram\":[{\"marker\":{\"pattern\":{\"fillmode\":\"overlay\",\"size\":10,\"solidity\":0.2}},\"type\":\"histogram\"}],\"scattergl\":[{\"type\":\"scattergl\",\"marker\":{\"colorbar\":{\"outlinewidth\":0,\"ticks\":\"\"}}}],\"scatter3d\":[{\"type\":\"scatter3d\",\"line\":{\"colorbar\":{\"outlinewidth\":0,\"ticks\":\"\"}},\"marker\":{\"colorbar\":{\"outlinewidth\":0,\"ticks\":\"\"}}}],\"scattermapbox\":[{\"type\":\"scattermapbox\",\"marker\":{\"colorbar\":{\"outlinewidth\":0,\"ticks\":\"\"}}}],\"scatterternary\":[{\"type\":\"scatterternary\",\"marker\":{\"colorbar\":{\"outlinewidth\":0,\"ticks\":\"\"}}}],\"scattercarpet\":[{\"type\":\"scattercarpet\",\"marker\":{\"colorbar\":{\"outlinewidth\":0,\"ticks\":\"\"}}}],\"carpet\":[{\"aaxis\":{\"endlinecolor\":\"#2a3f5f\",\"gridcolor\":\"white\",\"linecolor\":\"white\",\"minorgridcolor\":\"white\",\"startlinecolor\":\"#2a3f5f\"},\"baxis\":{\"endlinecolor\":\"#2a3f5f\",\"gridcolor\":\"white\",\"linecolor\":\"white\",\"minorgridcolor\":\"white\",\"startlinecolor\":\"#2a3f5f\"},\"type\":\"carpet\"}],\"table\":[{\"cells\":{\"fill\":{\"color\":\"#EBF0F8\"},\"line\":{\"color\":\"white\"}},\"header\":{\"fill\":{\"color\":\"#C8D4E3\"},\"line\":{\"color\":\"white\"}},\"type\":\"table\"}],\"barpolar\":[{\"marker\":{\"line\":{\"color\":\"#E5ECF6\",\"width\":0.5},\"pattern\":{\"fillmode\":\"overlay\",\"size\":10,\"solidity\":0.2}},\"type\":\"barpolar\"}],\"pie\":[{\"automargin\":true,\"type\":\"pie\"}]},\"layout\":{\"autotypenumbers\":\"strict\",\"colorway\":[\"#636efa\",\"#EF553B\",\"#00cc96\",\"#ab63fa\",\"#FFA15A\",\"#19d3f3\",\"#FF6692\",\"#B6E880\",\"#FF97FF\",\"#FECB52\"],\"font\":{\"color\":\"#2a3f5f\"},\"hovermode\":\"closest\",\"hoverlabel\":{\"align\":\"left\"},\"paper_bgcolor\":\"white\",\"plot_bgcolor\":\"#E5ECF6\",\"polar\":{\"bgcolor\":\"#E5ECF6\",\"angularaxis\":{\"gridcolor\":\"white\",\"linecolor\":\"white\",\"ticks\":\"\"},\"radialaxis\":{\"gridcolor\":\"white\",\"linecolor\":\"white\",\"ticks\":\"\"}},\"ternary\":{\"bgcolor\":\"#E5ECF6\",\"aaxis\":{\"gridcolor\":\"white\",\"linecolor\":\"white\",\"ticks\":\"\"},\"baxis\":{\"gridcolor\":\"white\",\"linecolor\":\"white\",\"ticks\":\"\"},\"caxis\":{\"gridcolor\":\"white\",\"linecolor\":\"white\",\"ticks\":\"\"}},\"coloraxis\":{\"colorbar\":{\"outlinewidth\":0,\"ticks\":\"\"}},\"colorscale\":{\"sequential\":[[0.0,\"#0d0887\"],[0.1111111111111111,\"#46039f\"],[0.2222222222222222,\"#7201a8\"],[0.3333333333333333,\"#9c179e\"],[0.4444444444444444,\"#bd3786\"],[0.5555555555555556,\"#d8576b\"],[0.6666666666666666,\"#ed7953\"],[0.7777777777777778,\"#fb9f3a\"],[0.8888888888888888,\"#fdca26\"],[1.0,\"#f0f921\"]],\"sequentialminus\":[[0.0,\"#0d0887\"],[0.1111111111111111,\"#46039f\"],[0.2222222222222222,\"#7201a8\"],[0.3333333333333333,\"#9c179e\"],[0.4444444444444444,\"#bd3786\"],[0.5555555555555556,\"#d8576b\"],[0.6666666666666666,\"#ed7953\"],[0.7777777777777778,\"#fb9f3a\"],[0.8888888888888888,\"#fdca26\"],[1.0,\"#f0f921\"]],\"diverging\":[[0,\"#8e0152\"],[0.1,\"#c51b7d\"],[0.2,\"#de77ae\"],[0.3,\"#f1b6da\"],[0.4,\"#fde0ef\"],[0.5,\"#f7f7f7\"],[0.6,\"#e6f5d0\"],[0.7,\"#b8e186\"],[0.8,\"#7fbc41\"],[0.9,\"#4d9221\"],[1,\"#276419\"]]},\"xaxis\":{\"gridcolor\":\"white\",\"linecolor\":\"white\",\"ticks\":\"\",\"title\":{\"standoff\":15},\"zerolinecolor\":\"white\",\"automargin\":true,\"zerolinewidth\":2},\"yaxis\":{\"gridcolor\":\"white\",\"linecolor\":\"white\",\"ticks\":\"\",\"title\":{\"standoff\":15},\"zerolinecolor\":\"white\",\"automargin\":true,\"zerolinewidth\":2},\"scene\":{\"xaxis\":{\"backgroundcolor\":\"#E5ECF6\",\"gridcolor\":\"white\",\"linecolor\":\"white\",\"showbackground\":true,\"ticks\":\"\",\"zerolinecolor\":\"white\",\"gridwidth\":2},\"yaxis\":{\"backgroundcolor\":\"#E5ECF6\",\"gridcolor\":\"white\",\"linecolor\":\"white\",\"showbackground\":true,\"ticks\":\"\",\"zerolinecolor\":\"white\",\"gridwidth\":2},\"zaxis\":{\"backgroundcolor\":\"#E5ECF6\",\"gridcolor\":\"white\",\"linecolor\":\"white\",\"showbackground\":true,\"ticks\":\"\",\"zerolinecolor\":\"white\",\"gridwidth\":2}},\"shapedefaults\":{\"line\":{\"color\":\"#2a3f5f\"}},\"annotationdefaults\":{\"arrowcolor\":\"#2a3f5f\",\"arrowhead\":0,\"arrowwidth\":1},\"geo\":{\"bgcolor\":\"white\",\"landcolor\":\"#E5ECF6\",\"subunitcolor\":\"white\",\"showland\":true,\"showlakes\":true,\"lakecolor\":\"white\"},\"title\":{\"x\":0.05},\"mapbox\":{\"style\":\"light\"}}}},                        {\"responsive\": true}                    ).then(function(){\n",
              "                            \n",
              "var gd = document.getElementById('d815f252-b25f-46b3-83f6-8e6d5a341d37');\n",
              "var x = new MutationObserver(function (mutations, observer) {{\n",
              "        var display = window.getComputedStyle(gd).display;\n",
              "        if (!display || display === 'none') {{\n",
              "            console.log([gd, 'removed!']);\n",
              "            Plotly.purge(gd);\n",
              "            observer.disconnect();\n",
              "        }}\n",
              "}});\n",
              "\n",
              "// Listen for the removal of the full notebook cells\n",
              "var notebookContainer = gd.closest('#notebook-container');\n",
              "if (notebookContainer) {{\n",
              "    x.observe(notebookContainer, {childList: true});\n",
              "}}\n",
              "\n",
              "// Listen for the clearing of the current output cell\n",
              "var outputEl = gd.closest('.output');\n",
              "if (outputEl) {{\n",
              "    x.observe(outputEl, {childList: true});\n",
              "}}\n",
              "\n",
              "                        })                };                            </script>        </div>\n",
              "</body>\n",
              "</html>"
            ]
          },
          "metadata": {}
        }
      ]
    },
    {
      "cell_type": "markdown",
      "source": [
        "## Анализ жанров"
      ],
      "metadata": {
        "id": "1kFkJzFB7r73"
      }
    },
    {
      "cell_type": "code",
      "source": [
        "netflix_shows['listed_in']"
      ],
      "metadata": {
        "colab": {
          "base_uri": "https://localhost:8080/"
        },
        "id": "mYGkMBdi7c9Z",
        "outputId": "430077d6-1e8d-4888-90d2-b6f4f9a77dc1"
      },
      "execution_count": 54,
      "outputs": [
        {
          "output_type": "execute_result",
          "data": {
            "text/plain": [
              "1         International TV Shows, TV Dramas, TV Mysteries\n",
              "2       Crime TV Shows, International TV Shows, TV Act...\n",
              "3                                  Docuseries, Reality TV\n",
              "4       International TV Shows, Romantic TV Shows, TV ...\n",
              "5                      TV Dramas, TV Horror, TV Mysteries\n",
              "                              ...                        \n",
              "8795                               Anime Series, Kids' TV\n",
              "8796                    International TV Shows, TV Dramas\n",
              "8797                                             Kids' TV\n",
              "8800    International TV Shows, Romantic TV Shows, TV ...\n",
              "8803               Kids' TV, Korean TV Shows, TV Comedies\n",
              "Name: listed_in, Length: 2676, dtype: object"
            ]
          },
          "metadata": {},
          "execution_count": 54
        }
      ]
    },
    {
      "cell_type": "code",
      "source": [
        "from collections import Counter\n",
        "\n",
        "genres = list(netflix_shows['listed_in'])\n",
        "gen = []\n",
        "\n",
        "for i in genres:\n",
        "  i = list(i.split(','))\n",
        "  for j in i:\n",
        "    gen.append(j.replace(' ', ''))\n",
        "\n",
        "g = Counter(gen)\n",
        "g"
      ],
      "metadata": {
        "colab": {
          "base_uri": "https://localhost:8080/"
        },
        "id": "k-WWh-uv72aB",
        "outputId": "d86b94d0-54d2-4ff8-cfc2-120b89f9140a"
      },
      "execution_count": 55,
      "outputs": [
        {
          "output_type": "execute_result",
          "data": {
            "text/plain": [
              "Counter({'InternationalTVShows': 1351,\n",
              "         'TVDramas': 763,\n",
              "         'TVMysteries': 98,\n",
              "         'CrimeTVShows': 470,\n",
              "         'TVAction&Adventure': 168,\n",
              "         'Docuseries': 395,\n",
              "         'RealityTV': 255,\n",
              "         'RomanticTVShows': 370,\n",
              "         'TVComedies': 581,\n",
              "         'TVHorror': 75,\n",
              "         'BritishTVShows': 253,\n",
              "         'Spanish-LanguageTVShows': 174,\n",
              "         'TVThrillers': 57,\n",
              "         \"Kids'TV\": 451,\n",
              "         'TVSci-Fi&Fantasy': 84,\n",
              "         'AnimeSeries': 176,\n",
              "         'KoreanTVShows': 151,\n",
              "         'Science&NatureTV': 92,\n",
              "         'TeenTVShows': 69,\n",
              "         'TVShows': 16,\n",
              "         'Stand-UpComedy&TalkShows': 56,\n",
              "         'Classic&CultTV': 28})"
            ]
          },
          "metadata": {},
          "execution_count": 55
        }
      ]
    },
    {
      "cell_type": "code",
      "source": [
        "g = sorted(g.items(), key=lambda item : g[item[0]], reverse=True)\n",
        "g"
      ],
      "metadata": {
        "colab": {
          "base_uri": "https://localhost:8080/"
        },
        "id": "DDwy1jWr8Bon",
        "outputId": "effcd4d8-941a-49af-9bb9-8531be92a44a"
      },
      "execution_count": 56,
      "outputs": [
        {
          "output_type": "execute_result",
          "data": {
            "text/plain": [
              "[('InternationalTVShows', 1351),\n",
              " ('TVDramas', 763),\n",
              " ('TVComedies', 581),\n",
              " ('CrimeTVShows', 470),\n",
              " (\"Kids'TV\", 451),\n",
              " ('Docuseries', 395),\n",
              " ('RomanticTVShows', 370),\n",
              " ('RealityTV', 255),\n",
              " ('BritishTVShows', 253),\n",
              " ('AnimeSeries', 176),\n",
              " ('Spanish-LanguageTVShows', 174),\n",
              " ('TVAction&Adventure', 168),\n",
              " ('KoreanTVShows', 151),\n",
              " ('TVMysteries', 98),\n",
              " ('Science&NatureTV', 92),\n",
              " ('TVSci-Fi&Fantasy', 84),\n",
              " ('TVHorror', 75),\n",
              " ('TeenTVShows', 69),\n",
              " ('TVThrillers', 57),\n",
              " ('Stand-UpComedy&TalkShows', 56),\n",
              " ('Classic&CultTV', 28),\n",
              " ('TVShows', 16)]"
            ]
          },
          "metadata": {},
          "execution_count": 56
        }
      ]
    },
    {
      "cell_type": "code",
      "source": [
        "genre_names = [name for name, value in g]\n",
        "genre_names"
      ],
      "metadata": {
        "colab": {
          "base_uri": "https://localhost:8080/"
        },
        "id": "Gb2CJMLU8FGn",
        "outputId": "b1942a46-6047-451b-e239-712aa8d44d55"
      },
      "execution_count": 57,
      "outputs": [
        {
          "output_type": "execute_result",
          "data": {
            "text/plain": [
              "['InternationalTVShows',\n",
              " 'TVDramas',\n",
              " 'TVComedies',\n",
              " 'CrimeTVShows',\n",
              " \"Kids'TV\",\n",
              " 'Docuseries',\n",
              " 'RomanticTVShows',\n",
              " 'RealityTV',\n",
              " 'BritishTVShows',\n",
              " 'AnimeSeries',\n",
              " 'Spanish-LanguageTVShows',\n",
              " 'TVAction&Adventure',\n",
              " 'KoreanTVShows',\n",
              " 'TVMysteries',\n",
              " 'Science&NatureTV',\n",
              " 'TVSci-Fi&Fantasy',\n",
              " 'TVHorror',\n",
              " 'TeenTVShows',\n",
              " 'TVThrillers',\n",
              " 'Stand-UpComedy&TalkShows',\n",
              " 'Classic&CultTV',\n",
              " 'TVShows']"
            ]
          },
          "metadata": {},
          "execution_count": 57
        }
      ]
    },
    {
      "cell_type": "code",
      "source": [
        "genre_values = [value for name, value in g]\n",
        "genre_values"
      ],
      "metadata": {
        "colab": {
          "base_uri": "https://localhost:8080/"
        },
        "id": "Q-Qlj0ys8Iae",
        "outputId": "d6937953-646a-4677-d6fc-41f96abb333c"
      },
      "execution_count": 58,
      "outputs": [
        {
          "output_type": "execute_result",
          "data": {
            "text/plain": [
              "[1351,\n",
              " 763,\n",
              " 581,\n",
              " 470,\n",
              " 451,\n",
              " 395,\n",
              " 370,\n",
              " 255,\n",
              " 253,\n",
              " 176,\n",
              " 174,\n",
              " 168,\n",
              " 151,\n",
              " 98,\n",
              " 92,\n",
              " 84,\n",
              " 75,\n",
              " 69,\n",
              " 57,\n",
              " 56,\n",
              " 28,\n",
              " 16]"
            ]
          },
          "metadata": {},
          "execution_count": 58
        }
      ]
    },
    {
      "cell_type": "code",
      "source": [
        "fig = plt.figure(figsize=(10, 10))\n",
        "ax = sns.barplot(x=genre_names, y=genre_values)\n",
        "\n",
        "ax.set_xticklabels(genre_names, rotation=70)\n",
        "ax.set_ylabel('Count of movies')\n",
        "ax.set_title('Genres')"
      ],
      "metadata": {
        "colab": {
          "base_uri": "https://localhost:8080/",
          "height": 965
        },
        "id": "5avo6eRM8Kxh",
        "outputId": "a2cafdf6-3d40-4524-f568-594d0f3b8883"
      },
      "execution_count": 59,
      "outputs": [
        {
          "output_type": "execute_result",
          "data": {
            "text/plain": [
              "Text(0.5, 1.0, 'Genres')"
            ]
          },
          "metadata": {},
          "execution_count": 59
        },
        {
          "output_type": "display_data",
          "data": {
            "text/plain": [
              "<Figure size 1000x1000 with 1 Axes>"
            ],
            "image/png": "[encoded data removed]"
          },
          "metadata": {}
        }
      ]
    },
    {
      "cell_type": "markdown",
      "source": [
        "Интернациональные фильмы, драмы и комедии - топовые жанры"
      ],
      "metadata": {
        "id": "GSlXJqco8daD"
      }
    },
    {
      "cell_type": "markdown",
      "source": [
        "## Анализ продолжительности сериалов"
      ],
      "metadata": {
        "id": "x826v9Be8eSW"
      }
    },
    {
      "cell_type": "code",
      "source": [
        "sns.set(style='darkgrid')\n",
        "plt.figure(figsize=(10,10))\n",
        "sns.kdeplot(data=durations['no_of_seasons'], shade=True)\n",
        "plt.xticks(sorted(durations['no_of_seasons'].unique()))"
      ],
      "metadata": {
        "colab": {
          "base_uri": "https://localhost:8080/",
          "height": 1000
        },
        "id": "r51K9Wqg8jbY",
        "outputId": "7d2226aa-9c39-4bd5-bdc5-3c17c622a4e1"
      },
      "execution_count": 60,
      "outputs": [
        {
          "output_type": "stream",
          "name": "stderr",
          "text": [
            "<ipython-input-60-a374d4a97f13>:3: FutureWarning:\n",
            "\n",
            "\n",
            "\n",
            "`shade` is now deprecated in favor of `fill`; setting `fill=True`.\n",
            "This will become an error in seaborn v0.14.0; please update your code.\n",
            "\n",
            "\n"
          ]
        },
        {
          "output_type": "execute_result",
          "data": {
            "text/plain": [
              "([<matplotlib.axis.XTick at 0x7f0c8d5c5d20>,\n",
              "  <matplotlib.axis.XTick at 0x7f0c8d5c5cf0>,\n",
              "  <matplotlib.axis.XTick at 0x7f0c8d590280>,\n",
              "  <matplotlib.axis.XTick at 0x7f0c8d5ee890>,\n",
              "  <matplotlib.axis.XTick at 0x7f0c8d5ee980>,\n",
              "  <matplotlib.axis.XTick at 0x7f0c8d5efa30>,\n",
              "  <matplotlib.axis.XTick at 0x7f0c8d5ef310>,\n",
              "  <matplotlib.axis.XTick at 0x7f0c8d5efbe0>,\n",
              "  <matplotlib.axis.XTick at 0x7f0c8d5ed900>,\n",
              "  <matplotlib.axis.XTick at 0x7f0c8d414d90>,\n",
              "  <matplotlib.axis.XTick at 0x7f0c8d5c5c00>,\n",
              "  <matplotlib.axis.XTick at 0x7f0c8d5ef3d0>,\n",
              "  <matplotlib.axis.XTick at 0x7f0c8d439030>,\n",
              "  <matplotlib.axis.XTick at 0x7f0c8d4398d0>,\n",
              "  <matplotlib.axis.XTick at 0x7f0c8d43a0b0>],\n",
              " [Text(1, 0, '1'),\n",
              "  Text(2, 0, '2'),\n",
              "  Text(3, 0, '3'),\n",
              "  Text(4, 0, '4'),\n",
              "  Text(5, 0, '5'),\n",
              "  Text(6, 0, '6'),\n",
              "  Text(7, 0, '7'),\n",
              "  Text(8, 0, '8'),\n",
              "  Text(9, 0, '9'),\n",
              "  Text(10, 0, '10'),\n",
              "  Text(11, 0, '11'),\n",
              "  Text(12, 0, '12'),\n",
              "  Text(13, 0, '13'),\n",
              "  Text(15, 0, '15'),\n",
              "  Text(17, 0, '17')])"
            ]
          },
          "metadata": {},
          "execution_count": 60
        },
        {
          "output_type": "display_data",
          "data": {
            "text/plain": [
              "<Figure size 1000x1000 with 1 Axes>"
            ],
            "image/png": "[encoded data removed]"
          },
          "metadata": {}
        }
      ]
    },
    {
      "cell_type": "markdown",
      "source": [
        "# Система рекомендаций (content base)"
      ],
      "metadata": {
        "id": "WWCZ-7S99Pkr"
      }
    },
    {
      "cell_type": "markdown",
      "source": [
        "Посмотрим описание фильмов"
      ],
      "metadata": {
        "id": "TJKWqDIUAxNR"
      }
    },
    {
      "cell_type": "code",
      "source": [
        "netflix_movies['description']"
      ],
      "metadata": {
        "colab": {
          "base_uri": "https://localhost:8080/"
        },
        "id": "4C6GvMhp9R4y",
        "outputId": "8c3418d8-7332-40bf-8723-6cf6511d07d2"
      },
      "execution_count": 61,
      "outputs": [
        {
          "output_type": "execute_result",
          "data": {
            "text/plain": [
              "0       As her father nears the end of his life, filmm...\n",
              "6       Equestria's divided. But a bright-eyed hero be...\n",
              "7       On a photo shoot in Ghana, an American model s...\n",
              "9       A woman adjusting to life after a loss contend...\n",
              "12      After most of her family is murdered in a terr...\n",
              "                              ...                        \n",
              "8801    Recovering alcoholic Talal wakes up inside a s...\n",
              "8802    A political cartoonist, a crime reporter and a...\n",
              "8804    Looking to survive in a world taken over by zo...\n",
              "8805    Dragged from civilian life, a former superhero...\n",
              "8806    A scrappy but poor boy worms his way into a ty...\n",
              "Name: description, Length: 6131, dtype: object"
            ]
          },
          "metadata": {},
          "execution_count": 61
        }
      ]
    },
    {
      "cell_type": "code",
      "source": [
        "from sklearn.feature_extraction.text import TfidfVectorizer"
      ],
      "metadata": {
        "id": "d8S0S1lnAcJ6"
      },
      "execution_count": 62,
      "outputs": []
    },
    {
      "cell_type": "markdown",
      "source": [
        "## Зполним пропуски"
      ],
      "metadata": {
        "id": "IxXZ8vDFBpK2"
      }
    },
    {
      "cell_type": "code",
      "source": [
        "netflix_movies['description'] = netflix_movies['description'].fillna('')\n",
        "netflix_movies['description'].isna().sum()"
      ],
      "metadata": {
        "colab": {
          "base_uri": "https://localhost:8080/"
        },
        "id": "1DbAlp_7BWly",
        "outputId": "b6065903-03f8-46a3-f958-461f932db08c"
      },
      "execution_count": 63,
      "outputs": [
        {
          "output_type": "execute_result",
          "data": {
            "text/plain": [
              "0"
            ]
          },
          "metadata": {},
          "execution_count": 63
        }
      ]
    },
    {
      "cell_type": "code",
      "source": [
        "netflix_movies['description'].head()"
      ],
      "metadata": {
        "colab": {
          "base_uri": "https://localhost:8080/"
        },
        "id": "g_kYZBiKBkYj",
        "outputId": "7e12c781-bc11-403d-9f36-3acf23afb249"
      },
      "execution_count": 64,
      "outputs": [
        {
          "output_type": "execute_result",
          "data": {
            "text/plain": [
              "0     As her father nears the end of his life, filmm...\n",
              "6     Equestria's divided. But a bright-eyed hero be...\n",
              "7     On a photo shoot in Ghana, an American model s...\n",
              "9     A woman adjusting to life after a loss contend...\n",
              "12    After most of her family is murdered in a terr...\n",
              "Name: description, dtype: object"
            ]
          },
          "metadata": {},
          "execution_count": 64
        }
      ]
    },
    {
      "cell_type": "code",
      "source": [
        "tfidf = TfidfVectorizer(stop_words='english')\n",
        "tfidf_matrix = tfidf.fit_transform(netflix_movies['description'])\n",
        "\n",
        "tfidf_matrix.shape"
      ],
      "metadata": {
        "colab": {
          "base_uri": "https://localhost:8080/"
        },
        "id": "XfMz_6uKBzZy",
        "outputId": "041fe9c0-6be8-49aa-d6ba-32eb2022cb0c"
      },
      "execution_count": 65,
      "outputs": [
        {
          "output_type": "execute_result",
          "data": {
            "text/plain": [
              "(6131, 15483)"
            ]
          },
          "metadata": {},
          "execution_count": 65
        }
      ]
    },
    {
      "cell_type": "markdown",
      "source": [
        "Здесь 15483 слов, которые описывают 6131 фильмов"
      ],
      "metadata": {
        "id": "8TpMDAenCQpA"
      }
    },
    {
      "cell_type": "code",
      "source": [
        "from sklearn.metrics.pairwise import cosine_similarity\n",
        "\n",
        "cosine_sim = cosine_similarity(tfidf_matrix, tfidf_matrix)\n",
        "cosine_sim"
      ],
      "metadata": {
        "colab": {
          "base_uri": "https://localhost:8080/"
        },
        "id": "wNL_j8lNCORy",
        "outputId": "527eaa5f-7f80-4236-f9eb-7d9c24605530"
      },
      "execution_count": 66,
      "outputs": [
        {
          "output_type": "execute_result",
          "data": {
            "text/plain": [
              "array([[1.        , 0.        , 0.        , ..., 0.        , 0.01624469,\n",
              "        0.        ],\n",
              "       [0.        , 1.        , 0.        , ..., 0.        , 0.        ,\n",
              "        0.        ],\n",
              "       [0.        , 0.        , 1.        , ..., 0.        , 0.        ,\n",
              "        0.03650444],\n",
              "       ...,\n",
              "       [0.        , 0.        , 0.        , ..., 1.        , 0.        ,\n",
              "        0.        ],\n",
              "       [0.01624469, 0.        , 0.        , ..., 0.        , 1.        ,\n",
              "        0.        ],\n",
              "       [0.        , 0.        , 0.03650444, ..., 0.        , 0.        ,\n",
              "        1.        ]])"
            ]
          },
          "metadata": {},
          "execution_count": 66
        }
      ]
    },
    {
      "cell_type": "code",
      "source": [
        "cosine_sim.shape"
      ],
      "metadata": {
        "colab": {
          "base_uri": "https://localhost:8080/"
        },
        "id": "aedCHcJJDBIx",
        "outputId": "725d953e-fc1a-44f5-db71-464a333650f5"
      },
      "execution_count": 67,
      "outputs": [
        {
          "output_type": "execute_result",
          "data": {
            "text/plain": [
              "(6131, 6131)"
            ]
          },
          "metadata": {},
          "execution_count": 67
        }
      ]
    },
    {
      "cell_type": "code",
      "source": [
        "indices = pd.Series(netflix_movies.index, index=netflix_movies['title']).drop_duplicates()\n",
        "indices"
      ],
      "metadata": {
        "id": "FkxmrWfxDG-Z",
        "colab": {
          "base_uri": "https://localhost:8080/"
        },
        "outputId": "d7573f32-fea2-4ea0-ec44-de699cc20d64"
      },
      "execution_count": 68,
      "outputs": [
        {
          "output_type": "execute_result",
          "data": {
            "text/plain": [
              "title\n",
              "Dick Johnson Is Dead                   0\n",
              "My Little Pony: A New Generation       6\n",
              "Sankofa                                7\n",
              "The Starling                           9\n",
              "Je Suis Karl                          12\n",
              "                                    ... \n",
              "Zinzana                             8801\n",
              "Zodiac                              8802\n",
              "Zombieland                          8804\n",
              "Zoom                                8805\n",
              "Zubaan                              8806\n",
              "Length: 6131, dtype: int64"
            ]
          },
          "metadata": {},
          "execution_count": 68
        }
      ]
    },
    {
      "cell_type": "code",
      "source": [
        "cosine_sim_df = pd.DataFrame(cosine_sim)\n",
        "\n",
        "cosine_sim_df.columns = indices.index\n",
        "\n",
        "cosine_sim_df['title'] = indices.index\n",
        "cosine_sim_df = cosine_sim_df.set_index('title')\n",
        "\n",
        "cosine_sim_df.head()"
      ],
      "metadata": {
        "colab": {
          "base_uri": "https://localhost:8080/",
          "height": 557
        },
        "id": "Co8qZqFUgC0E",
        "outputId": "0d3fa352-0647-4c46-b185-cd2912bf7e6e"
      },
      "execution_count": 69,
      "outputs": [
        {
          "output_type": "execute_result",
          "data": {
            "text/plain": [
              "title                             Dick Johnson Is Dead  \\\n",
              "title                                                    \n",
              "Dick Johnson Is Dead                          1.000000   \n",
              "My Little Pony: A New Generation              0.000000   \n",
              "Sankofa                                       0.000000   \n",
              "The Starling                                  0.018285   \n",
              "Je Suis Karl                                  0.000000   \n",
              "\n",
              "title                             My Little Pony: A New Generation  Sankofa  \\\n",
              "title                                                                         \n",
              "Dick Johnson Is Dead                                           0.0      0.0   \n",
              "My Little Pony: A New Generation                               1.0      0.0   \n",
              "Sankofa                                                        0.0      1.0   \n",
              "The Starling                                                   0.0      0.0   \n",
              "Je Suis Karl                                                   0.0      0.0   \n",
              "\n",
              "title                             The Starling  Je Suis Karl  \\\n",
              "title                                                          \n",
              "Dick Johnson Is Dead                  0.018285      0.000000   \n",
              "My Little Pony: A New Generation      0.000000      0.000000   \n",
              "Sankofa                               0.000000      0.000000   \n",
              "The Starling                          1.000000      0.029133   \n",
              "Je Suis Karl                          0.029133      1.000000   \n",
              "\n",
              "title                             Confessions of an Invisible Girl  \\\n",
              "title                                                                \n",
              "Dick Johnson Is Dead                                           0.0   \n",
              "My Little Pony: A New Generation                               0.0   \n",
              "Sankofa                                                        0.0   \n",
              "The Starling                                                   0.0   \n",
              "Je Suis Karl                                                   0.0   \n",
              "\n",
              "title                             Europe's Most Dangerous Man: Otto Skorzeny in Spain  \\\n",
              "title                                                                                   \n",
              "Dick Johnson Is Dead                                                       0.014848     \n",
              "My Little Pony: A New Generation                                           0.000000     \n",
              "Sankofa                                                                    0.000000     \n",
              "The Starling                                                               0.016294     \n",
              "Je Suis Karl                                                               0.000000     \n",
              "\n",
              "title                             Intrusion  Avvai Shanmughi  \\\n",
              "title                                                          \n",
              "Dick Johnson Is Dead                    0.0         0.023927   \n",
              "My Little Pony: A New Generation        0.0         0.000000   \n",
              "Sankofa                                 0.0         0.029736   \n",
              "The Starling                            0.0         0.000000   \n",
              "Je Suis Karl                            0.0         0.000000   \n",
              "\n",
              "title                             Go! Go! Cory Carson: Chrissy Takes the Wheel  \\\n",
              "title                                                                            \n",
              "Dick Johnson Is Dead                                                       0.0   \n",
              "My Little Pony: A New Generation                                           0.0   \n",
              "Sankofa                                                                    0.0   \n",
              "The Starling                                                               0.0   \n",
              "Je Suis Karl                                                               0.0   \n",
              "\n",
              "title                             ...  Young Tiger  Yours, Mine and Ours  \\\n",
              "title                             ...                                      \n",
              "Dick Johnson Is Dead              ...          0.0               0.02889   \n",
              "My Little Pony: A New Generation  ...          0.0               0.00000   \n",
              "Sankofa                           ...          0.0               0.00000   \n",
              "The Starling                      ...          0.0               0.00000   \n",
              "Je Suis Karl                      ...          0.0               0.00000   \n",
              "\n",
              "title                             اشتباك  Zed Plus  Zenda  Zinzana  Zodiac  \\\n",
              "title                                                                        \n",
              "Dick Johnson Is Dead                 0.0       0.0    0.0      0.0     0.0   \n",
              "My Little Pony: A New Generation     0.0       0.0    0.0      0.0     0.0   \n",
              "Sankofa                              0.0       0.0    0.0      0.0     0.0   \n",
              "The Starling                         0.0       0.0    0.0      0.0     0.0   \n",
              "Je Suis Karl                         0.0       0.0    0.0      0.0     0.0   \n",
              "\n",
              "title                             Zombieland      Zoom    Zubaan  \n",
              "title                                                             \n",
              "Dick Johnson Is Dead                0.000000  0.016245  0.000000  \n",
              "My Little Pony: A New Generation    0.000000  0.000000  0.000000  \n",
              "Sankofa                             0.000000  0.000000  0.036504  \n",
              "The Starling                        0.061674  0.017826  0.045998  \n",
              "Je Suis Karl                        0.000000  0.000000  0.028473  \n",
              "\n",
              "[5 rows x 6131 columns]"
            ],
            "text/html": [
              "\n",
              "  <div id=\"df-190278aa-93b1-4e88-9d19-c80736896b77\">\n",
              "    <div class=\"colab-df-container\">\n",
              "      <div>\n",
              "<style scoped>\n",
              "    .dataframe tbody tr th:only-of-type {\n",
              "        vertical-align: middle;\n",
              "    }\n",
              "\n",
              "    .dataframe tbody tr th {\n",
              "        vertical-align: top;\n",
              "    }\n",
              "\n",
              "    .dataframe thead th {\n",
              "        text-align: right;\n",
              "    }\n",
              "</style>\n",
              "<table border=\"1\" class=\"dataframe\">\n",
              "  <thead>\n",
              "    <tr style=\"text-align: right;\">\n",
              "      <th>title</th>\n",
              "      <th>Dick Johnson Is Dead</th>\n",
              "      <th>My Little Pony: A New Generation</th>\n",
              "      <th>Sankofa</th>\n",
              "      <th>The Starling</th>\n",
              "      <th>Je Suis Karl</th>\n",
              "      <th>Confessions of an Invisible Girl</th>\n",
              "      <th>Europe's Most Dangerous Man: Otto Skorzeny in Spain</th>\n",
              "      <th>Intrusion</th>\n",
              "      <th>Avvai Shanmughi</th>\n",
              "      <th>Go! Go! Cory Carson: Chrissy Takes the Wheel</th>\n",
              "      <th>...</th>\n",
              "      <th>Young Tiger</th>\n",
              "      <th>Yours, Mine and Ours</th>\n",
              "      <th>اشتباك</th>\n",
              "      <th>Zed Plus</th>\n",
              "      <th>Zenda</th>\n",
              "      <th>Zinzana</th>\n",
              "      <th>Zodiac</th>\n",
              "      <th>Zombieland</th>\n",
              "      <th>Zoom</th>\n",
              "      <th>Zubaan</th>\n",
              "    </tr>\n",
              "    <tr>\n",
              "      <th>title</th>\n",
              "      <th></th>\n",
              "      <th></th>\n",
              "      <th></th>\n",
              "      <th></th>\n",
              "      <th></th>\n",
              "      <th></th>\n",
              "      <th></th>\n",
              "      <th></th>\n",
              "      <th></th>\n",
              "      <th></th>\n",
              "      <th></th>\n",
              "      <th></th>\n",
              "      <th></th>\n",
              "      <th></th>\n",
              "      <th></th>\n",
              "      <th></th>\n",
              "      <th></th>\n",
              "      <th></th>\n",
              "      <th></th>\n",
              "      <th></th>\n",
              "      <th></th>\n",
              "    </tr>\n",
              "  </thead>\n",
              "  <tbody>\n",
              "    <tr>\n",
              "      <th>Dick Johnson Is Dead</th>\n",
              "      <td>1.000000</td>\n",
              "      <td>0.0</td>\n",
              "      <td>0.0</td>\n",
              "      <td>0.018285</td>\n",
              "      <td>0.000000</td>\n",
              "      <td>0.0</td>\n",
              "      <td>0.014848</td>\n",
              "      <td>0.0</td>\n",
              "      <td>0.023927</td>\n",
              "      <td>0.0</td>\n",
              "      <td>...</td>\n",
              "      <td>0.0</td>\n",
              "      <td>0.02889</td>\n",
              "      <td>0.0</td>\n",
              "      <td>0.0</td>\n",
              "      <td>0.0</td>\n",
              "      <td>0.0</td>\n",
              "      <td>0.0</td>\n",
              "      <td>0.000000</td>\n",
              "      <td>0.016245</td>\n",
              "      <td>0.000000</td>\n",
              "    </tr>\n",
              "    <tr>\n",
              "      <th>My Little Pony: A New Generation</th>\n",
              "      <td>0.000000</td>\n",
              "      <td>1.0</td>\n",
              "      <td>0.0</td>\n",
              "      <td>0.000000</td>\n",
              "      <td>0.000000</td>\n",
              "      <td>0.0</td>\n",
              "      <td>0.000000</td>\n",
              "      <td>0.0</td>\n",
              "      <td>0.000000</td>\n",
              "      <td>0.0</td>\n",
              "      <td>...</td>\n",
              "      <td>0.0</td>\n",
              "      <td>0.00000</td>\n",
              "      <td>0.0</td>\n",
              "      <td>0.0</td>\n",
              "      <td>0.0</td>\n",
              "      <td>0.0</td>\n",
              "      <td>0.0</td>\n",
              "      <td>0.000000</td>\n",
              "      <td>0.000000</td>\n",
              "      <td>0.000000</td>\n",
              "    </tr>\n",
              "    <tr>\n",
              "      <th>Sankofa</th>\n",
              "      <td>0.000000</td>\n",
              "      <td>0.0</td>\n",
              "      <td>1.0</td>\n",
              "      <td>0.000000</td>\n",
              "      <td>0.000000</td>\n",
              "      <td>0.0</td>\n",
              "      <td>0.000000</td>\n",
              "      <td>0.0</td>\n",
              "      <td>0.029736</td>\n",
              "      <td>0.0</td>\n",
              "      <td>...</td>\n",
              "      <td>0.0</td>\n",
              "      <td>0.00000</td>\n",
              "      <td>0.0</td>\n",
              "      <td>0.0</td>\n",
              "      <td>0.0</td>\n",
              "      <td>0.0</td>\n",
              "      <td>0.0</td>\n",
              "      <td>0.000000</td>\n",
              "      <td>0.000000</td>\n",
              "      <td>0.036504</td>\n",
              "    </tr>\n",
              "    <tr>\n",
              "      <th>The Starling</th>\n",
              "      <td>0.018285</td>\n",
              "      <td>0.0</td>\n",
              "      <td>0.0</td>\n",
              "      <td>1.000000</td>\n",
              "      <td>0.029133</td>\n",
              "      <td>0.0</td>\n",
              "      <td>0.016294</td>\n",
              "      <td>0.0</td>\n",
              "      <td>0.000000</td>\n",
              "      <td>0.0</td>\n",
              "      <td>...</td>\n",
              "      <td>0.0</td>\n",
              "      <td>0.00000</td>\n",
              "      <td>0.0</td>\n",
              "      <td>0.0</td>\n",
              "      <td>0.0</td>\n",
              "      <td>0.0</td>\n",
              "      <td>0.0</td>\n",
              "      <td>0.061674</td>\n",
              "      <td>0.017826</td>\n",
              "      <td>0.045998</td>\n",
              "    </tr>\n",
              "    <tr>\n",
              "      <th>Je Suis Karl</th>\n",
              "      <td>0.000000</td>\n",
              "      <td>0.0</td>\n",
              "      <td>0.0</td>\n",
              "      <td>0.029133</td>\n",
              "      <td>1.000000</td>\n",
              "      <td>0.0</td>\n",
              "      <td>0.000000</td>\n",
              "      <td>0.0</td>\n",
              "      <td>0.000000</td>\n",
              "      <td>0.0</td>\n",
              "      <td>...</td>\n",
              "      <td>0.0</td>\n",
              "      <td>0.00000</td>\n",
              "      <td>0.0</td>\n",
              "      <td>0.0</td>\n",
              "      <td>0.0</td>\n",
              "      <td>0.0</td>\n",
              "      <td>0.0</td>\n",
              "      <td>0.000000</td>\n",
              "      <td>0.000000</td>\n",
              "      <td>0.028473</td>\n",
              "    </tr>\n",
              "  </tbody>\n",
              "</table>\n",
              "<p>5 rows × 6131 columns</p>\n",
              "</div>\n",
              "      <button class=\"colab-df-convert\" onclick=\"convertToInteractive('df-190278aa-93b1-4e88-9d19-c80736896b77')\"\n",
              "              title=\"Convert this dataframe to an interactive table.\"\n",
              "              style=\"display:none;\">\n",
              "        \n",
              "  <svg xmlns=\"http://www.w3.org/2000/svg\" height=\"24px\"viewBox=\"0 0 24 24\"\n",
              "       width=\"24px\">\n",
              "    <path d=\"M0 0h24v24H0V0z\" fill=\"none\"/>\n",
              "    <path d=\"M18.56 5.44l.94 2.06.94-2.06 2.06-.94-2.06-.94-.94-2.06-.94 2.06-2.06.94zm-11 1L8.5 8.5l.94-2.06 2.06-.94-2.06-.94L8.5 2.5l-.94 2.06-2.06.94zm10 10l.94 2.06.94-2.06 2.06-.94-2.06-.94-.94-2.06-.94 2.06-2.06.94z\"/><path d=\"M17.41 7.96l-1.37-1.37c-.4-.4-.92-.59-1.43-.59-.52 0-1.04.2-1.43.59L10.3 9.45l-7.72 7.72c-.78.78-.78 2.05 0 2.83L4 21.41c.39.39.9.59 1.41.59.51 0 1.02-.2 1.41-.59l7.78-7.78 2.81-2.81c.8-.78.8-2.07 0-2.86zM5.41 20L4 18.59l7.72-7.72 1.47 1.35L5.41 20z\"/>\n",
              "  </svg>\n",
              "      </button>\n",
              "      \n",
              "  <style>\n",
              "    .colab-df-container {\n",
              "      display:flex;\n",
              "      flex-wrap:wrap;\n",
              "      gap: 12px;\n",
              "    }\n",
              "\n",
              "    .colab-df-convert {\n",
              "      background-color: #E8F0FE;\n",
              "      border: none;\n",
              "      border-radius: 50%;\n",
              "      cursor: pointer;\n",
              "      display: none;\n",
              "      fill: #1967D2;\n",
              "      height: 32px;\n",
              "      padding: 0 0 0 0;\n",
              "      width: 32px;\n",
              "    }\n",
              "\n",
              "    .colab-df-convert:hover {\n",
              "      background-color: #E2EBFA;\n",
              "      box-shadow: 0px 1px 2px rgba(60, 64, 67, 0.3), 0px 1px 3px 1px rgba(60, 64, 67, 0.15);\n",
              "      fill: #174EA6;\n",
              "    }\n",
              "\n",
              "    [theme=dark] .colab-df-convert {\n",
              "      background-color: #3B4455;\n",
              "      fill: #D2E3FC;\n",
              "    }\n",
              "\n",
              "    [theme=dark] .colab-df-convert:hover {\n",
              "      background-color: #434B5C;\n",
              "      box-shadow: 0px 1px 3px 1px rgba(0, 0, 0, 0.15);\n",
              "      filter: drop-shadow(0px 1px 2px rgba(0, 0, 0, 0.3));\n",
              "      fill: #FFFFFF;\n",
              "    }\n",
              "  </style>\n",
              "\n",
              "      <script>\n",
              "        const buttonEl =\n",
              "          document.querySelector('#df-190278aa-93b1-4e88-9d19-c80736896b77 button.colab-df-convert');\n",
              "        buttonEl.style.display =\n",
              "          google.colab.kernel.accessAllowed ? 'block' : 'none';\n",
              "\n",
              "        async function convertToInteractive(key) {\n",
              "          const element = document.querySelector('#df-190278aa-93b1-4e88-9d19-c80736896b77');\n",
              "          const dataTable =\n",
              "            await google.colab.kernel.invokeFunction('convertToInteractive',\n",
              "                                                     [key], {});\n",
              "          if (!dataTable) return;\n",
              "\n",
              "          const docLinkHtml = 'Like what you see? Visit the ' +\n",
              "            '<a target=\"_blank\" href=https://colab.research.google.com/notebooks/data_table.ipynb>data table notebook</a>'\n",
              "            + ' to learn more about interactive tables.';\n",
              "          element.innerHTML = '';\n",
              "          dataTable['output_type'] = 'display_data';\n",
              "          await google.colab.output.renderOutput(dataTable, element);\n",
              "          const docLink = document.createElement('div');\n",
              "          docLink.innerHTML = docLinkHtml;\n",
              "          element.appendChild(docLink);\n",
              "        }\n",
              "      </script>\n",
              "    </div>\n",
              "  </div>\n",
              "  "
            ]
          },
          "metadata": {},
          "execution_count": 69
        }
      ]
    },
    {
      "cell_type": "code",
      "source": [
        "def get_recomendations(title, cosine_sim=cosine_sim_df):\n",
        "  idx = indices[title]\n",
        "\n",
        "  # Получаем похожести для этого фильма\n",
        "  sim_scores = list(enumerate(cosine_sim_df.loc[title]))\n",
        "\n",
        "  # Сортируем фильмы, основываясь на похожести\n",
        "  sim_scores = sorted(sim_scores, key=lambda x : x[1], reverse=True)\n",
        "  sim_scores = sim_scores[1:11]\n",
        "\n",
        "  # Получаем индексы фильма\n",
        "  movie_indices = [i[0] for i in sim_scores]\n",
        "\n",
        "  return netflix_movies['title'].iloc[movie_indices]"
      ],
      "metadata": {
        "id": "aGqJPd3XgyGE"
      },
      "execution_count": 70,
      "outputs": []
    },
    {
      "cell_type": "markdown",
      "source": [
        "Рекомендации, основанные на сюжете"
      ],
      "metadata": {
        "id": "kGuw5ZrLh6Xm"
      }
    },
    {
      "cell_type": "code",
      "source": [
        "netflix_movies[netflix_movies['title'] == 'Last Breath'].description.iloc[0]"
      ],
      "metadata": {
        "colab": {
          "base_uri": "https://localhost:8080/",
          "height": 53
        },
        "id": "m6XCcknch5qc",
        "outputId": "037eafe3-51ff-4c4d-b3ac-8b3a61f378b2"
      },
      "execution_count": 72,
      "outputs": [
        {
          "output_type": "execute_result",
          "data": {
            "text/plain": [
              "'A commercial diver becomes trapped on the ocean floor with dwindling oxygen and little hope of a timely rescue, so he tries to save himself.'"
            ],
            "application/vnd.google.colaboratory.intrinsic+json": {
              "type": "string"
            }
          },
          "metadata": {},
          "execution_count": 72
        }
      ]
    },
    {
      "cell_type": "code",
      "source": [
        "get_recomendations('Last Breath')"
      ],
      "metadata": {
        "colab": {
          "base_uri": "https://localhost:8080/"
        },
        "id": "4BFXO5l8iT9q",
        "outputId": "188d6646-0f0d-4cfb-dc24-12c067b9e8ff"
      },
      "execution_count": 73,
      "outputs": [
        {
          "output_type": "execute_result",
          "data": {
            "text/plain": [
              "7061                                          In The Deep\n",
              "940                        Motu Patlu: Deep Sea Adventure\n",
              "2703                                               Mine 9\n",
              "6466                                       Chicken Little\n",
              "7616                               NOVA: Thai Cave Rescue\n",
              "636                                          The Ice Road\n",
              "5773    My Little Pony Equestria Girls: Legend of Ever...\n",
              "4616                                          Big Miracle\n",
              "895                                                Oxygen\n",
              "3070                                              Posesif\n",
              "Name: title, dtype: object"
            ]
          },
          "metadata": {},
          "execution_count": 73
        }
      ]
    },
    {
      "cell_type": "code",
      "source": [
        "netflix_movies[netflix_movies['title'] == 'In The Deep'].description.iloc[0]"
      ],
      "metadata": {
        "colab": {
          "base_uri": "https://localhost:8080/",
          "height": 53
        },
        "id": "vrADUR09ieO7",
        "outputId": "46e7bbb4-ac70-4a18-ce23-338cb05e6945"
      },
      "execution_count": 78,
      "outputs": [
        {
          "output_type": "execute_result",
          "data": {
            "text/plain": [
              "'With little oxygen left in their scuba tanks, two sisters are trapped in a shark cage at the bottom of the ocean while great whites circle nearby.'"
            ],
            "application/vnd.google.colaboratory.intrinsic+json": {
              "type": "string"
            }
          },
          "metadata": {},
          "execution_count": 78
        }
      ]
    },
    {
      "cell_type": "code",
      "source": [
        "cosine_sim_df['Last Breath'].sort_values(ascending=False)"
      ],
      "metadata": {
        "colab": {
          "base_uri": "https://localhost:8080/"
        },
        "id": "ttlo4UsYiwZB",
        "outputId": "776ab6e1-b687-4102-fb56-4134d3b3bb92"
      },
      "execution_count": 80,
      "outputs": [
        {
          "output_type": "execute_result",
          "data": {
            "text/plain": [
              "title\n",
              "Last Breath                       1.000000\n",
              "In The Deep                       0.263331\n",
              "Motu Patlu: Deep Sea Adventure    0.193887\n",
              "Mine 9                            0.152162\n",
              "Chicken Little                    0.141503\n",
              "                                    ...   \n",
              "The Lovers                        0.000000\n",
              "Seth Meyers: Lobby Baby           0.000000\n",
              "Luccas Neto in: Summer Camp       0.000000\n",
              "Shadow                            0.000000\n",
              "Zubaan                            0.000000\n",
              "Name: Last Breath, Length: 6131, dtype: float64"
            ]
          },
          "metadata": {},
          "execution_count": 80
        }
      ]
    }
  ]
}