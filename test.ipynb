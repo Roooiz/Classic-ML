{
  "nbformat": 4,
  "nbformat_minor": 0,
  "metadata": {
    "colab": {
      "provenance": [],
      "authorship_tag": "ABX9TyMH47+oK8+qJDI0plb05fU2",
      "include_colab_link": true
    },
    "kernelspec": {
      "name": "python3",
      "display_name": "Python 3"
    },
    "language_info": {
      "name": "python"
    }
  },
  "cells": [
    {
      "cell_type": "markdown",
      "metadata": {
        "id": "view-in-github",
        "colab_type": "text"
      },
      "source": [
        "<a href=\"https://colab.research.google.com/github/Roooiz/Classic-ML/blob/main/test.ipynb\" target=\"_parent\"><img src=\"https://colab.research.google.com/assets/colab-badge.svg\" alt=\"Open In Colab\"/></a>"
      ]
    },
    {
      "cell_type": "code",
      "execution_count": 1,
      "metadata": {
        "colab": {
          "base_uri": "https://localhost:8080/"
        },
        "id": "goMqJx9acIto",
        "outputId": "b4e79896-df65-4191-8d57-5cd3a67674f6"
      },
      "outputs": [
        {
          "output_type": "stream",
          "name": "stdout",
          "text": [
            "hello daniil\n"
          ]
        }
      ],
      "source": [
        "print(\"hello daniil\")"
      ]
    },
    {
      "cell_type": "markdown",
      "source": [
        "# Что-то написал\n",
        "## Еще что-то\n",
        "\n",
        "и еще что-то"
      ],
      "metadata": {
        "id": "bzhhYBaPdDR7"
      }
    },
    {
      "cell_type": "code",
      "source": [],
      "metadata": {
        "id": "cTXlIZXpdcUB"
      },
      "execution_count": null,
      "outputs": []
    }
  ]
}